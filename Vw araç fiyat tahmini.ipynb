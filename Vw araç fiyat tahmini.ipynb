{
 "cells": [
  {
   "cell_type": "code",
   "execution_count": 61,
   "metadata": {},
   "outputs": [],
   "source": [
    "import numpy as np # linear algebra\n",
    "import pandas as pd # data processing, CSV file I/O (e.g. pd.read_csv)\n",
    "import matplotlib.pyplot as plt\n",
    "import seaborn as sbn # seaborn, istatistiksel veri görselleştirmesi için kullanılan bir araçtır.Seaborn, Matplotlib'e dayanarak daha estetik ve kullanımı kolay grafikler oluşturmayı sağlar.\n",
    "from sklearn import preprocessing # etiketleme içim gerekli kütüphane\n",
    "\n",
    "# gerekli kütüphaneleri ekleyelim\n",
    "import xgboost as xgb\n",
    "from xgboost import XGBRegressor\n",
    "from sklearn.model_selection import train_test_split, GridSearchCV, cross_val_score\n",
    "from sklearn.metrics import mean_squared_error, r2_score\n",
    "from sklearn import model_selection\n",
    "\n"
   ]
  },
  {
   "cell_type": "markdown",
   "metadata": {},
   "source": [
    "Volkswagen Araba Fiyat Tahmini\n"
   ]
  },
  {
   "cell_type": "code",
   "execution_count": 3,
   "metadata": {},
   "outputs": [
    {
     "data": {
      "text/html": [
       "<div>\n",
       "<style scoped>\n",
       "    .dataframe tbody tr th:only-of-type {\n",
       "        vertical-align: middle;\n",
       "    }\n",
       "\n",
       "    .dataframe tbody tr th {\n",
       "        vertical-align: top;\n",
       "    }\n",
       "\n",
       "    .dataframe thead th {\n",
       "        text-align: right;\n",
       "    }\n",
       "</style>\n",
       "<table border=\"1\" class=\"dataframe\">\n",
       "  <thead>\n",
       "    <tr style=\"text-align: right;\">\n",
       "      <th></th>\n",
       "      <th>model</th>\n",
       "      <th>year</th>\n",
       "      <th>price</th>\n",
       "      <th>transmission</th>\n",
       "      <th>mileage</th>\n",
       "      <th>fuelType</th>\n",
       "      <th>tax</th>\n",
       "      <th>mpg</th>\n",
       "      <th>engineSize</th>\n",
       "    </tr>\n",
       "  </thead>\n",
       "  <tbody>\n",
       "    <tr>\n",
       "      <th>0</th>\n",
       "      <td>T-Roc</td>\n",
       "      <td>2019</td>\n",
       "      <td>25000</td>\n",
       "      <td>Automatic</td>\n",
       "      <td>13904</td>\n",
       "      <td>Diesel</td>\n",
       "      <td>145</td>\n",
       "      <td>49.6</td>\n",
       "      <td>2.0</td>\n",
       "    </tr>\n",
       "    <tr>\n",
       "      <th>1</th>\n",
       "      <td>T-Roc</td>\n",
       "      <td>2019</td>\n",
       "      <td>26883</td>\n",
       "      <td>Automatic</td>\n",
       "      <td>4562</td>\n",
       "      <td>Diesel</td>\n",
       "      <td>145</td>\n",
       "      <td>49.6</td>\n",
       "      <td>2.0</td>\n",
       "    </tr>\n",
       "    <tr>\n",
       "      <th>2</th>\n",
       "      <td>T-Roc</td>\n",
       "      <td>2019</td>\n",
       "      <td>20000</td>\n",
       "      <td>Manual</td>\n",
       "      <td>7414</td>\n",
       "      <td>Diesel</td>\n",
       "      <td>145</td>\n",
       "      <td>50.4</td>\n",
       "      <td>2.0</td>\n",
       "    </tr>\n",
       "    <tr>\n",
       "      <th>3</th>\n",
       "      <td>T-Roc</td>\n",
       "      <td>2019</td>\n",
       "      <td>33492</td>\n",
       "      <td>Automatic</td>\n",
       "      <td>4825</td>\n",
       "      <td>Petrol</td>\n",
       "      <td>145</td>\n",
       "      <td>32.5</td>\n",
       "      <td>2.0</td>\n",
       "    </tr>\n",
       "    <tr>\n",
       "      <th>4</th>\n",
       "      <td>T-Roc</td>\n",
       "      <td>2019</td>\n",
       "      <td>22900</td>\n",
       "      <td>Semi-Auto</td>\n",
       "      <td>6500</td>\n",
       "      <td>Petrol</td>\n",
       "      <td>150</td>\n",
       "      <td>39.8</td>\n",
       "      <td>1.5</td>\n",
       "    </tr>\n",
       "    <tr>\n",
       "      <th>...</th>\n",
       "      <td>...</td>\n",
       "      <td>...</td>\n",
       "      <td>...</td>\n",
       "      <td>...</td>\n",
       "      <td>...</td>\n",
       "      <td>...</td>\n",
       "      <td>...</td>\n",
       "      <td>...</td>\n",
       "      <td>...</td>\n",
       "    </tr>\n",
       "    <tr>\n",
       "      <th>15152</th>\n",
       "      <td>Eos</td>\n",
       "      <td>2012</td>\n",
       "      <td>5990</td>\n",
       "      <td>Manual</td>\n",
       "      <td>74000</td>\n",
       "      <td>Diesel</td>\n",
       "      <td>125</td>\n",
       "      <td>58.9</td>\n",
       "      <td>2.0</td>\n",
       "    </tr>\n",
       "    <tr>\n",
       "      <th>15153</th>\n",
       "      <td>Fox</td>\n",
       "      <td>2008</td>\n",
       "      <td>1799</td>\n",
       "      <td>Manual</td>\n",
       "      <td>88102</td>\n",
       "      <td>Petrol</td>\n",
       "      <td>145</td>\n",
       "      <td>46.3</td>\n",
       "      <td>1.2</td>\n",
       "    </tr>\n",
       "    <tr>\n",
       "      <th>15154</th>\n",
       "      <td>Fox</td>\n",
       "      <td>2009</td>\n",
       "      <td>1590</td>\n",
       "      <td>Manual</td>\n",
       "      <td>70000</td>\n",
       "      <td>Petrol</td>\n",
       "      <td>200</td>\n",
       "      <td>42.0</td>\n",
       "      <td>1.4</td>\n",
       "    </tr>\n",
       "    <tr>\n",
       "      <th>15155</th>\n",
       "      <td>Fox</td>\n",
       "      <td>2006</td>\n",
       "      <td>1250</td>\n",
       "      <td>Manual</td>\n",
       "      <td>82704</td>\n",
       "      <td>Petrol</td>\n",
       "      <td>150</td>\n",
       "      <td>46.3</td>\n",
       "      <td>1.2</td>\n",
       "    </tr>\n",
       "    <tr>\n",
       "      <th>15156</th>\n",
       "      <td>Fox</td>\n",
       "      <td>2007</td>\n",
       "      <td>2295</td>\n",
       "      <td>Manual</td>\n",
       "      <td>74000</td>\n",
       "      <td>Petrol</td>\n",
       "      <td>145</td>\n",
       "      <td>46.3</td>\n",
       "      <td>1.2</td>\n",
       "    </tr>\n",
       "  </tbody>\n",
       "</table>\n",
       "<p>15157 rows × 9 columns</p>\n",
       "</div>"
      ],
      "text/plain": [
       "        model  year  price transmission  mileage fuelType  tax   mpg  \\\n",
       "0       T-Roc  2019  25000    Automatic    13904   Diesel  145  49.6   \n",
       "1       T-Roc  2019  26883    Automatic     4562   Diesel  145  49.6   \n",
       "2       T-Roc  2019  20000       Manual     7414   Diesel  145  50.4   \n",
       "3       T-Roc  2019  33492    Automatic     4825   Petrol  145  32.5   \n",
       "4       T-Roc  2019  22900    Semi-Auto     6500   Petrol  150  39.8   \n",
       "...       ...   ...    ...          ...      ...      ...  ...   ...   \n",
       "15152     Eos  2012   5990       Manual    74000   Diesel  125  58.9   \n",
       "15153     Fox  2008   1799       Manual    88102   Petrol  145  46.3   \n",
       "15154     Fox  2009   1590       Manual    70000   Petrol  200  42.0   \n",
       "15155     Fox  2006   1250       Manual    82704   Petrol  150  46.3   \n",
       "15156     Fox  2007   2295       Manual    74000   Petrol  145  46.3   \n",
       "\n",
       "       engineSize  \n",
       "0             2.0  \n",
       "1             2.0  \n",
       "2             2.0  \n",
       "3             2.0  \n",
       "4             1.5  \n",
       "...           ...  \n",
       "15152         2.0  \n",
       "15153         1.2  \n",
       "15154         1.4  \n",
       "15155         1.2  \n",
       "15156         1.2  \n",
       "\n",
       "[15157 rows x 9 columns]"
      ]
     },
     "execution_count": 3,
     "metadata": {},
     "output_type": "execute_result"
    }
   ],
   "source": [
    "dataFrame = pd.read_csv(\"vw.csv\") # araç verimizi okuduk dataFrame olarak okunur\n",
    "dataFrame"
   ]
  },
  {
   "cell_type": "code",
   "execution_count": 4,
   "metadata": {},
   "outputs": [
    {
     "data": {
      "text/html": [
       "<div>\n",
       "<style scoped>\n",
       "    .dataframe tbody tr th:only-of-type {\n",
       "        vertical-align: middle;\n",
       "    }\n",
       "\n",
       "    .dataframe tbody tr th {\n",
       "        vertical-align: top;\n",
       "    }\n",
       "\n",
       "    .dataframe thead th {\n",
       "        text-align: right;\n",
       "    }\n",
       "</style>\n",
       "<table border=\"1\" class=\"dataframe\">\n",
       "  <thead>\n",
       "    <tr style=\"text-align: right;\">\n",
       "      <th></th>\n",
       "      <th>model</th>\n",
       "      <th>year</th>\n",
       "      <th>price</th>\n",
       "      <th>transmission</th>\n",
       "      <th>mileage</th>\n",
       "      <th>fuelType</th>\n",
       "      <th>tax</th>\n",
       "      <th>mpg</th>\n",
       "      <th>engineSize</th>\n",
       "    </tr>\n",
       "  </thead>\n",
       "  <tbody>\n",
       "    <tr>\n",
       "      <th>10803</th>\n",
       "      <td>Tiguan</td>\n",
       "      <td>2020</td>\n",
       "      <td>29790</td>\n",
       "      <td>Manual</td>\n",
       "      <td>5000</td>\n",
       "      <td>Diesel</td>\n",
       "      <td>145</td>\n",
       "      <td>47.9</td>\n",
       "      <td>2.0</td>\n",
       "    </tr>\n",
       "    <tr>\n",
       "      <th>5436</th>\n",
       "      <td>Golf</td>\n",
       "      <td>2019</td>\n",
       "      <td>20000</td>\n",
       "      <td>Manual</td>\n",
       "      <td>50</td>\n",
       "      <td>Diesel</td>\n",
       "      <td>145</td>\n",
       "      <td>62.8</td>\n",
       "      <td>2.0</td>\n",
       "    </tr>\n",
       "    <tr>\n",
       "      <th>12868</th>\n",
       "      <td>Up</td>\n",
       "      <td>2014</td>\n",
       "      <td>5200</td>\n",
       "      <td>Manual</td>\n",
       "      <td>15000</td>\n",
       "      <td>Petrol</td>\n",
       "      <td>20</td>\n",
       "      <td>62.8</td>\n",
       "      <td>1.0</td>\n",
       "    </tr>\n",
       "    <tr>\n",
       "      <th>8514</th>\n",
       "      <td>Polo</td>\n",
       "      <td>2016</td>\n",
       "      <td>9190</td>\n",
       "      <td>Manual</td>\n",
       "      <td>40404</td>\n",
       "      <td>Petrol</td>\n",
       "      <td>20</td>\n",
       "      <td>60.1</td>\n",
       "      <td>1.2</td>\n",
       "    </tr>\n",
       "    <tr>\n",
       "      <th>2767</th>\n",
       "      <td>Golf</td>\n",
       "      <td>2017</td>\n",
       "      <td>13995</td>\n",
       "      <td>Manual</td>\n",
       "      <td>17985</td>\n",
       "      <td>Petrol</td>\n",
       "      <td>150</td>\n",
       "      <td>58.9</td>\n",
       "      <td>1.0</td>\n",
       "    </tr>\n",
       "  </tbody>\n",
       "</table>\n",
       "</div>"
      ],
      "text/plain": [
       "         model  year  price transmission  mileage fuelType  tax   mpg  \\\n",
       "10803   Tiguan  2020  29790       Manual     5000   Diesel  145  47.9   \n",
       "5436      Golf  2019  20000       Manual       50   Diesel  145  62.8   \n",
       "12868       Up  2014   5200       Manual    15000   Petrol   20  62.8   \n",
       "8514      Polo  2016   9190       Manual    40404   Petrol   20  60.1   \n",
       "2767      Golf  2017  13995       Manual    17985   Petrol  150  58.9   \n",
       "\n",
       "       engineSize  \n",
       "10803         2.0  \n",
       "5436          2.0  \n",
       "12868         1.0  \n",
       "8514          1.2  \n",
       "2767          1.0  "
      ]
     },
     "execution_count": 4,
     "metadata": {},
     "output_type": "execute_result"
    }
   ],
   "source": [
    "dataFrame.sample(5) # Veri setimizdeki rastgele 5 örneği inceliyoruz"
   ]
  },
  {
   "cell_type": "markdown",
   "metadata": {},
   "source": [
    "Verinin İncelenmesi\n"
   ]
  },
  {
   "cell_type": "code",
   "execution_count": 5,
   "metadata": {},
   "outputs": [
    {
     "data": {
      "text/html": [
       "<div>\n",
       "<style scoped>\n",
       "    .dataframe tbody tr th:only-of-type {\n",
       "        vertical-align: middle;\n",
       "    }\n",
       "\n",
       "    .dataframe tbody tr th {\n",
       "        vertical-align: top;\n",
       "    }\n",
       "\n",
       "    .dataframe thead th {\n",
       "        text-align: right;\n",
       "    }\n",
       "</style>\n",
       "<table border=\"1\" class=\"dataframe\">\n",
       "  <thead>\n",
       "    <tr style=\"text-align: right;\">\n",
       "      <th></th>\n",
       "      <th>model</th>\n",
       "      <th>year</th>\n",
       "      <th>price</th>\n",
       "      <th>transmission</th>\n",
       "      <th>mileage</th>\n",
       "      <th>fuelType</th>\n",
       "      <th>tax</th>\n",
       "      <th>mpg</th>\n",
       "      <th>engineSize</th>\n",
       "    </tr>\n",
       "  </thead>\n",
       "  <tbody>\n",
       "    <tr>\n",
       "      <th>0</th>\n",
       "      <td>T-Roc</td>\n",
       "      <td>2019</td>\n",
       "      <td>25000</td>\n",
       "      <td>Automatic</td>\n",
       "      <td>13904</td>\n",
       "      <td>Diesel</td>\n",
       "      <td>145</td>\n",
       "      <td>49.6</td>\n",
       "      <td>2.0</td>\n",
       "    </tr>\n",
       "    <tr>\n",
       "      <th>1</th>\n",
       "      <td>T-Roc</td>\n",
       "      <td>2019</td>\n",
       "      <td>26883</td>\n",
       "      <td>Automatic</td>\n",
       "      <td>4562</td>\n",
       "      <td>Diesel</td>\n",
       "      <td>145</td>\n",
       "      <td>49.6</td>\n",
       "      <td>2.0</td>\n",
       "    </tr>\n",
       "    <tr>\n",
       "      <th>2</th>\n",
       "      <td>T-Roc</td>\n",
       "      <td>2019</td>\n",
       "      <td>20000</td>\n",
       "      <td>Manual</td>\n",
       "      <td>7414</td>\n",
       "      <td>Diesel</td>\n",
       "      <td>145</td>\n",
       "      <td>50.4</td>\n",
       "      <td>2.0</td>\n",
       "    </tr>\n",
       "    <tr>\n",
       "      <th>3</th>\n",
       "      <td>T-Roc</td>\n",
       "      <td>2019</td>\n",
       "      <td>33492</td>\n",
       "      <td>Automatic</td>\n",
       "      <td>4825</td>\n",
       "      <td>Petrol</td>\n",
       "      <td>145</td>\n",
       "      <td>32.5</td>\n",
       "      <td>2.0</td>\n",
       "    </tr>\n",
       "    <tr>\n",
       "      <th>4</th>\n",
       "      <td>T-Roc</td>\n",
       "      <td>2019</td>\n",
       "      <td>22900</td>\n",
       "      <td>Semi-Auto</td>\n",
       "      <td>6500</td>\n",
       "      <td>Petrol</td>\n",
       "      <td>150</td>\n",
       "      <td>39.8</td>\n",
       "      <td>1.5</td>\n",
       "    </tr>\n",
       "  </tbody>\n",
       "</table>\n",
       "</div>"
      ],
      "text/plain": [
       "    model  year  price transmission  mileage fuelType  tax   mpg  engineSize\n",
       "0   T-Roc  2019  25000    Automatic    13904   Diesel  145  49.6         2.0\n",
       "1   T-Roc  2019  26883    Automatic     4562   Diesel  145  49.6         2.0\n",
       "2   T-Roc  2019  20000       Manual     7414   Diesel  145  50.4         2.0\n",
       "3   T-Roc  2019  33492    Automatic     4825   Petrol  145  32.5         2.0\n",
       "4   T-Roc  2019  22900    Semi-Auto     6500   Petrol  150  39.8         1.5"
      ]
     },
     "execution_count": 5,
     "metadata": {},
     "output_type": "execute_result"
    }
   ],
   "source": [
    "dataFrame.head() # Veri seti'nin ilk 5 verisini inceleyelim"
   ]
  },
  {
   "cell_type": "code",
   "execution_count": 6,
   "metadata": {},
   "outputs": [
    {
     "data": {
      "text/html": [
       "<div>\n",
       "<style scoped>\n",
       "    .dataframe tbody tr th:only-of-type {\n",
       "        vertical-align: middle;\n",
       "    }\n",
       "\n",
       "    .dataframe tbody tr th {\n",
       "        vertical-align: top;\n",
       "    }\n",
       "\n",
       "    .dataframe thead th {\n",
       "        text-align: right;\n",
       "    }\n",
       "</style>\n",
       "<table border=\"1\" class=\"dataframe\">\n",
       "  <thead>\n",
       "    <tr style=\"text-align: right;\">\n",
       "      <th></th>\n",
       "      <th>count</th>\n",
       "      <th>mean</th>\n",
       "      <th>std</th>\n",
       "      <th>min</th>\n",
       "      <th>25%</th>\n",
       "      <th>50%</th>\n",
       "      <th>75%</th>\n",
       "      <th>max</th>\n",
       "    </tr>\n",
       "  </thead>\n",
       "  <tbody>\n",
       "    <tr>\n",
       "      <th>year</th>\n",
       "      <td>15157.0</td>\n",
       "      <td>2017.255789</td>\n",
       "      <td>2.053059</td>\n",
       "      <td>2000.0</td>\n",
       "      <td>2016.0</td>\n",
       "      <td>2017.0</td>\n",
       "      <td>2019.0</td>\n",
       "      <td>2020.0</td>\n",
       "    </tr>\n",
       "    <tr>\n",
       "      <th>price</th>\n",
       "      <td>15157.0</td>\n",
       "      <td>16838.952365</td>\n",
       "      <td>7755.015206</td>\n",
       "      <td>899.0</td>\n",
       "      <td>10990.0</td>\n",
       "      <td>15497.0</td>\n",
       "      <td>20998.0</td>\n",
       "      <td>69994.0</td>\n",
       "    </tr>\n",
       "    <tr>\n",
       "      <th>mileage</th>\n",
       "      <td>15157.0</td>\n",
       "      <td>22092.785644</td>\n",
       "      <td>21148.941635</td>\n",
       "      <td>1.0</td>\n",
       "      <td>5962.0</td>\n",
       "      <td>16393.0</td>\n",
       "      <td>31824.0</td>\n",
       "      <td>212000.0</td>\n",
       "    </tr>\n",
       "    <tr>\n",
       "      <th>tax</th>\n",
       "      <td>15157.0</td>\n",
       "      <td>112.744277</td>\n",
       "      <td>63.482617</td>\n",
       "      <td>0.0</td>\n",
       "      <td>30.0</td>\n",
       "      <td>145.0</td>\n",
       "      <td>145.0</td>\n",
       "      <td>580.0</td>\n",
       "    </tr>\n",
       "    <tr>\n",
       "      <th>mpg</th>\n",
       "      <td>15157.0</td>\n",
       "      <td>53.753355</td>\n",
       "      <td>13.642182</td>\n",
       "      <td>0.3</td>\n",
       "      <td>46.3</td>\n",
       "      <td>53.3</td>\n",
       "      <td>60.1</td>\n",
       "      <td>188.3</td>\n",
       "    </tr>\n",
       "    <tr>\n",
       "      <th>engineSize</th>\n",
       "      <td>15157.0</td>\n",
       "      <td>1.600693</td>\n",
       "      <td>0.461695</td>\n",
       "      <td>0.0</td>\n",
       "      <td>1.2</td>\n",
       "      <td>1.6</td>\n",
       "      <td>2.0</td>\n",
       "      <td>3.2</td>\n",
       "    </tr>\n",
       "  </tbody>\n",
       "</table>\n",
       "</div>"
      ],
      "text/plain": [
       "              count          mean           std     min      25%      50%  \\\n",
       "year        15157.0   2017.255789      2.053059  2000.0   2016.0   2017.0   \n",
       "price       15157.0  16838.952365   7755.015206   899.0  10990.0  15497.0   \n",
       "mileage     15157.0  22092.785644  21148.941635     1.0   5962.0  16393.0   \n",
       "tax         15157.0    112.744277     63.482617     0.0     30.0    145.0   \n",
       "mpg         15157.0     53.753355     13.642182     0.3     46.3     53.3   \n",
       "engineSize  15157.0      1.600693      0.461695     0.0      1.2      1.6   \n",
       "\n",
       "                75%       max  \n",
       "year         2019.0    2020.0  \n",
       "price       20998.0   69994.0  \n",
       "mileage     31824.0  212000.0  \n",
       "tax           145.0     580.0  \n",
       "mpg            60.1     188.3  \n",
       "engineSize      2.0       3.2  "
      ]
     },
     "execution_count": 6,
     "metadata": {},
     "output_type": "execute_result"
    }
   ],
   "source": [
    "\"\"\" \n",
    "DataFrame'in istatistiksel özetini transpozunu alıyoruz. \n",
    "Bu, her sütun için count, mean, std (standart sapma), min (minimum değer), 25%, 50% (median), 75% ve max (maksimum değer) istatistiklerini içerir.\n",
    "Bu şekilde, her bir özniteliğin istatistiksel özetini daha okunabilir bir şekilde görebiliriz.\n",
    "\"\"\"\n",
    "dataFrame.describe().T"
   ]
  },
  {
   "cell_type": "code",
   "execution_count": 7,
   "metadata": {},
   "outputs": [],
   "source": [
    "# dataFrame[(dataFrame.price<899.0) | (dataFrame.price>60000.0) | (dataFrame.mileage>200000.0)]\n"
   ]
  },
  {
   "cell_type": "code",
   "execution_count": 8,
   "metadata": {},
   "outputs": [
    {
     "data": {
      "text/plain": [
       "count     15157\n",
       "unique       27\n",
       "top        Golf\n",
       "freq       4863\n",
       "Name: model, dtype: object"
      ]
     },
     "execution_count": 8,
     "metadata": {},
     "output_type": "execute_result"
    }
   ],
   "source": [
    "dataFrame.model.describe()"
   ]
  },
  {
   "cell_type": "code",
   "execution_count": 9,
   "metadata": {},
   "outputs": [
    {
     "data": {
      "text/plain": [
       "model\n",
       "Golf               4863\n",
       "Polo               3287\n",
       "Tiguan             1765\n",
       "Passat              915\n",
       "Up                  884\n",
       "T-Roc               733\n",
       "Touareg             363\n",
       "Touran              352\n",
       "T-Cross             300\n",
       "Golf SV             268\n",
       "Sharan              260\n",
       "Arteon              248\n",
       "Scirocco            242\n",
       "Amarok              111\n",
       "Caravelle           101\n",
       "CC                   95\n",
       "Tiguan Allspace      91\n",
       "Beetle               83\n",
       "Shuttle              61\n",
       "Caddy Maxi Life      59\n",
       "Jetta                32\n",
       "California           15\n",
       "Caddy Life            8\n",
       "Eos                   7\n",
       "Caddy                 6\n",
       "Caddy Maxi            4\n",
       "Fox                   4\n",
       "Name: count, dtype: int64"
      ]
     },
     "execution_count": 9,
     "metadata": {},
     "output_type": "execute_result"
    }
   ],
   "source": [
    "dataFrame.model.value_counts()"
   ]
  },
  {
   "cell_type": "code",
   "execution_count": 10,
   "metadata": {},
   "outputs": [
    {
     "data": {
      "text/plain": [
       "array([' T-Roc', ' Golf', ' Passat', ' T-Cross', ' Polo', ' Tiguan',\n",
       "       ' Sharan', ' Up', ' Scirocco', ' Beetle', ' Caddy Maxi Life',\n",
       "       ' Caravelle', ' Touareg', ' Arteon', ' Touran', ' Golf SV',\n",
       "       ' Amarok', ' Tiguan Allspace', ' Shuttle', ' Jetta', ' CC',\n",
       "       ' California', ' Caddy Life', ' Caddy', ' Caddy Maxi', ' Eos',\n",
       "       ' Fox'], dtype=object)"
      ]
     },
     "execution_count": 10,
     "metadata": {},
     "output_type": "execute_result"
    }
   ],
   "source": [
    "dataFrame.model.unique()"
   ]
  },
  {
   "cell_type": "code",
   "execution_count": 11,
   "metadata": {},
   "outputs": [
    {
     "data": {
      "text/plain": [
       "count    15157.000000\n",
       "mean      2017.255789\n",
       "std          2.053059\n",
       "min       2000.000000\n",
       "25%       2016.000000\n",
       "50%       2017.000000\n",
       "75%       2019.000000\n",
       "max       2020.000000\n",
       "Name: year, dtype: float64"
      ]
     },
     "execution_count": 11,
     "metadata": {},
     "output_type": "execute_result"
    }
   ],
   "source": [
    "dataFrame.year.describe()"
   ]
  },
  {
   "cell_type": "code",
   "execution_count": 12,
   "metadata": {},
   "outputs": [
    {
     "data": {
      "text/plain": [
       "year\n",
       "2019    4669\n",
       "2017    2947\n",
       "2016    2647\n",
       "2018    1509\n",
       "2015    1153\n",
       "2020    1046\n",
       "2014     580\n",
       "2013     315\n",
       "2012      80\n",
       "2011      57\n",
       "2010      41\n",
       "2009      31\n",
       "2008      27\n",
       "2007      20\n",
       "2006      16\n",
       "2005       8\n",
       "2001       4\n",
       "2004       3\n",
       "2003       2\n",
       "2002       1\n",
       "2000       1\n",
       "Name: count, dtype: int64"
      ]
     },
     "execution_count": 12,
     "metadata": {},
     "output_type": "execute_result"
    }
   ],
   "source": [
    "dataFrame.year.value_counts()"
   ]
  },
  {
   "cell_type": "code",
   "execution_count": 13,
   "metadata": {},
   "outputs": [
    {
     "data": {
      "text/plain": [
       "array([2019, 2020, 2018, 2017, 2015, 2016, 2013, 2014, 2009, 2010, 2004,\n",
       "       2003, 2012, 2011, 2008, 2000, 2006, 2002, 2005, 2007, 2001],\n",
       "      dtype=int64)"
      ]
     },
     "execution_count": 13,
     "metadata": {},
     "output_type": "execute_result"
    }
   ],
   "source": [
    "dataFrame.year.unique()"
   ]
  },
  {
   "cell_type": "code",
   "execution_count": 14,
   "metadata": {},
   "outputs": [
    {
     "data": {
      "text/plain": [
       "count      15157\n",
       "unique         4\n",
       "top       Petrol\n",
       "freq        8553\n",
       "Name: fuelType, dtype: object"
      ]
     },
     "execution_count": 14,
     "metadata": {},
     "output_type": "execute_result"
    }
   ],
   "source": [
    "dataFrame.fuelType.describe()"
   ]
  },
  {
   "cell_type": "code",
   "execution_count": 15,
   "metadata": {},
   "outputs": [
    {
     "data": {
      "text/plain": [
       "fuelType\n",
       "Petrol    8553\n",
       "Diesel    6372\n",
       "Hybrid     145\n",
       "Other       87\n",
       "Name: count, dtype: int64"
      ]
     },
     "execution_count": 15,
     "metadata": {},
     "output_type": "execute_result"
    }
   ],
   "source": [
    "dataFrame.fuelType.value_counts()"
   ]
  },
  {
   "cell_type": "code",
   "execution_count": 16,
   "metadata": {},
   "outputs": [
    {
     "data": {
      "text/plain": [
       "array(['Diesel', 'Petrol', 'Other', 'Hybrid'], dtype=object)"
      ]
     },
     "execution_count": 16,
     "metadata": {},
     "output_type": "execute_result"
    }
   ],
   "source": [
    "dataFrame.fuelType.unique()"
   ]
  },
  {
   "cell_type": "code",
   "execution_count": 17,
   "metadata": {},
   "outputs": [
    {
     "data": {
      "text/plain": [
       "<Axes: ylabel='fuelType'>"
      ]
     },
     "execution_count": 17,
     "metadata": {},
     "output_type": "execute_result"
    },
    {
     "data": {
      "image/png": "[encoded data removed]",
      "text/plain": [
       "<Figure size 640x480 with 1 Axes>"
      ]
     },
     "metadata": {},
     "output_type": "display_data"
    }
   ],
   "source": [
    "dataFrame.fuelType.value_counts().plot.barh()"
   ]
  },
  {
   "cell_type": "code",
   "execution_count": 18,
   "metadata": {},
   "outputs": [
    {
     "data": {
      "text/plain": [
       "Text(0, 0.5, 'Yakıt Tipi')"
      ]
     },
     "execution_count": 18,
     "metadata": {},
     "output_type": "execute_result"
    },
    {
     "data": {
      "image/png": "[encoded data removed]",
      "text/plain": [
       "<Figure size 500x1500 with 1 Axes>"
      ]
     },
     "metadata": {},
     "output_type": "display_data"
    }
   ],
   "source": [
    "fig = plt.figure(figsize=(5,15))\n",
    "dataFrame.fuelType.value_counts().plot(kind='pie',autopct='%.1f%%')\n",
    "plt.ylabel(\"Yakıt Tipi\", fontsize=20)"
   ]
  },
  {
   "cell_type": "code",
   "execution_count": 19,
   "metadata": {},
   "outputs": [
    {
     "data": {
      "text/plain": [
       "count      15157\n",
       "unique         3\n",
       "top       Manual\n",
       "freq        9417\n",
       "Name: transmission, dtype: object"
      ]
     },
     "execution_count": 19,
     "metadata": {},
     "output_type": "execute_result"
    }
   ],
   "source": [
    "dataFrame.transmission.describe()"
   ]
  },
  {
   "cell_type": "code",
   "execution_count": 20,
   "metadata": {},
   "outputs": [
    {
     "data": {
      "text/plain": [
       "transmission\n",
       "Manual       9417\n",
       "Semi-Auto    3780\n",
       "Automatic    1960\n",
       "Name: count, dtype: int64"
      ]
     },
     "execution_count": 20,
     "metadata": {},
     "output_type": "execute_result"
    }
   ],
   "source": [
    "dataFrame.transmission.value_counts()"
   ]
  },
  {
   "cell_type": "code",
   "execution_count": 21,
   "metadata": {},
   "outputs": [
    {
     "data": {
      "text/plain": [
       "array(['Automatic', 'Manual', 'Semi-Auto'], dtype=object)"
      ]
     },
     "execution_count": 21,
     "metadata": {},
     "output_type": "execute_result"
    }
   ],
   "source": [
    "dataFrame.transmission.unique()"
   ]
  },
  {
   "cell_type": "code",
   "execution_count": 22,
   "metadata": {},
   "outputs": [
    {
     "data": {
      "text/plain": [
       "Text(0, 0.5, 'Vites Tipi')"
      ]
     },
     "execution_count": 22,
     "metadata": {},
     "output_type": "execute_result"
    },
    {
     "data": {
      "image/png": "[encoded data removed]",
      "text/plain": [
       "<Figure size 500x1500 with 1 Axes>"
      ]
     },
     "metadata": {},
     "output_type": "display_data"
    }
   ],
   "source": [
    "fig = plt.figure(figsize=(5,15))\n",
    "dataFrame.transmission.value_counts().plot(kind='pie',autopct='%.1f%%')\n",
    "plt.ylabel(\"Vites Tipi\", fontsize=20)"
   ]
  },
  {
   "cell_type": "code",
   "execution_count": 23,
   "metadata": {},
   "outputs": [
    {
     "data": {
      "text/plain": [
       "count    15157.000000\n",
       "mean         1.600693\n",
       "std          0.461695\n",
       "min          0.000000\n",
       "25%          1.200000\n",
       "50%          1.600000\n",
       "75%          2.000000\n",
       "max          3.200000\n",
       "Name: engineSize, dtype: float64"
      ]
     },
     "execution_count": 23,
     "metadata": {},
     "output_type": "execute_result"
    }
   ],
   "source": [
    "dataFrame.engineSize.describe()"
   ]
  },
  {
   "cell_type": "code",
   "execution_count": 24,
   "metadata": {},
   "outputs": [
    {
     "data": {
      "text/plain": [
       "<Axes: ylabel='engineSize'>"
      ]
     },
     "execution_count": 24,
     "metadata": {},
     "output_type": "execute_result"
    },
    {
     "data": {
      "image/png": "[encoded data removed]",
      "text/plain": [
       "<Figure size 640x480 with 1 Axes>"
      ]
     },
     "metadata": {},
     "output_type": "display_data"
    }
   ],
   "source": [
    "dataFrame.engineSize.value_counts().plot.barh()"
   ]
  },
  {
   "cell_type": "code",
   "execution_count": 25,
   "metadata": {},
   "outputs": [
    {
     "data": {
      "text/plain": [
       "array([2. , 1.5, 1. , 1.6, 0. , 1.4, 3.2, 1.2, 1.9, 1.8, 2.5, 3. ])"
      ]
     },
     "execution_count": 25,
     "metadata": {},
     "output_type": "execute_result"
    }
   ],
   "source": [
    "dataFrame.engineSize.unique()"
   ]
  },
  {
   "cell_type": "code",
   "execution_count": 26,
   "metadata": {},
   "outputs": [
    {
     "data": {
      "text/plain": [
       "<Axes: ylabel='price'>"
      ]
     },
     "execution_count": 26,
     "metadata": {},
     "output_type": "execute_result"
    },
    {
     "data": {
      "image/png": "[encoded data removed]",
      "text/plain": [
       "<Figure size 640x480 with 1 Axes>"
      ]
     },
     "metadata": {},
     "output_type": "display_data"
    }
   ],
   "source": [
    "dataFrame.price.value_counts().plot.barh()"
   ]
  },
  {
   "cell_type": "code",
   "execution_count": 27,
   "metadata": {},
   "outputs": [
    {
     "name": "stderr",
     "output_type": "stream",
     "text": [
      "C:\\Users\\baha_\\AppData\\Local\\Temp\\ipykernel_17224\\1971519577.py:1: UserWarning: \n",
      "\n",
      "`distplot` is a deprecated function and will be removed in seaborn v0.14.0.\n",
      "\n",
      "Please adapt your code to use either `displot` (a figure-level function with\n",
      "similar flexibility) or `histplot` (an axes-level function for histograms).\n",
      "\n",
      "For a guide to updating your code to use the new functions, please see\n",
      "https://gist.github.com/mwaskom/de44147ed2974457ad6372750bbe5751\n",
      "\n",
      "  sbn.distplot(dataFrame[\"price\"],kde=False, norm_hist=True) # Fiyatların grafiğe dökülmesi\n"
     ]
    },
    {
     "data": {
      "text/plain": [
       "'\\ndataFrame[\"price\"]: Bu, görselleştirmek istediğiniz veri setinin belirli bir sütununu seçer. Örneğin, \"price\" sütunu bir araba fiyatlarını içeriyor, bu sütunun dağılımını görselleştirmek istiyoruz.\\n#kde=False: Bu parametre, çekirdek yoğunluk tahmininin (Kernel Density Estimation) gösterilmesini engeller. Yani, grafikte çizgi halinde bir yoğunluk tahmini çizilmez.\\nnorm_hist=True: Bu parametre, histogramın yoğunluklarının normalize edilmesini sağlar. Yani, toplam alan 1\\'e eşit olacak şekilde ayarlanır.\\n'"
      ]
     },
     "execution_count": 27,
     "metadata": {},
     "output_type": "execute_result"
    },
    {
     "data": {
      "image/png": "[encoded data removed]",
      "text/plain": [
       "<Figure size 640x480 with 1 Axes>"
      ]
     },
     "metadata": {},
     "output_type": "display_data"
    }
   ],
   "source": [
    "sbn.distplot(dataFrame[\"price\"],kde=False, norm_hist=True) # Fiyatların grafiğe dökülmesi\n",
    "'''\n",
    "dataFrame[\"price\"]: Bu, görselleştirmek istediğiniz veri setinin belirli bir sütununu seçer. Örneğin, \"price\" sütunu bir araba fiyatlarını içeriyor, bu sütunun dağılımını görselleştirmek istiyoruz.\n",
    "#kde=False: Bu parametre, çekirdek yoğunluk tahmininin (Kernel Density Estimation) gösterilmesini engeller. Yani, grafikte çizgi halinde bir yoğunluk tahmini çizilmez.\n",
    "norm_hist=True: Bu parametre, histogramın yoğunluklarının normalize edilmesini sağlar. Yani, toplam alan 1'e eşit olacak şekilde ayarlanır.\n",
    "'''"
   ]
  },
  {
   "cell_type": "code",
   "execution_count": 28,
   "metadata": {},
   "outputs": [
    {
     "data": {
      "text/plain": [
       "(array([' T-Roc', ' Golf', ' Passat', ' T-Cross', ' Polo', ' Tiguan',\n",
       "        ' Sharan', ' Up', ' Scirocco', ' Beetle', ' Caddy Maxi Life',\n",
       "        ' Caravelle', ' Touareg', ' Arteon', ' Touran', ' Golf SV',\n",
       "        ' Amarok', ' Tiguan Allspace', ' Shuttle', ' Jetta', ' CC',\n",
       "        ' California', ' Caddy Life', ' Caddy', ' Caddy Maxi', ' Eos',\n",
       "        ' Fox'], dtype=object),\n",
       " array(['Automatic', 'Manual', 'Semi-Auto'], dtype=object),\n",
       " array(['Diesel', 'Petrol', 'Other', 'Hybrid'], dtype=object))"
      ]
     },
     "execution_count": 28,
     "metadata": {},
     "output_type": "execute_result"
    }
   ],
   "source": [
    "\"\"\" \n",
    "Veri tipi object olan featureleri tanıyalım. Daha iyi bir model eğitmek için int veya float olabilecek object veri tiplerini düzelterek çevirmeliyiz.\n",
    "\"unique methodu benzersiz değerleri geri dönderir yani tekrarları atar.\" \n",
    "\"\"\"\n",
    "dataFrame[\"model\"].unique() , dataFrame[\"transmission\"].unique() , dataFrame[\"fuelType\"].unique()"
   ]
  },
  {
   "cell_type": "code",
   "execution_count": 29,
   "metadata": {},
   "outputs": [
    {
     "data": {
      "text/plain": [
       "engineSize\n",
       "2.0    5570\n",
       "1.0    3121\n",
       "1.6    1629\n",
       "1.4    1536\n",
       "1.5    1446\n",
       "1.2    1304\n",
       "3.0     450\n",
       "1.8      77\n",
       "0.0      15\n",
       "1.9       4\n",
       "2.5       3\n",
       "3.2       2\n",
       "Name: count, dtype: int64"
      ]
     },
     "execution_count": 29,
     "metadata": {},
     "output_type": "execute_result"
    }
   ],
   "source": [
    "dataFrame.engineSize.value_counts()"
   ]
  },
  {
   "cell_type": "code",
   "execution_count": 30,
   "metadata": {},
   "outputs": [
    {
     "name": "stdout",
     "output_type": "stream",
     "text": [
      "<class 'pandas.core.frame.DataFrame'>\n",
      "RangeIndex: 15157 entries, 0 to 15156\n",
      "Data columns (total 9 columns):\n",
      " #   Column        Non-Null Count  Dtype  \n",
      "---  ------        --------------  -----  \n",
      " 0   model         15157 non-null  object \n",
      " 1   year          15157 non-null  int64  \n",
      " 2   price         15157 non-null  int64  \n",
      " 3   transmission  15157 non-null  object \n",
      " 4   mileage       15157 non-null  int64  \n",
      " 5   fuelType      15157 non-null  object \n",
      " 6   tax           15157 non-null  int64  \n",
      " 7   mpg           15157 non-null  float64\n",
      " 8   engineSize    15157 non-null  float64\n",
      "dtypes: float64(2), int64(4), object(3)\n",
      "memory usage: 1.0+ MB\n"
     ]
    }
   ],
   "source": [
    "# Tanımlanmış yapıları kontrol edelim\n",
    "dataFrame.info() "
   ]
  },
  {
   "cell_type": "code",
   "execution_count": 31,
   "metadata": {},
   "outputs": [
    {
     "data": {
      "text/plain": [
       "model           0\n",
       "year            0\n",
       "price           0\n",
       "transmission    0\n",
       "mileage         0\n",
       "fuelType        0\n",
       "tax             0\n",
       "mpg             0\n",
       "engineSize      0\n",
       "dtype: int64"
      ]
     },
     "execution_count": 31,
     "metadata": {},
     "output_type": "execute_result"
    }
   ],
   "source": [
    "# Eksik gözlem değerimiz var mı ona bakalım\n",
    "dataFrame.isnull().sum()"
   ]
  },
  {
   "cell_type": "markdown",
   "metadata": {},
   "source": [
    "Verilerimizi inceledik, etiketleme işlemlerine geçebiliriz"
   ]
  },
  {
   "cell_type": "code",
   "execution_count": 32,
   "metadata": {},
   "outputs": [],
   "source": [
    "LabelEncoder=preprocessing.LabelEncoder() # # etiketleyici nesnemizi oluşturalım"
   ]
  },
  {
   "cell_type": "code",
   "execution_count": 33,
   "metadata": {},
   "outputs": [],
   "source": [
    "\"\"\"\n",
    "sütunlarımızı makine öğrenmesine hazır hale getirmek için etiketleyip uygun formata sokalım\n",
    "fit_transform ile etiketleme yapmış oluruz.\n",
    "\"\"\"\n",
    "dataFrame[\"model\"] = LabelEncoder.fit_transform(dataFrame.model).astype('int64')"
   ]
  },
  {
   "cell_type": "code",
   "execution_count": 34,
   "metadata": {},
   "outputs": [
    {
     "data": {
      "text/plain": [
       "array([21, 12, 15, 20, 16, 22, 18, 26, 17,  2,  7,  9, 24,  1, 25, 13,  0,\n",
       "       23, 19, 14,  3,  8,  5,  4,  6, 10, 11], dtype=int64)"
      ]
     },
     "execution_count": 34,
     "metadata": {},
     "output_type": "execute_result"
    }
   ],
   "source": [
    "dataFrame.model.unique()"
   ]
  },
  {
   "cell_type": "code",
   "execution_count": 35,
   "metadata": {},
   "outputs": [],
   "source": [
    "dataFrame[\"transmission\"] = LabelEncoder.fit_transform(dataFrame.transmission).astype('int64')"
   ]
  },
  {
   "cell_type": "code",
   "execution_count": 36,
   "metadata": {},
   "outputs": [
    {
     "data": {
      "text/plain": [
       "array(['Automatic', 'Manual', 'Semi-Auto'], dtype=object)"
      ]
     },
     "execution_count": 36,
     "metadata": {},
     "output_type": "execute_result"
    }
   ],
   "source": [
    "LabelEncoder.classes_ # etiketlediğimiz verileri görebiliriz böyle"
   ]
  },
  {
   "cell_type": "code",
   "execution_count": 37,
   "metadata": {},
   "outputs": [
    {
     "data": {
      "text/plain": [
       "array([0, 1, 2], dtype=int64)"
      ]
     },
     "execution_count": 37,
     "metadata": {},
     "output_type": "execute_result"
    }
   ],
   "source": [
    "dataFrame.transmission.unique()"
   ]
  },
  {
   "cell_type": "code",
   "execution_count": 38,
   "metadata": {},
   "outputs": [],
   "source": [
    "dataFrame[\"fuelType\"] = LabelEncoder.fit_transform(dataFrame.fuelType).astype('int64')"
   ]
  },
  {
   "cell_type": "code",
   "execution_count": 39,
   "metadata": {},
   "outputs": [
    {
     "data": {
      "text/plain": [
       "array(['Diesel', 'Hybrid', 'Other', 'Petrol'], dtype=object)"
      ]
     },
     "execution_count": 39,
     "metadata": {},
     "output_type": "execute_result"
    }
   ],
   "source": [
    "LabelEncoder.classes_ # etiketlediğimiz verileri görebiliriz böyle"
   ]
  },
  {
   "cell_type": "code",
   "execution_count": 40,
   "metadata": {},
   "outputs": [
    {
     "data": {
      "text/plain": [
       "array([0, 3, 2, 1], dtype=int64)"
      ]
     },
     "execution_count": 40,
     "metadata": {},
     "output_type": "execute_result"
    }
   ],
   "source": [
    "dataFrame.fuelType.unique()"
   ]
  },
  {
   "cell_type": "code",
   "execution_count": 41,
   "metadata": {},
   "outputs": [
    {
     "data": {
      "text/html": [
       "<div>\n",
       "<style scoped>\n",
       "    .dataframe tbody tr th:only-of-type {\n",
       "        vertical-align: middle;\n",
       "    }\n",
       "\n",
       "    .dataframe tbody tr th {\n",
       "        vertical-align: top;\n",
       "    }\n",
       "\n",
       "    .dataframe thead th {\n",
       "        text-align: right;\n",
       "    }\n",
       "</style>\n",
       "<table border=\"1\" class=\"dataframe\">\n",
       "  <thead>\n",
       "    <tr style=\"text-align: right;\">\n",
       "      <th></th>\n",
       "      <th>model</th>\n",
       "      <th>year</th>\n",
       "      <th>price</th>\n",
       "      <th>transmission</th>\n",
       "      <th>mileage</th>\n",
       "      <th>fuelType</th>\n",
       "      <th>tax</th>\n",
       "      <th>mpg</th>\n",
       "      <th>engineSize</th>\n",
       "    </tr>\n",
       "  </thead>\n",
       "  <tbody>\n",
       "    <tr>\n",
       "      <th>0</th>\n",
       "      <td>21</td>\n",
       "      <td>2019</td>\n",
       "      <td>25000</td>\n",
       "      <td>0</td>\n",
       "      <td>13904</td>\n",
       "      <td>0</td>\n",
       "      <td>145</td>\n",
       "      <td>49.6</td>\n",
       "      <td>2.0</td>\n",
       "    </tr>\n",
       "    <tr>\n",
       "      <th>1</th>\n",
       "      <td>21</td>\n",
       "      <td>2019</td>\n",
       "      <td>26883</td>\n",
       "      <td>0</td>\n",
       "      <td>4562</td>\n",
       "      <td>0</td>\n",
       "      <td>145</td>\n",
       "      <td>49.6</td>\n",
       "      <td>2.0</td>\n",
       "    </tr>\n",
       "    <tr>\n",
       "      <th>2</th>\n",
       "      <td>21</td>\n",
       "      <td>2019</td>\n",
       "      <td>20000</td>\n",
       "      <td>1</td>\n",
       "      <td>7414</td>\n",
       "      <td>0</td>\n",
       "      <td>145</td>\n",
       "      <td>50.4</td>\n",
       "      <td>2.0</td>\n",
       "    </tr>\n",
       "    <tr>\n",
       "      <th>3</th>\n",
       "      <td>21</td>\n",
       "      <td>2019</td>\n",
       "      <td>33492</td>\n",
       "      <td>0</td>\n",
       "      <td>4825</td>\n",
       "      <td>3</td>\n",
       "      <td>145</td>\n",
       "      <td>32.5</td>\n",
       "      <td>2.0</td>\n",
       "    </tr>\n",
       "    <tr>\n",
       "      <th>4</th>\n",
       "      <td>21</td>\n",
       "      <td>2019</td>\n",
       "      <td>22900</td>\n",
       "      <td>2</td>\n",
       "      <td>6500</td>\n",
       "      <td>3</td>\n",
       "      <td>150</td>\n",
       "      <td>39.8</td>\n",
       "      <td>1.5</td>\n",
       "    </tr>\n",
       "  </tbody>\n",
       "</table>\n",
       "</div>"
      ],
      "text/plain": [
       "   model  year  price  transmission  mileage  fuelType  tax   mpg  engineSize\n",
       "0     21  2019  25000             0    13904         0  145  49.6         2.0\n",
       "1     21  2019  26883             0     4562         0  145  49.6         2.0\n",
       "2     21  2019  20000             1     7414         0  145  50.4         2.0\n",
       "3     21  2019  33492             0     4825         3  145  32.5         2.0\n",
       "4     21  2019  22900             2     6500         3  150  39.8         1.5"
      ]
     },
     "execution_count": 41,
     "metadata": {},
     "output_type": "execute_result"
    }
   ],
   "source": [
    "dataFrame.head(5) # modellere sayılsal değerler atandı"
   ]
  },
  {
   "cell_type": "code",
   "execution_count": 42,
   "metadata": {},
   "outputs": [
    {
     "data": {
      "text/plain": [
       "mileage        -0.517599\n",
       "mpg            -0.496844\n",
       "fuelType       -0.233692\n",
       "model           0.004375\n",
       "transmission    0.097699\n",
       "tax             0.482964\n",
       "engineSize      0.575139\n",
       "year            0.614748\n",
       "price           1.000000\n",
       "Name: price, dtype: float64"
      ]
     },
     "execution_count": 42,
     "metadata": {},
     "output_type": "execute_result"
    }
   ],
   "source": [
    "dataFrame.corr()[\"price\"].sort_values() #diğer araç özelliklerinin \"fiyat\"la korelasyonları\n"
   ]
  },
  {
   "cell_type": "code",
   "execution_count": 43,
   "metadata": {},
   "outputs": [
    {
     "data": {
      "text/plain": [
       "<Axes: xlabel='mileage', ylabel='price'>"
      ]
     },
     "execution_count": 43,
     "metadata": {},
     "output_type": "execute_result"
    },
    {
     "data": {
      "image/png": "[encoded data removed]",
      "text/plain": [
       "<Figure size 640x480 with 1 Axes>"
      ]
     },
     "metadata": {},
     "output_type": "display_data"
    }
   ],
   "source": [
    "sbn.scatterplot(x=\"mileage\",y=\"price\",data=dataFrame) #Araçların mil'lere göre fiyat grafiği\n"
   ]
  },
  {
   "cell_type": "markdown",
   "metadata": {},
   "source": [
    "Verinin Düzeltilmesi\n"
   ]
  },
  {
   "cell_type": "code",
   "execution_count": 44,
   "metadata": {},
   "outputs": [],
   "source": [
    "doksanDokuzDf = dataFrame.sort_values(\"price\",ascending=False).iloc[152:] # İlk veri seti'ndeki en pahalı %1 aracı, veri setinin pürüzlerini düzeltmek için çıkardım. 15157 x 0.001 = 151.57 yani yaklaşık 152 satir\n"
   ]
  },
  {
   "cell_type": "code",
   "execution_count": 45,
   "metadata": {},
   "outputs": [
    {
     "data": {
      "text/html": [
       "<div>\n",
       "<style scoped>\n",
       "    .dataframe tbody tr th:only-of-type {\n",
       "        vertical-align: middle;\n",
       "    }\n",
       "\n",
       "    .dataframe tbody tr th {\n",
       "        vertical-align: top;\n",
       "    }\n",
       "\n",
       "    .dataframe thead th {\n",
       "        text-align: right;\n",
       "    }\n",
       "</style>\n",
       "<table border=\"1\" class=\"dataframe\">\n",
       "  <thead>\n",
       "    <tr style=\"text-align: right;\">\n",
       "      <th></th>\n",
       "      <th>model</th>\n",
       "      <th>year</th>\n",
       "      <th>price</th>\n",
       "      <th>transmission</th>\n",
       "      <th>mileage</th>\n",
       "      <th>fuelType</th>\n",
       "      <th>tax</th>\n",
       "      <th>mpg</th>\n",
       "      <th>engineSize</th>\n",
       "    </tr>\n",
       "  </thead>\n",
       "  <tbody>\n",
       "    <tr>\n",
       "      <th>count</th>\n",
       "      <td>15005.000000</td>\n",
       "      <td>15005.000000</td>\n",
       "      <td>15005.000000</td>\n",
       "      <td>15005.000000</td>\n",
       "      <td>15005.000000</td>\n",
       "      <td>15005.000000</td>\n",
       "      <td>15005.000000</td>\n",
       "      <td>15005.000000</td>\n",
       "      <td>15005.000000</td>\n",
       "    </tr>\n",
       "    <tr>\n",
       "      <th>mean</th>\n",
       "      <td>16.067311</td>\n",
       "      <td>2017.235921</td>\n",
       "      <td>16519.772742</td>\n",
       "      <td>1.120693</td>\n",
       "      <td>22263.637721</td>\n",
       "      <td>1.729690</td>\n",
       "      <td>112.279573</td>\n",
       "      <td>53.961593</td>\n",
       "      <td>1.590850</td>\n",
       "    </tr>\n",
       "    <tr>\n",
       "      <th>std</th>\n",
       "      <td>5.382937</td>\n",
       "      <td>2.053355</td>\n",
       "      <td>7095.262204</td>\n",
       "      <td>0.598275</td>\n",
       "      <td>21183.852445</td>\n",
       "      <td>1.472027</td>\n",
       "      <td>63.529813</td>\n",
       "      <td>13.549841</td>\n",
       "      <td>0.450755</td>\n",
       "    </tr>\n",
       "    <tr>\n",
       "      <th>min</th>\n",
       "      <td>0.000000</td>\n",
       "      <td>2000.000000</td>\n",
       "      <td>899.000000</td>\n",
       "      <td>0.000000</td>\n",
       "      <td>1.000000</td>\n",
       "      <td>0.000000</td>\n",
       "      <td>0.000000</td>\n",
       "      <td>0.300000</td>\n",
       "      <td>0.000000</td>\n",
       "    </tr>\n",
       "    <tr>\n",
       "      <th>25%</th>\n",
       "      <td>12.000000</td>\n",
       "      <td>2016.000000</td>\n",
       "      <td>10980.000000</td>\n",
       "      <td>1.000000</td>\n",
       "      <td>6000.000000</td>\n",
       "      <td>0.000000</td>\n",
       "      <td>30.000000</td>\n",
       "      <td>46.300000</td>\n",
       "      <td>1.200000</td>\n",
       "    </tr>\n",
       "    <tr>\n",
       "      <th>50%</th>\n",
       "      <td>16.000000</td>\n",
       "      <td>2017.000000</td>\n",
       "      <td>15475.000000</td>\n",
       "      <td>1.000000</td>\n",
       "      <td>16622.000000</td>\n",
       "      <td>3.000000</td>\n",
       "      <td>145.000000</td>\n",
       "      <td>53.300000</td>\n",
       "      <td>1.600000</td>\n",
       "    </tr>\n",
       "    <tr>\n",
       "      <th>75%</th>\n",
       "      <td>21.000000</td>\n",
       "      <td>2019.000000</td>\n",
       "      <td>20990.000000</td>\n",
       "      <td>1.000000</td>\n",
       "      <td>32000.000000</td>\n",
       "      <td>3.000000</td>\n",
       "      <td>145.000000</td>\n",
       "      <td>60.100000</td>\n",
       "      <td>2.000000</td>\n",
       "    </tr>\n",
       "    <tr>\n",
       "      <th>max</th>\n",
       "      <td>26.000000</td>\n",
       "      <td>2020.000000</td>\n",
       "      <td>42950.000000</td>\n",
       "      <td>2.000000</td>\n",
       "      <td>212000.000000</td>\n",
       "      <td>3.000000</td>\n",
       "      <td>580.000000</td>\n",
       "      <td>188.300000</td>\n",
       "      <td>3.200000</td>\n",
       "    </tr>\n",
       "  </tbody>\n",
       "</table>\n",
       "</div>"
      ],
      "text/plain": [
       "              model          year         price  transmission        mileage  \\\n",
       "count  15005.000000  15005.000000  15005.000000  15005.000000   15005.000000   \n",
       "mean      16.067311   2017.235921  16519.772742      1.120693   22263.637721   \n",
       "std        5.382937      2.053355   7095.262204      0.598275   21183.852445   \n",
       "min        0.000000   2000.000000    899.000000      0.000000       1.000000   \n",
       "25%       12.000000   2016.000000  10980.000000      1.000000    6000.000000   \n",
       "50%       16.000000   2017.000000  15475.000000      1.000000   16622.000000   \n",
       "75%       21.000000   2019.000000  20990.000000      1.000000   32000.000000   \n",
       "max       26.000000   2020.000000  42950.000000      2.000000  212000.000000   \n",
       "\n",
       "           fuelType           tax           mpg    engineSize  \n",
       "count  15005.000000  15005.000000  15005.000000  15005.000000  \n",
       "mean       1.729690    112.279573     53.961593      1.590850  \n",
       "std        1.472027     63.529813     13.549841      0.450755  \n",
       "min        0.000000      0.000000      0.300000      0.000000  \n",
       "25%        0.000000     30.000000     46.300000      1.200000  \n",
       "50%        3.000000    145.000000     53.300000      1.600000  \n",
       "75%        3.000000    145.000000     60.100000      2.000000  \n",
       "max        3.000000    580.000000    188.300000      3.200000  "
      ]
     },
     "execution_count": 45,
     "metadata": {},
     "output_type": "execute_result"
    }
   ],
   "source": [
    "doksanDokuzDf.describe() "
   ]
  },
  {
   "cell_type": "code",
   "execution_count": 47,
   "metadata": {},
   "outputs": [
    {
     "name": "stderr",
     "output_type": "stream",
     "text": [
      "C:\\Users\\baha_\\AppData\\Local\\Temp\\ipykernel_17224\\2652412373.py:2: UserWarning: \n",
      "\n",
      "`distplot` is a deprecated function and will be removed in seaborn v0.14.0.\n",
      "\n",
      "Please adapt your code to use either `displot` (a figure-level function with\n",
      "similar flexibility) or `histplot` (an axes-level function for histograms).\n",
      "\n",
      "For a guide to updating your code to use the new functions, please see\n",
      "https://gist.github.com/mwaskom/de44147ed2974457ad6372750bbe5751\n",
      "\n",
      "  sbn.distplot(doksanDokuzDf[\"price\"], kde=False, norm_hist=True)\n"
     ]
    },
    {
     "data": {
      "text/plain": [
       "<Axes: xlabel='price'>"
      ]
     },
     "execution_count": 47,
     "metadata": {},
     "output_type": "execute_result"
    },
    {
     "data": {
      "image/png": "[encoded data removed]",
      "text/plain": [
       "<Figure size 700x500 with 1 Axes>"
      ]
     },
     "metadata": {},
     "output_type": "display_data"
    }
   ],
   "source": [
    "plt.figure(figsize=(7,5))\n",
    "sbn.distplot(doksanDokuzDf[\"price\"], kde=False, norm_hist=True)"
   ]
  },
  {
   "cell_type": "code",
   "execution_count": 48,
   "metadata": {},
   "outputs": [
    {
     "data": {
      "text/plain": [
       "year\n",
       "2000     1999.000000\n",
       "2001     2043.500000\n",
       "2002     1275.000000\n",
       "2003     6875.000000\n",
       "2004     1545.666667\n",
       "2005     3732.375000\n",
       "2006     3935.562500\n",
       "2007     3345.650000\n",
       "2008     3879.851852\n",
       "2009     4873.258065\n",
       "2010     4952.658537\n",
       "2011     7770.491228\n",
       "2012     7889.637500\n",
       "2013     8153.647619\n",
       "2014     9325.896552\n",
       "2015    11100.346921\n",
       "2016    12692.361919\n",
       "2017    14455.086868\n",
       "2018    17901.725100\n",
       "2019    21749.370500\n",
       "2020    22905.511881\n",
       "Name: price, dtype: float64"
      ]
     },
     "execution_count": 48,
     "metadata": {},
     "output_type": "execute_result"
    }
   ],
   "source": [
    "doksanDokuzDf.groupby(\"year\").mean()[\"price\"] #Yeni veri seti'nin yıllara göre fiyat ortalaması, göze batan araçlar yok.\n"
   ]
  },
  {
   "cell_type": "code",
   "execution_count": 52,
   "metadata": {},
   "outputs": [
    {
     "data": {
      "text/html": [
       "<div>\n",
       "<style scoped>\n",
       "    .dataframe tbody tr th:only-of-type {\n",
       "        vertical-align: middle;\n",
       "    }\n",
       "\n",
       "    .dataframe tbody tr th {\n",
       "        vertical-align: top;\n",
       "    }\n",
       "\n",
       "    .dataframe thead th {\n",
       "        text-align: right;\n",
       "    }\n",
       "</style>\n",
       "<table border=\"1\" class=\"dataframe\">\n",
       "  <thead>\n",
       "    <tr style=\"text-align: right;\">\n",
       "      <th></th>\n",
       "      <th>model</th>\n",
       "      <th>year</th>\n",
       "      <th>price</th>\n",
       "      <th>transmission</th>\n",
       "      <th>mileage</th>\n",
       "      <th>fuelType</th>\n",
       "      <th>tax</th>\n",
       "      <th>mpg</th>\n",
       "      <th>engineSize</th>\n",
       "    </tr>\n",
       "  </thead>\n",
       "  <tbody>\n",
       "    <tr>\n",
       "      <th>13550</th>\n",
       "      <td>24</td>\n",
       "      <td>2019</td>\n",
       "      <td>42950</td>\n",
       "      <td>0</td>\n",
       "      <td>4000</td>\n",
       "      <td>0</td>\n",
       "      <td>145</td>\n",
       "      <td>34.0</td>\n",
       "      <td>3.0</td>\n",
       "    </tr>\n",
       "    <tr>\n",
       "      <th>13396</th>\n",
       "      <td>9</td>\n",
       "      <td>2019</td>\n",
       "      <td>42900</td>\n",
       "      <td>2</td>\n",
       "      <td>2544</td>\n",
       "      <td>0</td>\n",
       "      <td>145</td>\n",
       "      <td>32.8</td>\n",
       "      <td>2.0</td>\n",
       "    </tr>\n",
       "    <tr>\n",
       "      <th>13844</th>\n",
       "      <td>24</td>\n",
       "      <td>2019</td>\n",
       "      <td>42499</td>\n",
       "      <td>0</td>\n",
       "      <td>6500</td>\n",
       "      <td>0</td>\n",
       "      <td>145</td>\n",
       "      <td>34.0</td>\n",
       "      <td>3.0</td>\n",
       "    </tr>\n",
       "    <tr>\n",
       "      <th>13533</th>\n",
       "      <td>24</td>\n",
       "      <td>2019</td>\n",
       "      <td>42498</td>\n",
       "      <td>2</td>\n",
       "      <td>10</td>\n",
       "      <td>0</td>\n",
       "      <td>145</td>\n",
       "      <td>34.5</td>\n",
       "      <td>3.0</td>\n",
       "    </tr>\n",
       "    <tr>\n",
       "      <th>13408</th>\n",
       "      <td>9</td>\n",
       "      <td>2019</td>\n",
       "      <td>42495</td>\n",
       "      <td>0</td>\n",
       "      <td>6900</td>\n",
       "      <td>0</td>\n",
       "      <td>145</td>\n",
       "      <td>33.6</td>\n",
       "      <td>2.0</td>\n",
       "    </tr>\n",
       "    <tr>\n",
       "      <th>...</th>\n",
       "      <td>...</td>\n",
       "      <td>...</td>\n",
       "      <td>...</td>\n",
       "      <td>...</td>\n",
       "      <td>...</td>\n",
       "      <td>...</td>\n",
       "      <td>...</td>\n",
       "      <td>...</td>\n",
       "      <td>...</td>\n",
       "    </tr>\n",
       "    <tr>\n",
       "      <th>13300</th>\n",
       "      <td>2</td>\n",
       "      <td>2001</td>\n",
       "      <td>1295</td>\n",
       "      <td>1</td>\n",
       "      <td>110000</td>\n",
       "      <td>3</td>\n",
       "      <td>200</td>\n",
       "      <td>49.6</td>\n",
       "      <td>1.6</td>\n",
       "    </tr>\n",
       "    <tr>\n",
       "      <th>774</th>\n",
       "      <td>12</td>\n",
       "      <td>2004</td>\n",
       "      <td>1287</td>\n",
       "      <td>1</td>\n",
       "      <td>170000</td>\n",
       "      <td>0</td>\n",
       "      <td>165</td>\n",
       "      <td>52.3</td>\n",
       "      <td>2.0</td>\n",
       "    </tr>\n",
       "    <tr>\n",
       "      <th>5083</th>\n",
       "      <td>12</td>\n",
       "      <td>2002</td>\n",
       "      <td>1275</td>\n",
       "      <td>1</td>\n",
       "      <td>117000</td>\n",
       "      <td>3</td>\n",
       "      <td>280</td>\n",
       "      <td>35.8</td>\n",
       "      <td>2.0</td>\n",
       "    </tr>\n",
       "    <tr>\n",
       "      <th>15155</th>\n",
       "      <td>11</td>\n",
       "      <td>2006</td>\n",
       "      <td>1250</td>\n",
       "      <td>1</td>\n",
       "      <td>82704</td>\n",
       "      <td>3</td>\n",
       "      <td>150</td>\n",
       "      <td>46.3</td>\n",
       "      <td>1.2</td>\n",
       "    </tr>\n",
       "    <tr>\n",
       "      <th>13323</th>\n",
       "      <td>2</td>\n",
       "      <td>2001</td>\n",
       "      <td>899</td>\n",
       "      <td>0</td>\n",
       "      <td>1</td>\n",
       "      <td>3</td>\n",
       "      <td>325</td>\n",
       "      <td>29.7</td>\n",
       "      <td>2.0</td>\n",
       "    </tr>\n",
       "  </tbody>\n",
       "</table>\n",
       "<p>15005 rows × 9 columns</p>\n",
       "</div>"
      ],
      "text/plain": [
       "       model  year  price  transmission  mileage  fuelType  tax   mpg  \\\n",
       "13550     24  2019  42950             0     4000         0  145  34.0   \n",
       "13396      9  2019  42900             2     2544         0  145  32.8   \n",
       "13844     24  2019  42499             0     6500         0  145  34.0   \n",
       "13533     24  2019  42498             2       10         0  145  34.5   \n",
       "13408      9  2019  42495             0     6900         0  145  33.6   \n",
       "...      ...   ...    ...           ...      ...       ...  ...   ...   \n",
       "13300      2  2001   1295             1   110000         3  200  49.6   \n",
       "774       12  2004   1287             1   170000         0  165  52.3   \n",
       "5083      12  2002   1275             1   117000         3  280  35.8   \n",
       "15155     11  2006   1250             1    82704         3  150  46.3   \n",
       "13323      2  2001    899             0        1         3  325  29.7   \n",
       "\n",
       "       engineSize  \n",
       "13550         3.0  \n",
       "13396         2.0  \n",
       "13844         3.0  \n",
       "13533         3.0  \n",
       "13408         2.0  \n",
       "...           ...  \n",
       "13300         1.6  \n",
       "774           2.0  \n",
       "5083          2.0  \n",
       "15155         1.2  \n",
       "13323         2.0  \n",
       "\n",
       "[15005 rows x 9 columns]"
      ]
     },
     "execution_count": 52,
     "metadata": {},
     "output_type": "execute_result"
    }
   ],
   "source": [
    "dataFrame = doksanDokuzDf\n",
    "dataFrame"
   ]
  },
  {
   "cell_type": "markdown",
   "metadata": {},
   "source": [
    "Makine öğrenmesi algoritmamızı oluşturalım.\n"
   ]
  },
  {
   "cell_type": "code",
   "execution_count": 57,
   "metadata": {},
   "outputs": [],
   "source": [
    "# makine öğrenmesinde bağımlı ve bağımsız değişkenleri belirlememiz gerekir,\n",
    "# fiyat değerimiz, diğer tüm değerlere bağlı olarak değiştiği için fiyat ve diğerleri olarak ayırmalıyız.\n",
    "# X dataframe'i oluşturup fiyatı bundan çıkarırız\n",
    "# y dataframe'i oluşturup buna sadece fiyatı ekleriz\n",
    "X = dataFrame.drop([\"price\"],axis=1)\n",
    "y = dataFrame[\"price\"]"
   ]
  },
  {
   "cell_type": "code",
   "execution_count": 62,
   "metadata": {},
   "outputs": [],
   "source": [
    "X_train, X_test, y_train, y_test = train_test_split(X,y,test_size=0.25,random_state=144)"
   ]
  },
  {
   "cell_type": "code",
   "execution_count": 64,
   "metadata": {},
   "outputs": [
    {
     "data": {
      "text/html": [
       "<div>\n",
       "<style scoped>\n",
       "    .dataframe tbody tr th:only-of-type {\n",
       "        vertical-align: middle;\n",
       "    }\n",
       "\n",
       "    .dataframe tbody tr th {\n",
       "        vertical-align: top;\n",
       "    }\n",
       "\n",
       "    .dataframe thead th {\n",
       "        text-align: right;\n",
       "    }\n",
       "</style>\n",
       "<table border=\"1\" class=\"dataframe\">\n",
       "  <thead>\n",
       "    <tr style=\"text-align: right;\">\n",
       "      <th></th>\n",
       "      <th>model</th>\n",
       "      <th>year</th>\n",
       "      <th>transmission</th>\n",
       "      <th>mileage</th>\n",
       "      <th>fuelType</th>\n",
       "      <th>tax</th>\n",
       "      <th>mpg</th>\n",
       "      <th>engineSize</th>\n",
       "    </tr>\n",
       "  </thead>\n",
       "  <tbody>\n",
       "    <tr>\n",
       "      <th>12038</th>\n",
       "      <td>18</td>\n",
       "      <td>2019</td>\n",
       "      <td>2</td>\n",
       "      <td>10753</td>\n",
       "      <td>0</td>\n",
       "      <td>145</td>\n",
       "      <td>41.5</td>\n",
       "      <td>2.0</td>\n",
       "    </tr>\n",
       "    <tr>\n",
       "      <th>9300</th>\n",
       "      <td>16</td>\n",
       "      <td>2018</td>\n",
       "      <td>1</td>\n",
       "      <td>8555</td>\n",
       "      <td>3</td>\n",
       "      <td>150</td>\n",
       "      <td>64.2</td>\n",
       "      <td>1.0</td>\n",
       "    </tr>\n",
       "    <tr>\n",
       "      <th>2554</th>\n",
       "      <td>12</td>\n",
       "      <td>2019</td>\n",
       "      <td>1</td>\n",
       "      <td>5045</td>\n",
       "      <td>3</td>\n",
       "      <td>145</td>\n",
       "      <td>47.1</td>\n",
       "      <td>1.5</td>\n",
       "    </tr>\n",
       "    <tr>\n",
       "      <th>7362</th>\n",
       "      <td>16</td>\n",
       "      <td>2017</td>\n",
       "      <td>1</td>\n",
       "      <td>42727</td>\n",
       "      <td>3</td>\n",
       "      <td>20</td>\n",
       "      <td>58.9</td>\n",
       "      <td>1.0</td>\n",
       "    </tr>\n",
       "    <tr>\n",
       "      <th>9468</th>\n",
       "      <td>16</td>\n",
       "      <td>2012</td>\n",
       "      <td>1</td>\n",
       "      <td>40122</td>\n",
       "      <td>3</td>\n",
       "      <td>125</td>\n",
       "      <td>51.4</td>\n",
       "      <td>1.2</td>\n",
       "    </tr>\n",
       "    <tr>\n",
       "      <th>...</th>\n",
       "      <td>...</td>\n",
       "      <td>...</td>\n",
       "      <td>...</td>\n",
       "      <td>...</td>\n",
       "      <td>...</td>\n",
       "      <td>...</td>\n",
       "      <td>...</td>\n",
       "      <td>...</td>\n",
       "    </tr>\n",
       "    <tr>\n",
       "      <th>14842</th>\n",
       "      <td>23</td>\n",
       "      <td>2019</td>\n",
       "      <td>1</td>\n",
       "      <td>39</td>\n",
       "      <td>3</td>\n",
       "      <td>145</td>\n",
       "      <td>36.2</td>\n",
       "      <td>1.5</td>\n",
       "    </tr>\n",
       "    <tr>\n",
       "      <th>8441</th>\n",
       "      <td>16</td>\n",
       "      <td>2019</td>\n",
       "      <td>1</td>\n",
       "      <td>3435</td>\n",
       "      <td>3</td>\n",
       "      <td>150</td>\n",
       "      <td>52.3</td>\n",
       "      <td>1.0</td>\n",
       "    </tr>\n",
       "    <tr>\n",
       "      <th>2656</th>\n",
       "      <td>12</td>\n",
       "      <td>2016</td>\n",
       "      <td>2</td>\n",
       "      <td>35525</td>\n",
       "      <td>0</td>\n",
       "      <td>30</td>\n",
       "      <td>62.8</td>\n",
       "      <td>2.0</td>\n",
       "    </tr>\n",
       "    <tr>\n",
       "      <th>13856</th>\n",
       "      <td>1</td>\n",
       "      <td>2019</td>\n",
       "      <td>0</td>\n",
       "      <td>99</td>\n",
       "      <td>0</td>\n",
       "      <td>145</td>\n",
       "      <td>52.3</td>\n",
       "      <td>2.0</td>\n",
       "    </tr>\n",
       "    <tr>\n",
       "      <th>13099</th>\n",
       "      <td>17</td>\n",
       "      <td>2014</td>\n",
       "      <td>2</td>\n",
       "      <td>33705</td>\n",
       "      <td>0</td>\n",
       "      <td>145</td>\n",
       "      <td>50.4</td>\n",
       "      <td>2.0</td>\n",
       "    </tr>\n",
       "  </tbody>\n",
       "</table>\n",
       "<p>11253 rows × 8 columns</p>\n",
       "</div>"
      ],
      "text/plain": [
       "       model  year  transmission  mileage  fuelType  tax   mpg  engineSize\n",
       "12038     18  2019             2    10753         0  145  41.5         2.0\n",
       "9300      16  2018             1     8555         3  150  64.2         1.0\n",
       "2554      12  2019             1     5045         3  145  47.1         1.5\n",
       "7362      16  2017             1    42727         3   20  58.9         1.0\n",
       "9468      16  2012             1    40122         3  125  51.4         1.2\n",
       "...      ...   ...           ...      ...       ...  ...   ...         ...\n",
       "14842     23  2019             1       39         3  145  36.2         1.5\n",
       "8441      16  2019             1     3435         3  150  52.3         1.0\n",
       "2656      12  2016             2    35525         0   30  62.8         2.0\n",
       "13856      1  2019             0       99         0  145  52.3         2.0\n",
       "13099     17  2014             2    33705         0  145  50.4         2.0\n",
       "\n",
       "[11253 rows x 8 columns]"
      ]
     },
     "execution_count": 64,
     "metadata": {},
     "output_type": "execute_result"
    }
   ],
   "source": [
    "X_train"
   ]
  },
  {
   "cell_type": "code",
   "execution_count": 65,
   "metadata": {},
   "outputs": [
    {
     "data": {
      "text/html": [
       "<div>\n",
       "<style scoped>\n",
       "    .dataframe tbody tr th:only-of-type {\n",
       "        vertical-align: middle;\n",
       "    }\n",
       "\n",
       "    .dataframe tbody tr th {\n",
       "        vertical-align: top;\n",
       "    }\n",
       "\n",
       "    .dataframe thead th {\n",
       "        text-align: right;\n",
       "    }\n",
       "</style>\n",
       "<table border=\"1\" class=\"dataframe\">\n",
       "  <thead>\n",
       "    <tr style=\"text-align: right;\">\n",
       "      <th></th>\n",
       "      <th>model</th>\n",
       "      <th>year</th>\n",
       "      <th>transmission</th>\n",
       "      <th>mileage</th>\n",
       "      <th>fuelType</th>\n",
       "      <th>tax</th>\n",
       "      <th>mpg</th>\n",
       "      <th>engineSize</th>\n",
       "    </tr>\n",
       "  </thead>\n",
       "  <tbody>\n",
       "    <tr>\n",
       "      <th>4559</th>\n",
       "      <td>12</td>\n",
       "      <td>2019</td>\n",
       "      <td>0</td>\n",
       "      <td>8911</td>\n",
       "      <td>3</td>\n",
       "      <td>150</td>\n",
       "      <td>37.7</td>\n",
       "      <td>2.0</td>\n",
       "    </tr>\n",
       "    <tr>\n",
       "      <th>2765</th>\n",
       "      <td>12</td>\n",
       "      <td>2014</td>\n",
       "      <td>1</td>\n",
       "      <td>31834</td>\n",
       "      <td>0</td>\n",
       "      <td>0</td>\n",
       "      <td>74.3</td>\n",
       "      <td>1.6</td>\n",
       "    </tr>\n",
       "    <tr>\n",
       "      <th>2813</th>\n",
       "      <td>12</td>\n",
       "      <td>2019</td>\n",
       "      <td>2</td>\n",
       "      <td>2369</td>\n",
       "      <td>3</td>\n",
       "      <td>150</td>\n",
       "      <td>32.8</td>\n",
       "      <td>2.0</td>\n",
       "    </tr>\n",
       "    <tr>\n",
       "      <th>5284</th>\n",
       "      <td>12</td>\n",
       "      <td>2014</td>\n",
       "      <td>1</td>\n",
       "      <td>51410</td>\n",
       "      <td>0</td>\n",
       "      <td>20</td>\n",
       "      <td>68.9</td>\n",
       "      <td>2.0</td>\n",
       "    </tr>\n",
       "    <tr>\n",
       "      <th>2701</th>\n",
       "      <td>12</td>\n",
       "      <td>2013</td>\n",
       "      <td>1</td>\n",
       "      <td>61520</td>\n",
       "      <td>3</td>\n",
       "      <td>125</td>\n",
       "      <td>53.3</td>\n",
       "      <td>1.4</td>\n",
       "    </tr>\n",
       "    <tr>\n",
       "      <th>...</th>\n",
       "      <td>...</td>\n",
       "      <td>...</td>\n",
       "      <td>...</td>\n",
       "      <td>...</td>\n",
       "      <td>...</td>\n",
       "      <td>...</td>\n",
       "      <td>...</td>\n",
       "      <td>...</td>\n",
       "    </tr>\n",
       "    <tr>\n",
       "      <th>6959</th>\n",
       "      <td>16</td>\n",
       "      <td>2015</td>\n",
       "      <td>1</td>\n",
       "      <td>37164</td>\n",
       "      <td>3</td>\n",
       "      <td>150</td>\n",
       "      <td>47.0</td>\n",
       "      <td>1.8</td>\n",
       "    </tr>\n",
       "    <tr>\n",
       "      <th>8258</th>\n",
       "      <td>16</td>\n",
       "      <td>2016</td>\n",
       "      <td>1</td>\n",
       "      <td>38000</td>\n",
       "      <td>3</td>\n",
       "      <td>20</td>\n",
       "      <td>60.1</td>\n",
       "      <td>1.2</td>\n",
       "    </tr>\n",
       "    <tr>\n",
       "      <th>5952</th>\n",
       "      <td>15</td>\n",
       "      <td>2020</td>\n",
       "      <td>1</td>\n",
       "      <td>2000</td>\n",
       "      <td>0</td>\n",
       "      <td>150</td>\n",
       "      <td>57.7</td>\n",
       "      <td>2.0</td>\n",
       "    </tr>\n",
       "    <tr>\n",
       "      <th>3969</th>\n",
       "      <td>12</td>\n",
       "      <td>2020</td>\n",
       "      <td>2</td>\n",
       "      <td>3000</td>\n",
       "      <td>3</td>\n",
       "      <td>145</td>\n",
       "      <td>32.8</td>\n",
       "      <td>2.0</td>\n",
       "    </tr>\n",
       "    <tr>\n",
       "      <th>6370</th>\n",
       "      <td>15</td>\n",
       "      <td>2018</td>\n",
       "      <td>1</td>\n",
       "      <td>33017</td>\n",
       "      <td>0</td>\n",
       "      <td>150</td>\n",
       "      <td>68.9</td>\n",
       "      <td>1.6</td>\n",
       "    </tr>\n",
       "  </tbody>\n",
       "</table>\n",
       "<p>3752 rows × 8 columns</p>\n",
       "</div>"
      ],
      "text/plain": [
       "      model  year  transmission  mileage  fuelType  tax   mpg  engineSize\n",
       "4559     12  2019             0     8911         3  150  37.7         2.0\n",
       "2765     12  2014             1    31834         0    0  74.3         1.6\n",
       "2813     12  2019             2     2369         3  150  32.8         2.0\n",
       "5284     12  2014             1    51410         0   20  68.9         2.0\n",
       "2701     12  2013             1    61520         3  125  53.3         1.4\n",
       "...     ...   ...           ...      ...       ...  ...   ...         ...\n",
       "6959     16  2015             1    37164         3  150  47.0         1.8\n",
       "8258     16  2016             1    38000         3   20  60.1         1.2\n",
       "5952     15  2020             1     2000         0  150  57.7         2.0\n",
       "3969     12  2020             2     3000         3  145  32.8         2.0\n",
       "6370     15  2018             1    33017         0  150  68.9         1.6\n",
       "\n",
       "[3752 rows x 8 columns]"
      ]
     },
     "execution_count": 65,
     "metadata": {},
     "output_type": "execute_result"
    }
   ],
   "source": [
    "X_test"
   ]
  },
  {
   "cell_type": "code",
   "execution_count": 66,
   "metadata": {},
   "outputs": [
    {
     "data": {
      "text/plain": [
       "12038    24590\n",
       "9300     12500\n",
       "2554     17298\n",
       "7362      7998\n",
       "9468      5475\n",
       "         ...  \n",
       "14842    26498\n",
       "8441     15500\n",
       "2656     17501\n",
       "13856    26491\n",
       "13099    12699\n",
       "Name: price, Length: 11253, dtype: int64"
      ]
     },
     "execution_count": 66,
     "metadata": {},
     "output_type": "execute_result"
    }
   ],
   "source": [
    "y_train"
   ]
  },
  {
   "cell_type": "code",
   "execution_count": 67,
   "metadata": {},
   "outputs": [
    {
     "data": {
      "text/plain": [
       "4559    27989\n",
       "2765     8995\n",
       "2813    28990\n",
       "5284     9999\n",
       "2701     7450\n",
       "        ...  \n",
       "6959    11995\n",
       "8258     9052\n",
       "5952    27000\n",
       "3969    41990\n",
       "6370    12850\n",
       "Name: price, Length: 3752, dtype: int64"
      ]
     },
     "execution_count": 67,
     "metadata": {},
     "output_type": "execute_result"
    }
   ],
   "source": [
    "y_test"
   ]
  },
  {
   "cell_type": "code",
   "execution_count": 68,
   "metadata": {},
   "outputs": [
    {
     "name": "stdout",
     "output_type": "stream",
     "text": [
      "Fitting 10 folds for each of 180 candidates, totalling 1800 fits\n",
      "{'colsample_bytree': 0.5, 'learning_rate': 0.02, 'max_depth': 6, 'n_estimators': 2000}\n"
     ]
    }
   ],
   "source": [
    "\"\"\"\n",
    "Bu kod parçası, XGBoost Regresyon modelinizin hiperparametrelerini belirlemek için bir Grid Search Cross-Validation (Grid Arama Çapraz Doğrulama) işlemi gerçekleştirir. \n",
    "params: Grid Search işlemi için denenmesi gereken farklı hiperparametre kombinasyonlarını içeren bir sözlük.\n",
    "XGBRegressor: XGBoost Regresyon modelinin temsilcisini oluşturur.\n",
    "GridSearchCV: Grid Search Cross-Validation işlemini başlatır. Bu, hiperparametrelerin belirli bir aralıkta denenmesini ve en iyi performansı veren hiperparametreleri bulmayı sağlar.\n",
    "cv: Çapraz doğrulama kat sayısını belirtir. Burada 10 olarak belirlenmiş, yani 10 katlı çapraz doğrulama yapılacaktır.\n",
    "n_jobs: Paralel işlemlerin sayısını belirtir. -1 değeri, mevcut tüm işlemcilerin kullanılmasını ifade eder.\n",
    "verbose: Ayrıntı seviyesini belirtir. 2 olarak belirlenmiş, yani işlem sırasında detaylı çıktıların görüntülenmesini sağlar.\n",
    "fit(): Grid Search işlemini başlatır ve en iyi parametreleri bulur.\n",
    "print(grid.best_params_): En iyi parametreleri yazdırır.\n",
    "\"\"\"\n",
    "\n",
    "hiperDic = {\n",
    "    \"colsample_bytree\":[0.4,0.5,0.6],\n",
    "    \"learning_rate\":[0.01,0.02,0.09],\n",
    "    \"max_depth\":[2,3,4,5,6],\n",
    "    \"n_estimators\":[100,200,500,2000]\n",
    "}\n",
    "\n",
    "xgb = XGBRegressor()\n",
    "grid = GridSearchCV(xgb,hiperDic,cv=10,n_jobs=-1,verbose=2)\n",
    "grid.fit(X_train,y_train)\n",
    "print(grid.best_params_)\n"
   ]
  },
  {
   "cell_type": "code",
   "execution_count": 69,
   "metadata": {},
   "outputs": [
    {
     "name": "stdout",
     "output_type": "stream",
     "text": [
      "Best params:  {'colsample_bytree': 0.5, 'learning_rate': 0.02, 'max_depth': 6, 'n_estimators': 2000}\n"
     ]
    }
   ],
   "source": [
    "# bir üst adımda tespit ettiğimiz parametlerimiz\n",
    "best_params = \"{'colsample_bytree': 0.5, 'learning_rate': 0.02, 'max_depth': 6, 'n_estimators': 2000}\"\n",
    "print(\"Best params: \",best_params)"
   ]
  },
  {
   "cell_type": "code",
   "execution_count": 70,
   "metadata": {},
   "outputs": [],
   "source": [
    "# bu parametreleri kullanarak modelimizi eğitelim\n",
    "xgb1 = XGBRegressor(colsample_bytree = 0.5, learning_rate = 0.02, max_depth = 6, n_estimators = 2000)\n",
    "model_xgb = xgb1.fit(X_train, y_train)"
   ]
  },
  {
   "cell_type": "code",
   "execution_count": 71,
   "metadata": {},
   "outputs": [
    {
     "name": "stdout",
     "output_type": "stream",
     "text": [
      "Tahminler:  [12552.607  10151.517  25062.967  22014.924   7939.8916]\n",
      "Gerçek değerler:  3578     12695\n",
      "8970     10690\n",
      "11014    21750\n",
      "821      23995\n",
      "7214      7898\n",
      "Name: price, dtype: int64\n"
     ]
    }
   ],
   "source": [
    "# test verileri üzerinde bir tahmin işlemi gerçekleştirelim\n",
    "print(\"Tahminler: \",model_xgb.predict(X_test)[15:20])\n",
    "print(\"Gerçek değerler: \", y_test[15:20])\n"
   ]
  },
  {
   "cell_type": "code",
   "execution_count": 72,
   "metadata": {},
   "outputs": [
    {
     "name": "stdout",
     "output_type": "stream",
     "text": [
      "Test score:  0.9637001307264234\n"
     ]
    }
   ],
   "source": [
    "# test skorumuz modelimizin başarı oranıdır, maksimum 1 olabilir (pek mümkün değildir ama)\n",
    "print(\"Test score: \",model_xgb.score(X_test,y_test))"
   ]
  },
  {
   "cell_type": "code",
   "execution_count": 74,
   "metadata": {},
   "outputs": [
    {
     "name": "stdout",
     "output_type": "stream",
     "text": [
      "              Importance\n",
      "model           0.088342\n",
      "year            0.198508\n",
      "transmission    0.047434\n",
      "mileage         0.052818\n",
      "fuelType        0.067591\n",
      "tax             0.092759\n",
      "mpg             0.231616\n",
      "engineSize      0.220933\n"
     ]
    }
   ],
   "source": [
    "# bu işlemle modelimizin kendisinin tespit ettiği önem sıralamasını görebiliriz.\n",
    "importance = pd.DataFrame({\n",
    "    \"Importance\":model_xgb.feature_importances_},\n",
    "    index=X_train.columns\n",
    "    )\n",
    "\n",
    "print(importance)"
   ]
  },
  {
   "cell_type": "code",
   "execution_count": 76,
   "metadata": {},
   "outputs": [
    {
     "data": {
      "text/html": [
       "<div>\n",
       "<style scoped>\n",
       "    .dataframe tbody tr th:only-of-type {\n",
       "        vertical-align: middle;\n",
       "    }\n",
       "\n",
       "    .dataframe tbody tr th {\n",
       "        vertical-align: top;\n",
       "    }\n",
       "\n",
       "    .dataframe thead th {\n",
       "        text-align: right;\n",
       "    }\n",
       "</style>\n",
       "<table border=\"1\" class=\"dataframe\">\n",
       "  <thead>\n",
       "    <tr style=\"text-align: right;\">\n",
       "      <th></th>\n",
       "      <th>model</th>\n",
       "      <th>year</th>\n",
       "      <th>transmission</th>\n",
       "      <th>mileage</th>\n",
       "      <th>fuelType</th>\n",
       "      <th>tax</th>\n",
       "      <th>mpg</th>\n",
       "      <th>engineSize</th>\n",
       "    </tr>\n",
       "  </thead>\n",
       "  <tbody>\n",
       "    <tr>\n",
       "      <th>3578</th>\n",
       "      <td>12</td>\n",
       "      <td>2016</td>\n",
       "      <td>2</td>\n",
       "      <td>41424</td>\n",
       "      <td>3</td>\n",
       "      <td>30</td>\n",
       "      <td>53.3</td>\n",
       "      <td>1.4</td>\n",
       "    </tr>\n",
       "    <tr>\n",
       "      <th>8970</th>\n",
       "      <td>16</td>\n",
       "      <td>2017</td>\n",
       "      <td>1</td>\n",
       "      <td>35861</td>\n",
       "      <td>3</td>\n",
       "      <td>150</td>\n",
       "      <td>60.1</td>\n",
       "      <td>1.2</td>\n",
       "    </tr>\n",
       "    <tr>\n",
       "      <th>11014</th>\n",
       "      <td>22</td>\n",
       "      <td>2018</td>\n",
       "      <td>2</td>\n",
       "      <td>14446</td>\n",
       "      <td>0</td>\n",
       "      <td>145</td>\n",
       "      <td>40.4</td>\n",
       "      <td>2.0</td>\n",
       "    </tr>\n",
       "    <tr>\n",
       "      <th>821</th>\n",
       "      <td>12</td>\n",
       "      <td>2019</td>\n",
       "      <td>2</td>\n",
       "      <td>10</td>\n",
       "      <td>3</td>\n",
       "      <td>145</td>\n",
       "      <td>45.6</td>\n",
       "      <td>1.5</td>\n",
       "    </tr>\n",
       "    <tr>\n",
       "      <th>7214</th>\n",
       "      <td>16</td>\n",
       "      <td>2015</td>\n",
       "      <td>1</td>\n",
       "      <td>29768</td>\n",
       "      <td>3</td>\n",
       "      <td>20</td>\n",
       "      <td>60.1</td>\n",
       "      <td>1.0</td>\n",
       "    </tr>\n",
       "  </tbody>\n",
       "</table>\n",
       "</div>"
      ],
      "text/plain": [
       "       model  year  transmission  mileage  fuelType  tax   mpg  engineSize\n",
       "3578      12  2016             2    41424         3   30  53.3         1.4\n",
       "8970      16  2017             1    35861         3  150  60.1         1.2\n",
       "11014     22  2018             2    14446         0  145  40.4         2.0\n",
       "821       12  2019             2       10         3  145  45.6         1.5\n",
       "7214      16  2015             1    29768         3   20  60.1         1.0"
      ]
     },
     "execution_count": 76,
     "metadata": {},
     "output_type": "execute_result"
    }
   ],
   "source": [
    "X_test[15:20]"
   ]
  },
  {
   "cell_type": "code",
   "execution_count": 82,
   "metadata": {},
   "outputs": [
    {
     "data": {
      "text/plain": [
       "3578     12695\n",
       "8970     10690\n",
       "11014    21750\n",
       "821      23995\n",
       "7214      7898\n",
       "Name: price, dtype: int64"
      ]
     },
     "execution_count": 82,
     "metadata": {},
     "output_type": "execute_result"
    }
   ],
   "source": [
    "y_test[15:20]"
   ]
  },
  {
   "cell_type": "code",
   "execution_count": 80,
   "metadata": {},
   "outputs": [
    {
     "data": {
      "text/plain": [
       "array([12552.607], dtype=float32)"
      ]
     },
     "execution_count": 80,
     "metadata": {},
     "output_type": "execute_result"
    }
   ],
   "source": [
    "\n",
    "model = 12\n",
    "year = 2016\n",
    "transmission = 2\n",
    "mileage = 41424\n",
    "fuelType = 3\n",
    "tax = 30\n",
    "mpg = 53.3\n",
    "engineSize = 1.4\n",
    "predict_data = [[model],[year],[transmission],[mileage],[fuelType],[tax],[mpg],[engineSize]]\n",
    "dataFrame2 = pd.DataFrame([[model, year, transmission, mileage, fuelType, tax, mpg, engineSize]], columns=['model', 'year', 'transmission', 'mileage', 'fuelType', 'tax', 'mpg', 'engineSize'])\n",
    "model_xgb.predict(dataFrame2)\n"
   ]
  }
 ],
 "metadata": {
  "kernelspec": {
   "display_name": "Python 3",
   "language": "python",
   "name": "python3"
  },
  "language_info": {
   "codemirror_mode": {
    "name": "ipython",
    "version": 3
   },
   "file_extension": ".py",
   "mimetype": "text/x-python",
   "name": "python",
   "nbconvert_exporter": "python",
   "pygments_lexer": "ipython3",
   "version": "3.11.9"
  }
 },
 "nbformat": 4,
 "nbformat_minor": 2
}
