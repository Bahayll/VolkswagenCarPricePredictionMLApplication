{
 "cells": [
  {
   "cell_type": "markdown",
   "metadata": {},
   "source": [
    "# The Import of Necessary Libraries for the Application"
   ]
  },
  {
   "cell_type": "code",
   "execution_count": 1,
   "metadata": {},
   "outputs": [],
   "source": [
    "\"\"\"\n",
    "\n",
    "andas (pd): pandas is a Python library used for data manipulation and analysis. \n",
    "It supports reading and writing data in different formats such as CSV, Excel, and SQL.\n",
    "\n",
    "matplotlib.pyplot (plt): matplotlib.pyplot is a library used for data visualization. \n",
    "It is used to create various types of plots such as graphs, histograms, line plots, scatter plots, etc.\n",
    "\n",
    "seaborn (sbn): Seaborn is a Python library for data visualization. \n",
    "It is based on Matplotlib and provides a high-level interface for creating aesthetic and easy-to-use graphics. \n",
    "It is particularly powerful for statistical data visualization and can work directly with DataFrames.\n",
    "\n",
    "sklearn: scikit-learn is an open-source machine learning library available in Python. \n",
    "It provides functionalities for model training, model evaluation, data processing, and many other machine learning tasks.\n",
    "\n",
    "xgboost (xgb): XGBoost (Extreme Gradient Boosting) is a tree-based machine learning algorithm. \n",
    "This algorithm is particularly used for regression and classification problems.\n",
    "It is known for its ability to make fast and efficient predictions.\n",
    "\n",
    "\n",
    "\"\"\"\n",
    "import numpy as np\n",
    "import pandas as pd # Used for data processing, reading and writing CSV files.\n",
    "import matplotlib.pyplot as plt # Used for data visualization.\n",
    "import seaborn as sbn # A tool used for statistical data visualization, based on Matplotlib, providing aesthetically pleasing and easy-to-use graphics.\n",
    "from sklearn import preprocessing # A library required for data preprocessing operations.\n",
    "\n",
    "import xgboost as xgb # A necessary library for using the XGBoost algorithm.\n",
    "from xgboost import XGBRegressor # A necessary class for using the XGBoost algorithm.\n",
    "from sklearn.model_selection import train_test_split, GridSearchCV, cross_val_score # Libraries required for tasks such as splitting training and test sets, hyperparameter optimization, and cross-validation.\n",
    "from sklearn.metrics import mean_squared_error, r2_score # Metrics required for evaluating model performance.\n",
    "from sklearn import model_selection # A library necessary for creating machine learning models.\n",
    "\n",
    "\n"
   ]
  },
  {
   "cell_type": "markdown",
   "metadata": {},
   "source": [
    "# Volkswagen Car Price Prediction"
   ]
  },
  {
   "cell_type": "markdown",
   "metadata": {},
   "source": [
    "## 1. Dataset Selection\n",
    "The dataset has been taken from Kaggle."
   ]
  },
  {
   "cell_type": "code",
   "execution_count": 2,
   "metadata": {},
   "outputs": [
    {
     "data": {
      "text/html": [
       "<div>\n",
       "<style scoped>\n",
       "    .dataframe tbody tr th:only-of-type {\n",
       "        vertical-align: middle;\n",
       "    }\n",
       "\n",
       "    .dataframe tbody tr th {\n",
       "        vertical-align: top;\n",
       "    }\n",
       "\n",
       "    .dataframe thead th {\n",
       "        text-align: right;\n",
       "    }\n",
       "</style>\n",
       "<table border=\"1\" class=\"dataframe\">\n",
       "  <thead>\n",
       "    <tr style=\"text-align: right;\">\n",
       "      <th></th>\n",
       "      <th>model</th>\n",
       "      <th>year</th>\n",
       "      <th>price</th>\n",
       "      <th>transmission</th>\n",
       "      <th>mileage</th>\n",
       "      <th>fuelType</th>\n",
       "      <th>tax</th>\n",
       "      <th>mpg</th>\n",
       "      <th>engineSize</th>\n",
       "    </tr>\n",
       "  </thead>\n",
       "  <tbody>\n",
       "    <tr>\n",
       "      <th>0</th>\n",
       "      <td>T-Roc</td>\n",
       "      <td>2019</td>\n",
       "      <td>25000</td>\n",
       "      <td>Automatic</td>\n",
       "      <td>13904</td>\n",
       "      <td>Diesel</td>\n",
       "      <td>145</td>\n",
       "      <td>49.6</td>\n",
       "      <td>2.0</td>\n",
       "    </tr>\n",
       "    <tr>\n",
       "      <th>1</th>\n",
       "      <td>T-Roc</td>\n",
       "      <td>2019</td>\n",
       "      <td>26883</td>\n",
       "      <td>Automatic</td>\n",
       "      <td>4562</td>\n",
       "      <td>Diesel</td>\n",
       "      <td>145</td>\n",
       "      <td>49.6</td>\n",
       "      <td>2.0</td>\n",
       "    </tr>\n",
       "    <tr>\n",
       "      <th>2</th>\n",
       "      <td>T-Roc</td>\n",
       "      <td>2019</td>\n",
       "      <td>20000</td>\n",
       "      <td>Manual</td>\n",
       "      <td>7414</td>\n",
       "      <td>Diesel</td>\n",
       "      <td>145</td>\n",
       "      <td>50.4</td>\n",
       "      <td>2.0</td>\n",
       "    </tr>\n",
       "    <tr>\n",
       "      <th>3</th>\n",
       "      <td>T-Roc</td>\n",
       "      <td>2019</td>\n",
       "      <td>33492</td>\n",
       "      <td>Automatic</td>\n",
       "      <td>4825</td>\n",
       "      <td>Petrol</td>\n",
       "      <td>145</td>\n",
       "      <td>32.5</td>\n",
       "      <td>2.0</td>\n",
       "    </tr>\n",
       "    <tr>\n",
       "      <th>4</th>\n",
       "      <td>T-Roc</td>\n",
       "      <td>2019</td>\n",
       "      <td>22900</td>\n",
       "      <td>Semi-Auto</td>\n",
       "      <td>6500</td>\n",
       "      <td>Petrol</td>\n",
       "      <td>150</td>\n",
       "      <td>39.8</td>\n",
       "      <td>1.5</td>\n",
       "    </tr>\n",
       "    <tr>\n",
       "      <th>...</th>\n",
       "      <td>...</td>\n",
       "      <td>...</td>\n",
       "      <td>...</td>\n",
       "      <td>...</td>\n",
       "      <td>...</td>\n",
       "      <td>...</td>\n",
       "      <td>...</td>\n",
       "      <td>...</td>\n",
       "      <td>...</td>\n",
       "    </tr>\n",
       "    <tr>\n",
       "      <th>15152</th>\n",
       "      <td>Eos</td>\n",
       "      <td>2012</td>\n",
       "      <td>5990</td>\n",
       "      <td>Manual</td>\n",
       "      <td>74000</td>\n",
       "      <td>Diesel</td>\n",
       "      <td>125</td>\n",
       "      <td>58.9</td>\n",
       "      <td>2.0</td>\n",
       "    </tr>\n",
       "    <tr>\n",
       "      <th>15153</th>\n",
       "      <td>Fox</td>\n",
       "      <td>2008</td>\n",
       "      <td>1799</td>\n",
       "      <td>Manual</td>\n",
       "      <td>88102</td>\n",
       "      <td>Petrol</td>\n",
       "      <td>145</td>\n",
       "      <td>46.3</td>\n",
       "      <td>1.2</td>\n",
       "    </tr>\n",
       "    <tr>\n",
       "      <th>15154</th>\n",
       "      <td>Fox</td>\n",
       "      <td>2009</td>\n",
       "      <td>1590</td>\n",
       "      <td>Manual</td>\n",
       "      <td>70000</td>\n",
       "      <td>Petrol</td>\n",
       "      <td>200</td>\n",
       "      <td>42.0</td>\n",
       "      <td>1.4</td>\n",
       "    </tr>\n",
       "    <tr>\n",
       "      <th>15155</th>\n",
       "      <td>Fox</td>\n",
       "      <td>2006</td>\n",
       "      <td>1250</td>\n",
       "      <td>Manual</td>\n",
       "      <td>82704</td>\n",
       "      <td>Petrol</td>\n",
       "      <td>150</td>\n",
       "      <td>46.3</td>\n",
       "      <td>1.2</td>\n",
       "    </tr>\n",
       "    <tr>\n",
       "      <th>15156</th>\n",
       "      <td>Fox</td>\n",
       "      <td>2007</td>\n",
       "      <td>2295</td>\n",
       "      <td>Manual</td>\n",
       "      <td>74000</td>\n",
       "      <td>Petrol</td>\n",
       "      <td>145</td>\n",
       "      <td>46.3</td>\n",
       "      <td>1.2</td>\n",
       "    </tr>\n",
       "  </tbody>\n",
       "</table>\n",
       "<p>15157 rows × 9 columns</p>\n",
       "</div>"
      ],
      "text/plain": [
       "        model  year  price transmission  mileage fuelType  tax   mpg  \\\n",
       "0       T-Roc  2019  25000    Automatic    13904   Diesel  145  49.6   \n",
       "1       T-Roc  2019  26883    Automatic     4562   Diesel  145  49.6   \n",
       "2       T-Roc  2019  20000       Manual     7414   Diesel  145  50.4   \n",
       "3       T-Roc  2019  33492    Automatic     4825   Petrol  145  32.5   \n",
       "4       T-Roc  2019  22900    Semi-Auto     6500   Petrol  150  39.8   \n",
       "...       ...   ...    ...          ...      ...      ...  ...   ...   \n",
       "15152     Eos  2012   5990       Manual    74000   Diesel  125  58.9   \n",
       "15153     Fox  2008   1799       Manual    88102   Petrol  145  46.3   \n",
       "15154     Fox  2009   1590       Manual    70000   Petrol  200  42.0   \n",
       "15155     Fox  2006   1250       Manual    82704   Petrol  150  46.3   \n",
       "15156     Fox  2007   2295       Manual    74000   Petrol  145  46.3   \n",
       "\n",
       "       engineSize  \n",
       "0             2.0  \n",
       "1             2.0  \n",
       "2             2.0  \n",
       "3             2.0  \n",
       "4             1.5  \n",
       "...           ...  \n",
       "15152         2.0  \n",
       "15153         1.2  \n",
       "15154         1.4  \n",
       "15155         1.2  \n",
       "15156         1.2  \n",
       "\n",
       "[15157 rows x 9 columns]"
      ]
     },
     "execution_count": 2,
     "metadata": {},
     "output_type": "execute_result"
    }
   ],
   "source": [
    "\n",
    "\"\"\"\n",
    "DataFrame is a 2D data structure in the pandas library. It is used to store and manipulate data in tabular form.\n",
    "DataFrames represent data tables arranged in rows and columns.\n",
    "We read the data as a DataFrame and assign it to the variable 'dataFrame'.\n",
    "This DataFrame contains the features of VW vehicles.\n",
    "We used the \"read_csv\" function to specify the file path.\n",
    "After reading the data, we assigned the DataFrame to the variable 'dataFrame'.\n",
    "Now, we can analyze the data and train models using it.\n",
    "\"\"\"\n",
    "\n",
    "# We read the data from a file named \"vw.csv\" obtained from Kaggle and load it into a DataFrame.\n",
    "dataFrame = pd.read_csv(\"vw.csv\") \n",
    "dataFrame"
   ]
  },
  {
   "cell_type": "markdown",
   "metadata": {},
   "source": [
    "## 2. Exploratory Data Analysis(EDA)\n",
    "* Exploratory Data Analysis (EDA) is a method used to better understand a dataset and discover patterns, relationships, and trends within it. The basic steps of Exploratory Data Analysis (EDA) are:\n",
    "\n",
    "  1.Understanding the Dataset\n",
    "\n",
    "  2.Examining Data Features\n",
    "\n",
    "  3.Investigating Missing Values\n",
    "\n",
    "  4.Visualizing Data Distributions\n",
    "\n",
    "  5.Exploring Relationships Between Variables\n",
    "\n",
    "  6.Exploring Significant Subgroups and Segments\n",
    "  \n",
    "  7.Identifying Significant Variables"
   ]
  },
  {
   "cell_type": "code",
   "execution_count": 3,
   "metadata": {},
   "outputs": [
    {
     "data": {
      "text/html": [
       "<div>\n",
       "<style scoped>\n",
       "    .dataframe tbody tr th:only-of-type {\n",
       "        vertical-align: middle;\n",
       "    }\n",
       "\n",
       "    .dataframe tbody tr th {\n",
       "        vertical-align: top;\n",
       "    }\n",
       "\n",
       "    .dataframe thead th {\n",
       "        text-align: right;\n",
       "    }\n",
       "</style>\n",
       "<table border=\"1\" class=\"dataframe\">\n",
       "  <thead>\n",
       "    <tr style=\"text-align: right;\">\n",
       "      <th></th>\n",
       "      <th>model</th>\n",
       "      <th>year</th>\n",
       "      <th>price</th>\n",
       "      <th>transmission</th>\n",
       "      <th>mileage</th>\n",
       "      <th>fuelType</th>\n",
       "      <th>tax</th>\n",
       "      <th>mpg</th>\n",
       "      <th>engineSize</th>\n",
       "    </tr>\n",
       "  </thead>\n",
       "  <tbody>\n",
       "    <tr>\n",
       "      <th>0</th>\n",
       "      <td>T-Roc</td>\n",
       "      <td>2019</td>\n",
       "      <td>25000</td>\n",
       "      <td>Automatic</td>\n",
       "      <td>13904</td>\n",
       "      <td>Diesel</td>\n",
       "      <td>145</td>\n",
       "      <td>49.6</td>\n",
       "      <td>2.0</td>\n",
       "    </tr>\n",
       "    <tr>\n",
       "      <th>1</th>\n",
       "      <td>T-Roc</td>\n",
       "      <td>2019</td>\n",
       "      <td>26883</td>\n",
       "      <td>Automatic</td>\n",
       "      <td>4562</td>\n",
       "      <td>Diesel</td>\n",
       "      <td>145</td>\n",
       "      <td>49.6</td>\n",
       "      <td>2.0</td>\n",
       "    </tr>\n",
       "    <tr>\n",
       "      <th>2</th>\n",
       "      <td>T-Roc</td>\n",
       "      <td>2019</td>\n",
       "      <td>20000</td>\n",
       "      <td>Manual</td>\n",
       "      <td>7414</td>\n",
       "      <td>Diesel</td>\n",
       "      <td>145</td>\n",
       "      <td>50.4</td>\n",
       "      <td>2.0</td>\n",
       "    </tr>\n",
       "    <tr>\n",
       "      <th>3</th>\n",
       "      <td>T-Roc</td>\n",
       "      <td>2019</td>\n",
       "      <td>33492</td>\n",
       "      <td>Automatic</td>\n",
       "      <td>4825</td>\n",
       "      <td>Petrol</td>\n",
       "      <td>145</td>\n",
       "      <td>32.5</td>\n",
       "      <td>2.0</td>\n",
       "    </tr>\n",
       "    <tr>\n",
       "      <th>4</th>\n",
       "      <td>T-Roc</td>\n",
       "      <td>2019</td>\n",
       "      <td>22900</td>\n",
       "      <td>Semi-Auto</td>\n",
       "      <td>6500</td>\n",
       "      <td>Petrol</td>\n",
       "      <td>150</td>\n",
       "      <td>39.8</td>\n",
       "      <td>1.5</td>\n",
       "    </tr>\n",
       "  </tbody>\n",
       "</table>\n",
       "</div>"
      ],
      "text/plain": [
       "    model  year  price transmission  mileage fuelType  tax   mpg  engineSize\n",
       "0   T-Roc  2019  25000    Automatic    13904   Diesel  145  49.6         2.0\n",
       "1   T-Roc  2019  26883    Automatic     4562   Diesel  145  49.6         2.0\n",
       "2   T-Roc  2019  20000       Manual     7414   Diesel  145  50.4         2.0\n",
       "3   T-Roc  2019  33492    Automatic     4825   Petrol  145  32.5         2.0\n",
       "4   T-Roc  2019  22900    Semi-Auto     6500   Petrol  150  39.8         1.5"
      ]
     },
     "execution_count": 3,
     "metadata": {},
     "output_type": "execute_result"
    }
   ],
   "source": [
    "# The head function displays the first 5 rows and columns of the DataFrame.\n",
    "dataFrame.head() # Let's examine the first 5 data in our dataset."
   ]
  },
  {
   "cell_type": "code",
   "execution_count": 4,
   "metadata": {},
   "outputs": [
    {
     "data": {
      "text/html": [
       "<div>\n",
       "<style scoped>\n",
       "    .dataframe tbody tr th:only-of-type {\n",
       "        vertical-align: middle;\n",
       "    }\n",
       "\n",
       "    .dataframe tbody tr th {\n",
       "        vertical-align: top;\n",
       "    }\n",
       "\n",
       "    .dataframe thead th {\n",
       "        text-align: right;\n",
       "    }\n",
       "</style>\n",
       "<table border=\"1\" class=\"dataframe\">\n",
       "  <thead>\n",
       "    <tr style=\"text-align: right;\">\n",
       "      <th></th>\n",
       "      <th>model</th>\n",
       "      <th>year</th>\n",
       "      <th>price</th>\n",
       "      <th>transmission</th>\n",
       "      <th>mileage</th>\n",
       "      <th>fuelType</th>\n",
       "      <th>tax</th>\n",
       "      <th>mpg</th>\n",
       "      <th>engineSize</th>\n",
       "    </tr>\n",
       "  </thead>\n",
       "  <tbody>\n",
       "    <tr>\n",
       "      <th>3286</th>\n",
       "      <td>Golf</td>\n",
       "      <td>2017</td>\n",
       "      <td>14000</td>\n",
       "      <td>Semi-Auto</td>\n",
       "      <td>26368</td>\n",
       "      <td>Petrol</td>\n",
       "      <td>30</td>\n",
       "      <td>55.4</td>\n",
       "      <td>1.4</td>\n",
       "    </tr>\n",
       "    <tr>\n",
       "      <th>13989</th>\n",
       "      <td>Arteon</td>\n",
       "      <td>2019</td>\n",
       "      <td>31495</td>\n",
       "      <td>Automatic</td>\n",
       "      <td>8695</td>\n",
       "      <td>Diesel</td>\n",
       "      <td>145</td>\n",
       "      <td>37.7</td>\n",
       "      <td>2.0</td>\n",
       "    </tr>\n",
       "    <tr>\n",
       "      <th>892</th>\n",
       "      <td>Golf</td>\n",
       "      <td>2017</td>\n",
       "      <td>13690</td>\n",
       "      <td>Semi-Auto</td>\n",
       "      <td>18560</td>\n",
       "      <td>Diesel</td>\n",
       "      <td>20</td>\n",
       "      <td>58.9</td>\n",
       "      <td>1.6</td>\n",
       "    </tr>\n",
       "    <tr>\n",
       "      <th>6912</th>\n",
       "      <td>Polo</td>\n",
       "      <td>2019</td>\n",
       "      <td>13990</td>\n",
       "      <td>Manual</td>\n",
       "      <td>7155</td>\n",
       "      <td>Petrol</td>\n",
       "      <td>145</td>\n",
       "      <td>52.3</td>\n",
       "      <td>1.0</td>\n",
       "    </tr>\n",
       "    <tr>\n",
       "      <th>3328</th>\n",
       "      <td>Golf</td>\n",
       "      <td>2019</td>\n",
       "      <td>11490</td>\n",
       "      <td>Manual</td>\n",
       "      <td>14704</td>\n",
       "      <td>Petrol</td>\n",
       "      <td>150</td>\n",
       "      <td>49.6</td>\n",
       "      <td>1.0</td>\n",
       "    </tr>\n",
       "    <tr>\n",
       "      <th>5979</th>\n",
       "      <td>Passat</td>\n",
       "      <td>2019</td>\n",
       "      <td>23790</td>\n",
       "      <td>Semi-Auto</td>\n",
       "      <td>5831</td>\n",
       "      <td>Petrol</td>\n",
       "      <td>145</td>\n",
       "      <td>40.4</td>\n",
       "      <td>2.0</td>\n",
       "    </tr>\n",
       "    <tr>\n",
       "      <th>14249</th>\n",
       "      <td>Touran</td>\n",
       "      <td>2017</td>\n",
       "      <td>16995</td>\n",
       "      <td>Manual</td>\n",
       "      <td>24705</td>\n",
       "      <td>Petrol</td>\n",
       "      <td>145</td>\n",
       "      <td>52.3</td>\n",
       "      <td>1.2</td>\n",
       "    </tr>\n",
       "    <tr>\n",
       "      <th>14656</th>\n",
       "      <td>Golf SV</td>\n",
       "      <td>2019</td>\n",
       "      <td>22990</td>\n",
       "      <td>Semi-Auto</td>\n",
       "      <td>6000</td>\n",
       "      <td>Petrol</td>\n",
       "      <td>145</td>\n",
       "      <td>42.2</td>\n",
       "      <td>1.5</td>\n",
       "    </tr>\n",
       "    <tr>\n",
       "      <th>7209</th>\n",
       "      <td>Polo</td>\n",
       "      <td>2016</td>\n",
       "      <td>8495</td>\n",
       "      <td>Manual</td>\n",
       "      <td>30343</td>\n",
       "      <td>Petrol</td>\n",
       "      <td>20</td>\n",
       "      <td>60.1</td>\n",
       "      <td>1.2</td>\n",
       "    </tr>\n",
       "    <tr>\n",
       "      <th>6849</th>\n",
       "      <td>Polo</td>\n",
       "      <td>2019</td>\n",
       "      <td>11995</td>\n",
       "      <td>Manual</td>\n",
       "      <td>3112</td>\n",
       "      <td>Petrol</td>\n",
       "      <td>145</td>\n",
       "      <td>48.7</td>\n",
       "      <td>1.0</td>\n",
       "    </tr>\n",
       "    <tr>\n",
       "      <th>4180</th>\n",
       "      <td>Golf</td>\n",
       "      <td>2019</td>\n",
       "      <td>16999</td>\n",
       "      <td>Manual</td>\n",
       "      <td>8526</td>\n",
       "      <td>Petrol</td>\n",
       "      <td>150</td>\n",
       "      <td>47.1</td>\n",
       "      <td>1.5</td>\n",
       "    </tr>\n",
       "    <tr>\n",
       "      <th>371</th>\n",
       "      <td>T-Roc</td>\n",
       "      <td>2018</td>\n",
       "      <td>18900</td>\n",
       "      <td>Manual</td>\n",
       "      <td>11877</td>\n",
       "      <td>Petrol</td>\n",
       "      <td>145</td>\n",
       "      <td>55.4</td>\n",
       "      <td>1.0</td>\n",
       "    </tr>\n",
       "    <tr>\n",
       "      <th>4916</th>\n",
       "      <td>Golf</td>\n",
       "      <td>2018</td>\n",
       "      <td>13999</td>\n",
       "      <td>Manual</td>\n",
       "      <td>9878</td>\n",
       "      <td>Diesel</td>\n",
       "      <td>145</td>\n",
       "      <td>61.4</td>\n",
       "      <td>1.6</td>\n",
       "    </tr>\n",
       "    <tr>\n",
       "      <th>6079</th>\n",
       "      <td>Passat</td>\n",
       "      <td>2019</td>\n",
       "      <td>29980</td>\n",
       "      <td>Semi-Auto</td>\n",
       "      <td>2559</td>\n",
       "      <td>Petrol</td>\n",
       "      <td>145</td>\n",
       "      <td>35.8</td>\n",
       "      <td>2.0</td>\n",
       "    </tr>\n",
       "    <tr>\n",
       "      <th>4751</th>\n",
       "      <td>Golf</td>\n",
       "      <td>2016</td>\n",
       "      <td>13000</td>\n",
       "      <td>Manual</td>\n",
       "      <td>30209</td>\n",
       "      <td>Diesel</td>\n",
       "      <td>0</td>\n",
       "      <td>74.3</td>\n",
       "      <td>1.6</td>\n",
       "    </tr>\n",
       "    <tr>\n",
       "      <th>3784</th>\n",
       "      <td>Golf</td>\n",
       "      <td>2019</td>\n",
       "      <td>24866</td>\n",
       "      <td>Manual</td>\n",
       "      <td>5737</td>\n",
       "      <td>Petrol</td>\n",
       "      <td>145</td>\n",
       "      <td>37.2</td>\n",
       "      <td>2.0</td>\n",
       "    </tr>\n",
       "    <tr>\n",
       "      <th>5067</th>\n",
       "      <td>Golf</td>\n",
       "      <td>2019</td>\n",
       "      <td>18990</td>\n",
       "      <td>Manual</td>\n",
       "      <td>1133</td>\n",
       "      <td>Petrol</td>\n",
       "      <td>145</td>\n",
       "      <td>43.5</td>\n",
       "      <td>1.5</td>\n",
       "    </tr>\n",
       "    <tr>\n",
       "      <th>8937</th>\n",
       "      <td>Polo</td>\n",
       "      <td>2016</td>\n",
       "      <td>10000</td>\n",
       "      <td>Manual</td>\n",
       "      <td>22735</td>\n",
       "      <td>Petrol</td>\n",
       "      <td>20</td>\n",
       "      <td>60.1</td>\n",
       "      <td>1.2</td>\n",
       "    </tr>\n",
       "    <tr>\n",
       "      <th>7165</th>\n",
       "      <td>Polo</td>\n",
       "      <td>2015</td>\n",
       "      <td>6998</td>\n",
       "      <td>Manual</td>\n",
       "      <td>40310</td>\n",
       "      <td>Petrol</td>\n",
       "      <td>20</td>\n",
       "      <td>60.1</td>\n",
       "      <td>1.0</td>\n",
       "    </tr>\n",
       "    <tr>\n",
       "      <th>13909</th>\n",
       "      <td>Arteon</td>\n",
       "      <td>2019</td>\n",
       "      <td>26900</td>\n",
       "      <td>Automatic</td>\n",
       "      <td>2400</td>\n",
       "      <td>Diesel</td>\n",
       "      <td>145</td>\n",
       "      <td>50.4</td>\n",
       "      <td>2.0</td>\n",
       "    </tr>\n",
       "  </tbody>\n",
       "</table>\n",
       "</div>"
      ],
      "text/plain": [
       "          model  year  price transmission  mileage fuelType  tax   mpg  \\\n",
       "3286       Golf  2017  14000    Semi-Auto    26368   Petrol   30  55.4   \n",
       "13989    Arteon  2019  31495    Automatic     8695   Diesel  145  37.7   \n",
       "892        Golf  2017  13690    Semi-Auto    18560   Diesel   20  58.9   \n",
       "6912       Polo  2019  13990       Manual     7155   Petrol  145  52.3   \n",
       "3328       Golf  2019  11490       Manual    14704   Petrol  150  49.6   \n",
       "5979     Passat  2019  23790    Semi-Auto     5831   Petrol  145  40.4   \n",
       "14249    Touran  2017  16995       Manual    24705   Petrol  145  52.3   \n",
       "14656   Golf SV  2019  22990    Semi-Auto     6000   Petrol  145  42.2   \n",
       "7209       Polo  2016   8495       Manual    30343   Petrol   20  60.1   \n",
       "6849       Polo  2019  11995       Manual     3112   Petrol  145  48.7   \n",
       "4180       Golf  2019  16999       Manual     8526   Petrol  150  47.1   \n",
       "371       T-Roc  2018  18900       Manual    11877   Petrol  145  55.4   \n",
       "4916       Golf  2018  13999       Manual     9878   Diesel  145  61.4   \n",
       "6079     Passat  2019  29980    Semi-Auto     2559   Petrol  145  35.8   \n",
       "4751       Golf  2016  13000       Manual    30209   Diesel    0  74.3   \n",
       "3784       Golf  2019  24866       Manual     5737   Petrol  145  37.2   \n",
       "5067       Golf  2019  18990       Manual     1133   Petrol  145  43.5   \n",
       "8937       Polo  2016  10000       Manual    22735   Petrol   20  60.1   \n",
       "7165       Polo  2015   6998       Manual    40310   Petrol   20  60.1   \n",
       "13909    Arteon  2019  26900    Automatic     2400   Diesel  145  50.4   \n",
       "\n",
       "       engineSize  \n",
       "3286          1.4  \n",
       "13989         2.0  \n",
       "892           1.6  \n",
       "6912          1.0  \n",
       "3328          1.0  \n",
       "5979          2.0  \n",
       "14249         1.2  \n",
       "14656         1.5  \n",
       "7209          1.2  \n",
       "6849          1.0  \n",
       "4180          1.5  \n",
       "371           1.0  \n",
       "4916          1.6  \n",
       "6079          2.0  \n",
       "4751          1.6  \n",
       "3784          2.0  \n",
       "5067          1.5  \n",
       "8937          1.2  \n",
       "7165          1.0  \n",
       "13909         2.0  "
      ]
     },
     "execution_count": 4,
     "metadata": {},
     "output_type": "execute_result"
    }
   ],
   "source": [
    "# The 'sample' function provides 20 random samples.\n",
    "dataFrame.sample(20) # Let's examine 20 random samples from our dataset."
   ]
  },
  {
   "cell_type": "code",
   "execution_count": 5,
   "metadata": {},
   "outputs": [
    {
     "data": {
      "text/html": [
       "<div>\n",
       "<style scoped>\n",
       "    .dataframe tbody tr th:only-of-type {\n",
       "        vertical-align: middle;\n",
       "    }\n",
       "\n",
       "    .dataframe tbody tr th {\n",
       "        vertical-align: top;\n",
       "    }\n",
       "\n",
       "    .dataframe thead th {\n",
       "        text-align: right;\n",
       "    }\n",
       "</style>\n",
       "<table border=\"1\" class=\"dataframe\">\n",
       "  <thead>\n",
       "    <tr style=\"text-align: right;\">\n",
       "      <th></th>\n",
       "      <th>count</th>\n",
       "      <th>mean</th>\n",
       "      <th>std</th>\n",
       "      <th>min</th>\n",
       "      <th>25%</th>\n",
       "      <th>50%</th>\n",
       "      <th>75%</th>\n",
       "      <th>max</th>\n",
       "    </tr>\n",
       "  </thead>\n",
       "  <tbody>\n",
       "    <tr>\n",
       "      <th>year</th>\n",
       "      <td>15157.0</td>\n",
       "      <td>2017.255789</td>\n",
       "      <td>2.053059</td>\n",
       "      <td>2000.0</td>\n",
       "      <td>2016.0</td>\n",
       "      <td>2017.0</td>\n",
       "      <td>2019.0</td>\n",
       "      <td>2020.0</td>\n",
       "    </tr>\n",
       "    <tr>\n",
       "      <th>price</th>\n",
       "      <td>15157.0</td>\n",
       "      <td>16838.952365</td>\n",
       "      <td>7755.015206</td>\n",
       "      <td>899.0</td>\n",
       "      <td>10990.0</td>\n",
       "      <td>15497.0</td>\n",
       "      <td>20998.0</td>\n",
       "      <td>69994.0</td>\n",
       "    </tr>\n",
       "    <tr>\n",
       "      <th>mileage</th>\n",
       "      <td>15157.0</td>\n",
       "      <td>22092.785644</td>\n",
       "      <td>21148.941635</td>\n",
       "      <td>1.0</td>\n",
       "      <td>5962.0</td>\n",
       "      <td>16393.0</td>\n",
       "      <td>31824.0</td>\n",
       "      <td>212000.0</td>\n",
       "    </tr>\n",
       "    <tr>\n",
       "      <th>tax</th>\n",
       "      <td>15157.0</td>\n",
       "      <td>112.744277</td>\n",
       "      <td>63.482617</td>\n",
       "      <td>0.0</td>\n",
       "      <td>30.0</td>\n",
       "      <td>145.0</td>\n",
       "      <td>145.0</td>\n",
       "      <td>580.0</td>\n",
       "    </tr>\n",
       "    <tr>\n",
       "      <th>mpg</th>\n",
       "      <td>15157.0</td>\n",
       "      <td>53.753355</td>\n",
       "      <td>13.642182</td>\n",
       "      <td>0.3</td>\n",
       "      <td>46.3</td>\n",
       "      <td>53.3</td>\n",
       "      <td>60.1</td>\n",
       "      <td>188.3</td>\n",
       "    </tr>\n",
       "    <tr>\n",
       "      <th>engineSize</th>\n",
       "      <td>15157.0</td>\n",
       "      <td>1.600693</td>\n",
       "      <td>0.461695</td>\n",
       "      <td>0.0</td>\n",
       "      <td>1.2</td>\n",
       "      <td>1.6</td>\n",
       "      <td>2.0</td>\n",
       "      <td>3.2</td>\n",
       "    </tr>\n",
       "  </tbody>\n",
       "</table>\n",
       "</div>"
      ],
      "text/plain": [
       "              count          mean           std     min      25%      50%  \\\n",
       "year        15157.0   2017.255789      2.053059  2000.0   2016.0   2017.0   \n",
       "price       15157.0  16838.952365   7755.015206   899.0  10990.0  15497.0   \n",
       "mileage     15157.0  22092.785644  21148.941635     1.0   5962.0  16393.0   \n",
       "tax         15157.0    112.744277     63.482617     0.0     30.0    145.0   \n",
       "mpg         15157.0     53.753355     13.642182     0.3     46.3     53.3   \n",
       "engineSize  15157.0      1.600693      0.461695     0.0      1.2      1.6   \n",
       "\n",
       "                75%       max  \n",
       "year         2019.0    2020.0  \n",
       "price       20998.0   69994.0  \n",
       "mileage     31824.0  212000.0  \n",
       "tax           145.0     580.0  \n",
       "mpg            60.1     188.3  \n",
       "engineSize      2.0       3.2  "
      ]
     },
     "execution_count": 5,
     "metadata": {},
     "output_type": "execute_result"
    }
   ],
   "source": [
    "\"\"\"\n",
    "The describe() method generates a statistical summary of numerical data within a DataFrame or Series. \n",
    "This summary includes the count, mean, standard deviation (std), minimum value (min), quartiles, median, and maximum value (max) of numerical data in a specific column (or the entire DataFrame).\n",
    "These details provide an overview of the general distribution and central tendency of the dataset.\n",
    "\n",
    "\"\"\"\n",
    "# To view the statistical summary of each feature in a more readable format, we are taking the transpose of the statistical summary of the dataset.\n",
    "dataFrame.describe().T"
   ]
  },
  {
   "cell_type": "code",
   "execution_count": 6,
   "metadata": {},
   "outputs": [
    {
     "name": "stdout",
     "output_type": "stream",
     "text": [
      "<class 'pandas.core.frame.DataFrame'>\n",
      "RangeIndex: 15157 entries, 0 to 15156\n",
      "Data columns (total 9 columns):\n",
      " #   Column        Non-Null Count  Dtype  \n",
      "---  ------        --------------  -----  \n",
      " 0   model         15157 non-null  object \n",
      " 1   year          15157 non-null  int64  \n",
      " 2   price         15157 non-null  int64  \n",
      " 3   transmission  15157 non-null  object \n",
      " 4   mileage       15157 non-null  int64  \n",
      " 5   fuelType      15157 non-null  object \n",
      " 6   tax           15157 non-null  int64  \n",
      " 7   mpg           15157 non-null  float64\n",
      " 8   engineSize    15157 non-null  float64\n",
      "dtypes: float64(2), int64(4), object(3)\n",
      "memory usage: 1.0+ MB\n"
     ]
    }
   ],
   "source": [
    "\"\"\"\n",
    "This method provides a concise summary of the DataFrame including the number of non-null \n",
    "entries and data types of each column, which can be useful for understanding \n",
    "the structure and completeness of the dataset.\n",
    "\n",
    "\"\"\"\n",
    "dataFrame.info() "
   ]
  },
  {
   "cell_type": "code",
   "execution_count": 7,
   "metadata": {},
   "outputs": [
    {
     "data": {
      "text/plain": [
       "model           0\n",
       "year            0\n",
       "price           0\n",
       "transmission    0\n",
       "mileage         0\n",
       "fuelType        0\n",
       "tax             0\n",
       "mpg             0\n",
       "engineSize      0\n",
       "dtype: int64"
      ]
     },
     "execution_count": 7,
     "metadata": {},
     "output_type": "execute_result"
    }
   ],
   "source": [
    "\"\"\"\n",
    "This method counts the number of missing values (NaN) in each column of the DataFrame, \n",
    "helping us identify which columns have missing data.\n",
    "\n",
    "\n",
    "Let's examine how many missing values and in which features we have in our dataset. \n",
    "Then, let's brainstorm some methods to handle these missing values.\n",
    "\"\"\"\n",
    "\n",
    "dataFrame.isnull().sum()\n",
    "\n",
    "# As seen, there are no missing values in our dataset."
   ]
  },
  {
   "cell_type": "markdown",
   "metadata": {},
   "source": [
    "#### Let's examine the features in our dataset one by one."
   ]
  },
  {
   "cell_type": "markdown",
   "metadata": {},
   "source": [
    "1. Model"
   ]
  },
  {
   "cell_type": "code",
   "execution_count": 8,
   "metadata": {},
   "outputs": [
    {
     "data": {
      "text/plain": [
       "array([' T-Roc', ' Golf', ' Passat', ' T-Cross', ' Polo', ' Tiguan',\n",
       "       ' Sharan', ' Up', ' Scirocco', ' Beetle', ' Caddy Maxi Life',\n",
       "       ' Caravelle', ' Touareg', ' Arteon', ' Touran', ' Golf SV',\n",
       "       ' Amarok', ' Tiguan Allspace', ' Shuttle', ' Jetta', ' CC',\n",
       "       ' California', ' Caddy Life', ' Caddy', ' Caddy Maxi', ' Eos',\n",
       "       ' Fox'], dtype=object)"
      ]
     },
     "execution_count": 8,
     "metadata": {},
     "output_type": "execute_result"
    }
   ],
   "source": [
    "\"\"\"\n",
    "The unique() method returns the unique values within a Series.\n",
    "\n",
    "\"\"\"\n",
    "# Let's examine the unique values in the 'model' column to see which car models are present in our dataset.\n",
    "dataFrame.model.unique()"
   ]
  },
  {
   "cell_type": "code",
   "execution_count": 9,
   "metadata": {},
   "outputs": [
    {
     "data": {
      "text/plain": [
       "model\n",
       "Golf               4863\n",
       "Polo               3287\n",
       "Tiguan             1765\n",
       "Passat              915\n",
       "Up                  884\n",
       "T-Roc               733\n",
       "Touareg             363\n",
       "Touran              352\n",
       "T-Cross             300\n",
       "Golf SV             268\n",
       "Sharan              260\n",
       "Arteon              248\n",
       "Scirocco            242\n",
       "Amarok              111\n",
       "Caravelle           101\n",
       "CC                   95\n",
       "Tiguan Allspace      91\n",
       "Beetle               83\n",
       "Shuttle              61\n",
       "Caddy Maxi Life      59\n",
       "Jetta                32\n",
       "California           15\n",
       "Caddy Life            8\n",
       "Eos                   7\n",
       "Caddy                 6\n",
       "Caddy Maxi            4\n",
       "Fox                   4\n",
       "Name: count, dtype: int64"
      ]
     },
     "execution_count": 9,
     "metadata": {},
     "output_type": "execute_result"
    }
   ],
   "source": [
    "\"\"\"\n",
    "The `value_counts()` function calculates the number of unique values in a Series.\n",
    "This function is particularly useful for computing the frequency of unique categories in a categorical variable.\n",
    "The result is returned as a Series containing how many times each unique value is observed, indicating which categories are more common in the dataset. \n",
    "This information provides a significant insight into the distribution of the dataset.\n",
    "\n",
    "\"\"\"\n",
    "# To gain insight into the distribution of the 'model' column, let's examine the number of unique values in the 'model' column and the count of each unique model.\n",
    "dataFrame.model.value_counts()"
   ]
  },
  {
   "cell_type": "code",
   "execution_count": 10,
   "metadata": {},
   "outputs": [
    {
     "data": {
      "text/plain": [
       "count     15157\n",
       "unique       27\n",
       "top        Golf\n",
       "freq       4863\n",
       "Name: model, dtype: object"
      ]
     },
     "execution_count": 10,
     "metadata": {},
     "output_type": "execute_result"
    }
   ],
   "source": [
    "# Let's look at the statistical summary of the 'model' column to examine the distribution and central tendency of the model column.\n",
    "dataFrame.model.describe()"
   ]
  },
  {
   "cell_type": "markdown",
   "metadata": {},
   "source": [
    "2. Year"
   ]
  },
  {
   "cell_type": "code",
   "execution_count": 11,
   "metadata": {},
   "outputs": [
    {
     "data": {
      "text/plain": [
       "array([2019, 2020, 2018, 2017, 2015, 2016, 2013, 2014, 2009, 2010, 2004,\n",
       "       2003, 2012, 2011, 2008, 2000, 2006, 2002, 2005, 2007, 2001],\n",
       "      dtype=int64)"
      ]
     },
     "execution_count": 11,
     "metadata": {},
     "output_type": "execute_result"
    }
   ],
   "source": [
    "# Let's examine the unique values in the 'year' column to see which years the cars in our dataset belong to.\n",
    "dataFrame.year.unique()"
   ]
  },
  {
   "cell_type": "code",
   "execution_count": 12,
   "metadata": {},
   "outputs": [
    {
     "data": {
      "text/plain": [
       "year\n",
       "2019    4669\n",
       "2017    2947\n",
       "2016    2647\n",
       "2018    1509\n",
       "2015    1153\n",
       "2020    1046\n",
       "2014     580\n",
       "2013     315\n",
       "2012      80\n",
       "2011      57\n",
       "2010      41\n",
       "2009      31\n",
       "2008      27\n",
       "2007      20\n",
       "2006      16\n",
       "2005       8\n",
       "2001       4\n",
       "2004       3\n",
       "2003       2\n",
       "2002       1\n",
       "2000       1\n",
       "Name: count, dtype: int64"
      ]
     },
     "execution_count": 12,
     "metadata": {},
     "output_type": "execute_result"
    }
   ],
   "source": [
    "# To understand the distribution of vehicles by years, let's examine the number of unique values in the 'year' column and the distribution of vehicles in our dataset for each year.\n",
    "dataFrame.year.value_counts()"
   ]
  },
  {
   "cell_type": "code",
   "execution_count": 13,
   "metadata": {},
   "outputs": [
    {
     "data": {
      "text/plain": [
       "count    15157.000000\n",
       "mean      2017.255789\n",
       "std          2.053059\n",
       "min       2000.000000\n",
       "25%       2016.000000\n",
       "50%       2017.000000\n",
       "75%       2019.000000\n",
       "max       2020.000000\n",
       "Name: year, dtype: float64"
      ]
     },
     "execution_count": 13,
     "metadata": {},
     "output_type": "execute_result"
    }
   ],
   "source": [
    "# Let's look at the statistical summary of the 'year' column to examine the distribution and central tendency of the year column.\n",
    "dataFrame.year.describe()"
   ]
  },
  {
   "cell_type": "markdown",
   "metadata": {},
   "source": [
    "3. fuelType"
   ]
  },
  {
   "cell_type": "code",
   "execution_count": 14,
   "metadata": {},
   "outputs": [
    {
     "data": {
      "text/plain": [
       "array(['Diesel', 'Petrol', 'Other', 'Hybrid'], dtype=object)"
      ]
     },
     "execution_count": 14,
     "metadata": {},
     "output_type": "execute_result"
    }
   ],
   "source": [
    "# Let's look at the unique values in the 'fuelType' column to examine all the different fuel types used by the vehicles in the dataset.\n",
    "dataFrame.fuelType.unique()"
   ]
  },
  {
   "cell_type": "code",
   "execution_count": 15,
   "metadata": {},
   "outputs": [
    {
     "data": {
      "text/plain": [
       "fuelType\n",
       "Petrol    8553\n",
       "Diesel    6372\n",
       "Hybrid     145\n",
       "Other       87\n",
       "Name: count, dtype: int64"
      ]
     },
     "execution_count": 15,
     "metadata": {},
     "output_type": "execute_result"
    }
   ],
   "source": [
    "# Let's examine the frequency of each unique value in the 'fuelType' column to understand the distribution of fuel types among the vehicles in the dataset.\n",
    "dataFrame.fuelType.value_counts()"
   ]
  },
  {
   "cell_type": "code",
   "execution_count": 16,
   "metadata": {},
   "outputs": [
    {
     "data": {
      "text/plain": [
       "count      15157\n",
       "unique         4\n",
       "top       Petrol\n",
       "freq        8553\n",
       "Name: fuelType, dtype: object"
      ]
     },
     "execution_count": 16,
     "metadata": {},
     "output_type": "execute_result"
    }
   ],
   "source": [
    "# To understand the types of fuels used by the cars in the dataset, let's examine the statistical summary of the 'fuelType' column.\n",
    "dataFrame.fuelType.describe()"
   ]
  },
  {
   "cell_type": "code",
   "execution_count": 17,
   "metadata": {},
   "outputs": [
    {
     "data": {
      "text/plain": [
       "<Axes: ylabel='fuelType'>"
      ]
     },
     "execution_count": 17,
     "metadata": {},
     "output_type": "execute_result"
    },
    {
     "data": {
      "image/png": "[encoded data removed]",
      "text/plain": [
       "<Figure size 640x480 with 1 Axes>"
      ]
     },
     "metadata": {},
     "output_type": "display_data"
    }
   ],
   "source": [
    "\"\"\"\n",
    "The plot.barh() method is used to draw horizontal bar plots. These types of plots are useful for visualizing the distribution of categorical data.\n",
    "\n",
    "\"\"\"\n",
    "\n",
    "# Let's analyze the horizontal bar chart to gather information about the types of fuels used by the vehicles in our dataset and try to understand the trends in fuel usage.\n",
    "dataFrame.fuelType.value_counts().plot.barh()"
   ]
  },
  {
   "cell_type": "code",
   "execution_count": 18,
   "metadata": {},
   "outputs": [
    {
     "data": {
      "text/plain": [
       "Text(0, 0.5, 'Fuel Type')"
      ]
     },
     "execution_count": 18,
     "metadata": {},
     "output_type": "execute_result"
    },
    {
     "data": {
      "image/png": "[encoded data removed]",
      "text/plain": [
       "<Figure size 500x1500 with 1 Axes>"
      ]
     },
     "metadata": {},
     "output_type": "display_data"
    }
   ],
   "source": [
    "\"\"\"\n",
    "fig = plt.figure(figsize=(5,15)):\n",
    "This line creates a new figure object using plt.figure(). \n",
    "The figsize argument sets the width and height of the figure in inches. \n",
    "Here, it's set to (5, 15), making the chart tall and narrow.\n",
    "\n",
    "dataFrame.fuelType.value_counts().plot(kind='pie', autopct='%.1f%%'):\n",
    "This line generates the pie chart using the plot() method on the value_counts() Series.\n",
    "kind='pie' specifies the chart type as a pie chart.\n",
    "autopct='%.1f%%' sets the format for displaying percentages on each pie slice. It shows percentages with one decimal place.\n",
    "\n",
    "plt.ylabel(\"Yakıt Tipi\", fontsize=20):\n",
    "This line sets the label of the y-axis (representing fuel types) as \"Yakıt Tipi\".\n",
    "fontsize=20 makes the label text 20 points in size for better readability.\n",
    "\n",
    "\"\"\"\n",
    "\n",
    "\n",
    "# Let's quickly grasp the relative popularity of different fuel types among the vehicles in our dataset by analyzing the pie chart.\n",
    "fig = plt.figure(figsize=(5,15))\n",
    "dataFrame.fuelType.value_counts().plot(kind='pie',autopct='%.1f%%')\n",
    "plt.ylabel(\"Fuel Type\", fontsize=20)"
   ]
  },
  {
   "cell_type": "markdown",
   "metadata": {},
   "source": [
    "4. Trasnmission"
   ]
  },
  {
   "cell_type": "code",
   "execution_count": 19,
   "metadata": {},
   "outputs": [
    {
     "data": {
      "text/plain": [
       "array(['Automatic', 'Manual', 'Semi-Auto'], dtype=object)"
      ]
     },
     "execution_count": 19,
     "metadata": {},
     "output_type": "execute_result"
    }
   ],
   "source": [
    "# Let's examine the unique values in the 'transmission' column to see which transmission types are used by the cars in our dataset.\n",
    "dataFrame.transmission.unique()"
   ]
  },
  {
   "cell_type": "code",
   "execution_count": 20,
   "metadata": {},
   "outputs": [
    {
     "data": {
      "text/plain": [
       "transmission\n",
       "Manual       9417\n",
       "Semi-Auto    3780\n",
       "Automatic    1960\n",
       "Name: count, dtype: int64"
      ]
     },
     "execution_count": 20,
     "metadata": {},
     "output_type": "execute_result"
    }
   ],
   "source": [
    "# To understand the distribution of transmission types among vehicles in our dataset, let's examine the frequency of each unique value in the 'transmission' column.\n",
    "dataFrame.transmission.value_counts()"
   ]
  },
  {
   "cell_type": "code",
   "execution_count": 21,
   "metadata": {},
   "outputs": [
    {
     "data": {
      "text/plain": [
       "count      15157\n",
       "unique         3\n",
       "top       Manual\n",
       "freq        9417\n",
       "Name: transmission, dtype: object"
      ]
     },
     "execution_count": 21,
     "metadata": {},
     "output_type": "execute_result"
    }
   ],
   "source": [
    "# To understand the transmission types of vehicles in our dataset, let's examine the statistical summary of the 'transmission' column.\n",
    "dataFrame.transmission.describe()"
   ]
  },
  {
   "cell_type": "code",
   "execution_count": 22,
   "metadata": {},
   "outputs": [
    {
     "data": {
      "text/plain": [
       "Text(0, 0.5, 'Vites Tipi')"
      ]
     },
     "execution_count": 22,
     "metadata": {},
     "output_type": "execute_result"
    },
    {
     "data": {
      "image/png": "[encoded data removed]",
      "text/plain": [
       "<Figure size 500x1500 with 1 Axes>"
      ]
     },
     "metadata": {},
     "output_type": "display_data"
    }
   ],
   "source": [
    "# Let's quickly grasp the relative popularity of the transmission types used by the vehicles in our dataset by analyzing the pie chart.\n",
    "fig = plt.figure(figsize=(5,15))\n",
    "dataFrame.transmission.value_counts().plot(kind='pie',autopct='%.1f%%')\n",
    "plt.ylabel(\"Vites Tipi\", fontsize=20)"
   ]
  },
  {
   "cell_type": "markdown",
   "metadata": {},
   "source": [
    "5. engineSize"
   ]
  },
  {
   "cell_type": "code",
   "execution_count": 23,
   "metadata": {},
   "outputs": [
    {
     "data": {
      "text/plain": [
       "array([2. , 1.5, 1. , 1.6, 0. , 1.4, 3.2, 1.2, 1.9, 1.8, 2.5, 3. ])"
      ]
     },
     "execution_count": 23,
     "metadata": {},
     "output_type": "execute_result"
    }
   ],
   "source": [
    "# Let's examine the unique engine sizes present in the dataset to understand which engine sizes are used.\n",
    "dataFrame.engineSize.unique()"
   ]
  },
  {
   "cell_type": "code",
   "execution_count": 24,
   "metadata": {},
   "outputs": [
    {
     "data": {
      "text/plain": [
       "engineSize\n",
       "2.0    5570\n",
       "1.0    3121\n",
       "1.6    1629\n",
       "1.4    1536\n",
       "1.5    1446\n",
       "1.2    1304\n",
       "3.0     450\n",
       "1.8      77\n",
       "0.0      15\n",
       "1.9       4\n",
       "2.5       3\n",
       "3.2       2\n",
       "Name: count, dtype: int64"
      ]
     },
     "execution_count": 24,
     "metadata": {},
     "output_type": "execute_result"
    }
   ],
   "source": [
    "# Let's examine the distribution of engine sizes among the vehicles in the dataset to understand which engine size is preferred more.\n",
    "dataFrame.engineSize.value_counts()"
   ]
  },
  {
   "cell_type": "code",
   "execution_count": 25,
   "metadata": {},
   "outputs": [
    {
     "data": {
      "text/plain": [
       "count    15157.000000\n",
       "mean         1.600693\n",
       "std          0.461695\n",
       "min          0.000000\n",
       "25%          1.200000\n",
       "50%          1.600000\n",
       "75%          2.000000\n",
       "max          3.200000\n",
       "Name: engineSize, dtype: float64"
      ]
     },
     "execution_count": 25,
     "metadata": {},
     "output_type": "execute_result"
    }
   ],
   "source": [
    "# Let's examine the statistical summary of the 'engineSize' column.\n",
    "dataFrame.engineSize.describe()"
   ]
  },
  {
   "cell_type": "code",
   "execution_count": 26,
   "metadata": {},
   "outputs": [
    {
     "data": {
      "text/plain": [
       "<Axes: ylabel='engineSize'>"
      ]
     },
     "execution_count": 26,
     "metadata": {},
     "output_type": "execute_result"
    },
    {
     "data": {
      "image/png": "[encoded data removed]",
      "text/plain": [
       "<Figure size 640x480 with 1 Axes>"
      ]
     },
     "metadata": {},
     "output_type": "display_data"
    }
   ],
   "source": [
    "# Let's visualize the distribution of engine sizes among the vehicles in the dataset using a horizontal bar plot to understand which engine size is preferred more.\n",
    "dataFrame.engineSize.value_counts().plot.barh()"
   ]
  },
  {
   "cell_type": "markdown",
   "metadata": {},
   "source": [
    "6. Mileage"
   ]
  },
  {
   "cell_type": "code",
   "execution_count": 27,
   "metadata": {},
   "outputs": [
    {
     "name": "stderr",
     "output_type": "stream",
     "text": [
      "C:\\Users\\baha_\\AppData\\Local\\Temp\\ipykernel_4192\\2145278510.py:6: UserWarning: \n",
      "\n",
      "`distplot` is a deprecated function and will be removed in seaborn v0.14.0.\n",
      "\n",
      "Please adapt your code to use either `displot` (a figure-level function with\n",
      "similar flexibility) or `histplot` (an axes-level function for histograms).\n",
      "\n",
      "For a guide to updating your code to use the new functions, please see\n",
      "https://gist.github.com/mwaskom/de44147ed2974457ad6372750bbe5751\n",
      "\n",
      "  sbn.distplot(dataFrame[\"mileage\"],kde=False, norm_hist=True)\n"
     ]
    },
    {
     "data": {
      "text/plain": [
       "<Axes: xlabel='mileage'>"
      ]
     },
     "execution_count": 27,
     "metadata": {},
     "output_type": "execute_result"
    },
    {
     "data": {
      "image/png": "[encoded data removed]",
      "text/plain": [
       "<Figure size 640x480 with 1 Axes>"
      ]
     },
     "metadata": {},
     "output_type": "display_data"
    }
   ],
   "source": [
    "\"\"\"\n",
    "This code generates a distribution plot (histogram) for the \"mileage\" feature without kernel density estimation (KDE) and with normalized histogram densities. \n",
    "This way, we can better understand the distribution of mileage for the vehicles and make better decisions for training\n",
    "\n",
    "\"\"\"\n",
    "sbn.distplot(dataFrame[\"mileage\"],kde=False, norm_hist=True) "
   ]
  },
  {
   "cell_type": "markdown",
   "metadata": {},
   "source": [
    "7. Price"
   ]
  },
  {
   "cell_type": "code",
   "execution_count": 28,
   "metadata": {},
   "outputs": [
    {
     "data": {
      "text/plain": [
       "<Axes: ylabel='price'>"
      ]
     },
     "execution_count": 28,
     "metadata": {},
     "output_type": "execute_result"
    },
    {
     "data": {
      "image/png": "[encoded data removed]",
      "text/plain": [
       "<Figure size 640x480 with 1 Axes>"
      ]
     },
     "metadata": {},
     "output_type": "display_data"
    }
   ],
   "source": [
    "# Let's visualize the distribution of car prices in the dataset using a horizontal bar plot to understand the distribution of car prices.\n",
    "dataFrame.price.value_counts().plot.barh()"
   ]
  },
  {
   "cell_type": "code",
   "execution_count": 29,
   "metadata": {},
   "outputs": [
    {
     "name": "stderr",
     "output_type": "stream",
     "text": [
      "C:\\Users\\baha_\\AppData\\Local\\Temp\\ipykernel_4192\\3355493357.py:16: UserWarning: \n",
      "\n",
      "`distplot` is a deprecated function and will be removed in seaborn v0.14.0.\n",
      "\n",
      "Please adapt your code to use either `displot` (a figure-level function with\n",
      "similar flexibility) or `histplot` (an axes-level function for histograms).\n",
      "\n",
      "For a guide to updating your code to use the new functions, please see\n",
      "https://gist.github.com/mwaskom/de44147ed2974457ad6372750bbe5751\n",
      "\n",
      "  sbn.distplot(dataFrame[\"price\"],kde=False, norm_hist=True)\n"
     ]
    },
    {
     "data": {
      "text/plain": [
       "<Axes: xlabel='price'>"
      ]
     },
     "execution_count": 29,
     "metadata": {},
     "output_type": "execute_result"
    },
    {
     "data": {
      "image/png": "[encoded data removed]",
      "text/plain": [
       "<Figure size 640x480 with 1 Axes>"
      ]
     },
     "metadata": {},
     "output_type": "display_data"
    }
   ],
   "source": [
    "\"\"\"\n",
    "sbn.distplot:\n",
    "The distplot function from the seaborn library is called to generate the distribution plot.\n",
    "\n",
    "dataFrame[\"fiyat\"]: This selects a specific column of the dataset you want to visualize.\n",
    "Here, the \"price\" column contains car prices, and we want to visualize the distribution of this column.\n",
    "\n",
    "kde=False: This parameter prevents the display of kernel density estimation (KDE).\n",
    "In other words, it doesn't draw a density estimate line on the graph.\n",
    "\n",
    "norm_hist=True: This parameter enables the normalization of histogram densities.\n",
    "It means the total area will be adjusted to be equal to 1.\n",
    "\"\"\"\n",
    "\n",
    "# Let's try a different graph to better understand the distribution of prices.\n",
    "sbn.distplot(dataFrame[\"price\"],kde=False, norm_hist=True) \n"
   ]
  },
  {
   "cell_type": "code",
   "execution_count": 30,
   "metadata": {},
   "outputs": [
    {
     "data": {
      "text/plain": [
       "<Axes: xlabel='mileage', ylabel='price'>"
      ]
     },
     "execution_count": 30,
     "metadata": {},
     "output_type": "execute_result"
    },
    {
     "data": {
      "image/png": "[encoded data removed]",
      "text/plain": [
       "<Figure size 640x480 with 1 Axes>"
      ]
     },
     "metadata": {},
     "output_type": "display_data"
    }
   ],
   "source": [
    "# Let's examine how we can refine our model training by analyzing the price and mileage distribution chart for vehicles.\n",
    "sbn.scatterplot(x=\"mileage\",y=\"price\",data=dataFrame)\n"
   ]
  },
  {
   "cell_type": "code",
   "execution_count": 31,
   "metadata": {},
   "outputs": [
    {
     "data": {
      "text/plain": [
       "(array([' T-Roc', ' Golf', ' Passat', ' T-Cross', ' Polo', ' Tiguan',\n",
       "        ' Sharan', ' Up', ' Scirocco', ' Beetle', ' Caddy Maxi Life',\n",
       "        ' Caravelle', ' Touareg', ' Arteon', ' Touran', ' Golf SV',\n",
       "        ' Amarok', ' Tiguan Allspace', ' Shuttle', ' Jetta', ' CC',\n",
       "        ' California', ' Caddy Life', ' Caddy', ' Caddy Maxi', ' Eos',\n",
       "        ' Fox'], dtype=object),\n",
       " array(['Automatic', 'Manual', 'Semi-Auto'], dtype=object),\n",
       " array(['Diesel', 'Petrol', 'Other', 'Hybrid'], dtype=object))"
      ]
     },
     "execution_count": 31,
     "metadata": {},
     "output_type": "execute_result"
    }
   ],
   "source": [
    "\"\"\" \n",
    "Let's identify the features that have the data type object. \n",
    "To train a better model, we should convert object data types that could be int or float by fixing them.\n",
    "\"The unique method returns unique values, eliminating duplicates.\"\n",
    "\n",
    "\"\"\"\n",
    "# Let's examine the features with object data type and brainstorm ideas for data preprocessing for each one, considering what preprocessing steps we can take for each feature.\n",
    "dataFrame[\"model\"].unique() , dataFrame[\"transmission\"].unique() , dataFrame[\"fuelType\"].unique()"
   ]
  },
  {
   "cell_type": "markdown",
   "metadata": {},
   "source": [
    "## 3. Data Preprocessing\n",
    "* Data preprocessing is a crucial step in the machine learning process, involving cleaning, transforming, and preparing raw data to make it suitable for analysis and modeling. It plays a significant role in ensuring the quality, consistency, and relevance of the data used to train and evaluate machine learning models.\n",
    " 1. Handling Missing Values: To train a strong model, there shouldn't be any missing or null values in the dataset, therefore we should eliminate these values by applying various methods. These methods include removing rows or columns with missing values, imputing missing values with mean, median, or mode, or using advanced techniques like interpolation.\n",
    " \n",
    " 2. Data Cleaning: To train a strong model, we should clean the data by removing duplicates, correcting errors, ensuring consistency in formatting, and detecting and removing outliers to improve data quality.\n",
    " \n",
    " 3. Feature Scaling: Feature Scaling is a data preprocessing technique that normalizes the range of features in a dataset. It ensures that all features have a similar scale, preventing any single feature from dominating the model during training. This makes the learning process more efficient and can improve the accuracy of machine learning models.\n",
    " \n",
    "                 * Min-Max Scaling: Scales features to a range between 0 and 1.\n",
    "                 * Standard Scaling (Z-Score Normalization): Standardizes features by subtracting the mean and dividing by the standard deviation.\n",
    "\n",
    " 4. Feature Encoding: Feature encoding is a crucial step in data preprocessing for machine learning models. It involves converting categorical or text data into numerical representations that can be understood and processed by machine learning algorithms. Most machine learning algorithms operate on numerical data, while real-world data often contains categorical features like colors, brands, or text descriptions. Feature encoding bridges this gap by transforming these non-numerical features into a format suitable for model training.\n",
    "\n",
    "                 * One-Hot Encoding: This is a popular technique for categorical features with a fixed number of categories. It creates a new binary feature for each category, where 1 indicates the presence of that category and 0 indicates its absence. This creates a sparse representation of the data, which can be computationally expensive for models with high-dimensional data.\n",
    "                 * Label Encoding: This assigns a unique integer value to each category. While simpler than one-hot encoding, it assumes an inherent order between the categories, which may not always be true.\n",
    "\n",
    " 5. Feature Engineering: Feature engineering is an essential step in the machine learning workflow that involves transforming raw data into features suitable for model training. It goes beyond simply cleaning and preparing the data; it actively creates new features that can enhance the model's ability to learn and predict.\n"
   ]
  },
  {
   "cell_type": "code",
   "execution_count": 32,
   "metadata": {},
   "outputs": [],
   "source": [
    "\"\"\"\n",
    "In the EDA phase, we need to transform the structures we discovered so that our model can process and understand them.\n",
    "First, we should convert categorical values into numerical ones for the model to comprehend and process.\n",
    "There are two methods for this: 1. One-Hot Encoding and 2. Label Encoding.\n",
    "The choice of method will depend on the distribution of categorical types, as explained above.\n",
    "\n",
    "Since there are more than two different values in the 'model' column, we should apply the Label Encoding method.\n",
    "Label encoding is used to convert categorical data into numerical values. \n",
    "It assigns a unique numerical value to each category in a categorical feature, thereby allowing machine learning algorithms to understand and process these values. \n",
    "Since machine learning algorithms typically work with numerical data, categorical data needs to be converted into numerical values for processing. \n",
    "\"\"\"\n",
    "\n",
    "# Let's create an encoding object for encoding categorical data.\n",
    "LabelEncoder=preprocessing.LabelEncoder()"
   ]
  },
  {
   "cell_type": "code",
   "execution_count": 33,
   "metadata": {},
   "outputs": [],
   "source": [
    "\"\"\"\n",
    "df[\"model\"] = le.fit_transform(df[\"model\"]).astype('int64'): \n",
    "This is the core line that performs label encoding.\n",
    "\n",
    "le.fit_transform(df[\"model\"]):\n",
    "This part applies the LabelEncoder object to the \"model\" column of the DataFrame. \n",
    "It fits the encoder to the categories present in the column and then transforms the categorical values into numerical representations.\n",
    "\n",
    ".astype('int64'):\n",
    "This converts the resulting numerical values to the integer data type (int64) to ensure they are stored efficiently in the DataFrame.\n",
    "\n",
    "\"\"\"\n",
    "\n",
    "# Let's label encode our 'model' column to prepare it for machine learning and put it into the appropriate format.\n",
    "dataFrame[\"model\"] = LabelEncoder.fit_transform(dataFrame.model).astype('int64')"
   ]
  },
  {
   "cell_type": "code",
   "execution_count": 34,
   "metadata": {},
   "outputs": [
    {
     "data": {
      "text/plain": [
       "array([' Amarok', ' Arteon', ' Beetle', ' CC', ' Caddy', ' Caddy Life',\n",
       "       ' Caddy Maxi', ' Caddy Maxi Life', ' California', ' Caravelle',\n",
       "       ' Eos', ' Fox', ' Golf', ' Golf SV', ' Jetta', ' Passat', ' Polo',\n",
       "       ' Scirocco', ' Sharan', ' Shuttle', ' T-Cross', ' T-Roc',\n",
       "       ' Tiguan', ' Tiguan Allspace', ' Touareg', ' Touran', ' Up'],\n",
       "      dtype=object)"
      ]
     },
     "execution_count": 34,
     "metadata": {},
     "output_type": "execute_result"
    }
   ],
   "source": [
    "# The .classes_ function allows us to see the data we have tag encoded.\n",
    "listCarModel =LabelEncoder.classes_ \n",
    "listCarModel"
   ]
  },
  {
   "cell_type": "code",
   "execution_count": 35,
   "metadata": {},
   "outputs": [
    {
     "data": {
      "text/plain": [
       "array([21, 12, 15, 20, 16, 22, 18, 26, 17,  2,  7,  9, 24,  1, 25, 13,  0,\n",
       "       23, 19, 14,  3,  8,  5,  4,  6, 10, 11], dtype=int64)"
      ]
     },
     "execution_count": 35,
     "metadata": {},
     "output_type": "execute_result"
    }
   ],
   "source": [
    "# After label encoding, let's check the unique values in our \"model\" column.\n",
    "dataFrame.model.unique()"
   ]
  },
  {
   "cell_type": "code",
   "execution_count": 36,
   "metadata": {},
   "outputs": [],
   "source": [
    "# Let's label encode our 'transmission' column to prepare it for machine learning and put it into the appropriate format.\n",
    "dataFrame[\"transmission\"] = LabelEncoder.fit_transform(dataFrame.transmission).astype('int64')"
   ]
  },
  {
   "cell_type": "code",
   "execution_count": 37,
   "metadata": {},
   "outputs": [
    {
     "data": {
      "text/plain": [
       "array(['Automatic', 'Manual', 'Semi-Auto'], dtype=object)"
      ]
     },
     "execution_count": 37,
     "metadata": {},
     "output_type": "execute_result"
    }
   ],
   "source": [
    "# The .classes_ function allows us to see the data we have tag encoded.\n",
    "listTransmission=LabelEncoder.classes_ \n",
    "listTransmission"
   ]
  },
  {
   "cell_type": "code",
   "execution_count": 38,
   "metadata": {},
   "outputs": [
    {
     "data": {
      "text/plain": [
       "array([0, 1, 2], dtype=int64)"
      ]
     },
     "execution_count": 38,
     "metadata": {},
     "output_type": "execute_result"
    }
   ],
   "source": [
    "# After label encoding, let's check the unique values in our \"transmission\" column.\n",
    "dataFrame.transmission.unique()"
   ]
  },
  {
   "cell_type": "code",
   "execution_count": 39,
   "metadata": {},
   "outputs": [],
   "source": [
    "# Let's label encode our 'fuelType' column to prepare it for machine learning and put it into the appropriate format.\n",
    "dataFrame[\"fuelType\"] = LabelEncoder.fit_transform(dataFrame.fuelType).astype('int64')"
   ]
  },
  {
   "cell_type": "code",
   "execution_count": 40,
   "metadata": {},
   "outputs": [
    {
     "data": {
      "text/plain": [
       "array(['Diesel', 'Hybrid', 'Other', 'Petrol'], dtype=object)"
      ]
     },
     "execution_count": 40,
     "metadata": {},
     "output_type": "execute_result"
    }
   ],
   "source": [
    "# The .classes_ function allows us to see the data we have tag encoded.\n",
    "listfuelType= LabelEncoder.classes_ \n",
    "listfuelType"
   ]
  },
  {
   "cell_type": "code",
   "execution_count": 41,
   "metadata": {},
   "outputs": [
    {
     "data": {
      "text/plain": [
       "array([0, 3, 2, 1], dtype=int64)"
      ]
     },
     "execution_count": 41,
     "metadata": {},
     "output_type": "execute_result"
    }
   ],
   "source": [
    "# After label encoding, let's check the unique values in our \"fuelType\" column.\n",
    "dataFrame.fuelType.unique()"
   ]
  },
  {
   "cell_type": "code",
   "execution_count": 42,
   "metadata": {},
   "outputs": [
    {
     "data": {
      "text/html": [
       "<div>\n",
       "<style scoped>\n",
       "    .dataframe tbody tr th:only-of-type {\n",
       "        vertical-align: middle;\n",
       "    }\n",
       "\n",
       "    .dataframe tbody tr th {\n",
       "        vertical-align: top;\n",
       "    }\n",
       "\n",
       "    .dataframe thead th {\n",
       "        text-align: right;\n",
       "    }\n",
       "</style>\n",
       "<table border=\"1\" class=\"dataframe\">\n",
       "  <thead>\n",
       "    <tr style=\"text-align: right;\">\n",
       "      <th></th>\n",
       "      <th>model</th>\n",
       "      <th>year</th>\n",
       "      <th>price</th>\n",
       "      <th>transmission</th>\n",
       "      <th>mileage</th>\n",
       "      <th>fuelType</th>\n",
       "      <th>tax</th>\n",
       "      <th>mpg</th>\n",
       "      <th>engineSize</th>\n",
       "    </tr>\n",
       "  </thead>\n",
       "  <tbody>\n",
       "    <tr>\n",
       "      <th>0</th>\n",
       "      <td>21</td>\n",
       "      <td>2019</td>\n",
       "      <td>25000</td>\n",
       "      <td>0</td>\n",
       "      <td>13904</td>\n",
       "      <td>0</td>\n",
       "      <td>145</td>\n",
       "      <td>49.6</td>\n",
       "      <td>2.0</td>\n",
       "    </tr>\n",
       "    <tr>\n",
       "      <th>1</th>\n",
       "      <td>21</td>\n",
       "      <td>2019</td>\n",
       "      <td>26883</td>\n",
       "      <td>0</td>\n",
       "      <td>4562</td>\n",
       "      <td>0</td>\n",
       "      <td>145</td>\n",
       "      <td>49.6</td>\n",
       "      <td>2.0</td>\n",
       "    </tr>\n",
       "    <tr>\n",
       "      <th>2</th>\n",
       "      <td>21</td>\n",
       "      <td>2019</td>\n",
       "      <td>20000</td>\n",
       "      <td>1</td>\n",
       "      <td>7414</td>\n",
       "      <td>0</td>\n",
       "      <td>145</td>\n",
       "      <td>50.4</td>\n",
       "      <td>2.0</td>\n",
       "    </tr>\n",
       "    <tr>\n",
       "      <th>3</th>\n",
       "      <td>21</td>\n",
       "      <td>2019</td>\n",
       "      <td>33492</td>\n",
       "      <td>0</td>\n",
       "      <td>4825</td>\n",
       "      <td>3</td>\n",
       "      <td>145</td>\n",
       "      <td>32.5</td>\n",
       "      <td>2.0</td>\n",
       "    </tr>\n",
       "    <tr>\n",
       "      <th>4</th>\n",
       "      <td>21</td>\n",
       "      <td>2019</td>\n",
       "      <td>22900</td>\n",
       "      <td>2</td>\n",
       "      <td>6500</td>\n",
       "      <td>3</td>\n",
       "      <td>150</td>\n",
       "      <td>39.8</td>\n",
       "      <td>1.5</td>\n",
       "    </tr>\n",
       "    <tr>\n",
       "      <th>5</th>\n",
       "      <td>21</td>\n",
       "      <td>2020</td>\n",
       "      <td>31895</td>\n",
       "      <td>1</td>\n",
       "      <td>10</td>\n",
       "      <td>3</td>\n",
       "      <td>145</td>\n",
       "      <td>42.2</td>\n",
       "      <td>1.5</td>\n",
       "    </tr>\n",
       "    <tr>\n",
       "      <th>6</th>\n",
       "      <td>21</td>\n",
       "      <td>2020</td>\n",
       "      <td>27895</td>\n",
       "      <td>1</td>\n",
       "      <td>10</td>\n",
       "      <td>3</td>\n",
       "      <td>145</td>\n",
       "      <td>42.2</td>\n",
       "      <td>1.5</td>\n",
       "    </tr>\n",
       "    <tr>\n",
       "      <th>7</th>\n",
       "      <td>21</td>\n",
       "      <td>2020</td>\n",
       "      <td>39495</td>\n",
       "      <td>2</td>\n",
       "      <td>10</td>\n",
       "      <td>3</td>\n",
       "      <td>145</td>\n",
       "      <td>32.5</td>\n",
       "      <td>2.0</td>\n",
       "    </tr>\n",
       "    <tr>\n",
       "      <th>8</th>\n",
       "      <td>21</td>\n",
       "      <td>2019</td>\n",
       "      <td>21995</td>\n",
       "      <td>1</td>\n",
       "      <td>10</td>\n",
       "      <td>3</td>\n",
       "      <td>145</td>\n",
       "      <td>44.1</td>\n",
       "      <td>1.0</td>\n",
       "    </tr>\n",
       "    <tr>\n",
       "      <th>9</th>\n",
       "      <td>21</td>\n",
       "      <td>2019</td>\n",
       "      <td>23285</td>\n",
       "      <td>1</td>\n",
       "      <td>10</td>\n",
       "      <td>3</td>\n",
       "      <td>145</td>\n",
       "      <td>42.2</td>\n",
       "      <td>1.5</td>\n",
       "    </tr>\n",
       "    <tr>\n",
       "      <th>10</th>\n",
       "      <td>21</td>\n",
       "      <td>2019</td>\n",
       "      <td>23985</td>\n",
       "      <td>2</td>\n",
       "      <td>10</td>\n",
       "      <td>3</td>\n",
       "      <td>145</td>\n",
       "      <td>39.8</td>\n",
       "      <td>1.5</td>\n",
       "    </tr>\n",
       "    <tr>\n",
       "      <th>11</th>\n",
       "      <td>21</td>\n",
       "      <td>2019</td>\n",
       "      <td>23585</td>\n",
       "      <td>1</td>\n",
       "      <td>10</td>\n",
       "      <td>3</td>\n",
       "      <td>145</td>\n",
       "      <td>42.2</td>\n",
       "      <td>1.5</td>\n",
       "    </tr>\n",
       "    <tr>\n",
       "      <th>12</th>\n",
       "      <td>21</td>\n",
       "      <td>2020</td>\n",
       "      <td>25785</td>\n",
       "      <td>2</td>\n",
       "      <td>10</td>\n",
       "      <td>3</td>\n",
       "      <td>145</td>\n",
       "      <td>39.8</td>\n",
       "      <td>1.5</td>\n",
       "    </tr>\n",
       "    <tr>\n",
       "      <th>13</th>\n",
       "      <td>21</td>\n",
       "      <td>2019</td>\n",
       "      <td>23995</td>\n",
       "      <td>2</td>\n",
       "      <td>1069</td>\n",
       "      <td>3</td>\n",
       "      <td>145</td>\n",
       "      <td>39.8</td>\n",
       "      <td>1.5</td>\n",
       "    </tr>\n",
       "    <tr>\n",
       "      <th>14</th>\n",
       "      <td>21</td>\n",
       "      <td>2018</td>\n",
       "      <td>17495</td>\n",
       "      <td>1</td>\n",
       "      <td>21645</td>\n",
       "      <td>3</td>\n",
       "      <td>145</td>\n",
       "      <td>53.3</td>\n",
       "      <td>1.5</td>\n",
       "    </tr>\n",
       "    <tr>\n",
       "      <th>15</th>\n",
       "      <td>21</td>\n",
       "      <td>2018</td>\n",
       "      <td>21495</td>\n",
       "      <td>1</td>\n",
       "      <td>16972</td>\n",
       "      <td>3</td>\n",
       "      <td>145</td>\n",
       "      <td>53.3</td>\n",
       "      <td>1.5</td>\n",
       "    </tr>\n",
       "    <tr>\n",
       "      <th>16</th>\n",
       "      <td>21</td>\n",
       "      <td>2018</td>\n",
       "      <td>18995</td>\n",
       "      <td>1</td>\n",
       "      <td>15100</td>\n",
       "      <td>3</td>\n",
       "      <td>145</td>\n",
       "      <td>44.1</td>\n",
       "      <td>1.0</td>\n",
       "    </tr>\n",
       "    <tr>\n",
       "      <th>17</th>\n",
       "      <td>21</td>\n",
       "      <td>2018</td>\n",
       "      <td>18995</td>\n",
       "      <td>1</td>\n",
       "      <td>1380</td>\n",
       "      <td>3</td>\n",
       "      <td>150</td>\n",
       "      <td>55.4</td>\n",
       "      <td>1.0</td>\n",
       "    </tr>\n",
       "    <tr>\n",
       "      <th>18</th>\n",
       "      <td>21</td>\n",
       "      <td>2019</td>\n",
       "      <td>33785</td>\n",
       "      <td>2</td>\n",
       "      <td>2500</td>\n",
       "      <td>3</td>\n",
       "      <td>145</td>\n",
       "      <td>32.5</td>\n",
       "      <td>2.0</td>\n",
       "    </tr>\n",
       "    <tr>\n",
       "      <th>19</th>\n",
       "      <td>21</td>\n",
       "      <td>2020</td>\n",
       "      <td>23790</td>\n",
       "      <td>2</td>\n",
       "      <td>5000</td>\n",
       "      <td>3</td>\n",
       "      <td>145</td>\n",
       "      <td>39.8</td>\n",
       "      <td>1.5</td>\n",
       "    </tr>\n",
       "  </tbody>\n",
       "</table>\n",
       "</div>"
      ],
      "text/plain": [
       "    model  year  price  transmission  mileage  fuelType  tax   mpg  engineSize\n",
       "0      21  2019  25000             0    13904         0  145  49.6         2.0\n",
       "1      21  2019  26883             0     4562         0  145  49.6         2.0\n",
       "2      21  2019  20000             1     7414         0  145  50.4         2.0\n",
       "3      21  2019  33492             0     4825         3  145  32.5         2.0\n",
       "4      21  2019  22900             2     6500         3  150  39.8         1.5\n",
       "5      21  2020  31895             1       10         3  145  42.2         1.5\n",
       "6      21  2020  27895             1       10         3  145  42.2         1.5\n",
       "7      21  2020  39495             2       10         3  145  32.5         2.0\n",
       "8      21  2019  21995             1       10         3  145  44.1         1.0\n",
       "9      21  2019  23285             1       10         3  145  42.2         1.5\n",
       "10     21  2019  23985             2       10         3  145  39.8         1.5\n",
       "11     21  2019  23585             1       10         3  145  42.2         1.5\n",
       "12     21  2020  25785             2       10         3  145  39.8         1.5\n",
       "13     21  2019  23995             2     1069         3  145  39.8         1.5\n",
       "14     21  2018  17495             1    21645         3  145  53.3         1.5\n",
       "15     21  2018  21495             1    16972         3  145  53.3         1.5\n",
       "16     21  2018  18995             1    15100         3  145  44.1         1.0\n",
       "17     21  2018  18995             1     1380         3  150  55.4         1.0\n",
       "18     21  2019  33785             2     2500         3  145  32.5         2.0\n",
       "19     21  2020  23790             2     5000         3  145  39.8         1.5"
      ]
     },
     "execution_count": 42,
     "metadata": {},
     "output_type": "execute_result"
    }
   ],
   "source": [
    "# Let's check our dataset to verify the correctness of our actions.\n",
    "dataFrame.head(20)"
   ]
  },
  {
   "cell_type": "code",
   "execution_count": 43,
   "metadata": {},
   "outputs": [
    {
     "data": {
      "text/plain": [
       "mileage        -0.517599\n",
       "mpg            -0.496844\n",
       "fuelType       -0.233692\n",
       "model           0.004375\n",
       "transmission    0.097699\n",
       "tax             0.482964\n",
       "engineSize      0.575139\n",
       "year            0.614748\n",
       "price           1.000000\n",
       "Name: price, dtype: float64"
      ]
     },
     "execution_count": 43,
     "metadata": {},
     "output_type": "execute_result"
    }
   ],
   "source": [
    "\"\"\"\n",
    "dataFrame.corr():\n",
    "This calculates the Pearson correlation coefficient between all numerical columns in the DataFrame dataFrame. \n",
    "The resulting DataFrame contains the correlation coefficients between each pair of columns.\n",
    "[\"price\"]: This extracts the correlation coefficients associated with the \"price\" column. \n",
    "This results in a Series containing the correlation coefficients between \"price\" and all other numerical columns.\n",
    "\n",
    "\n",
    ".sort_values(): This sorts the Series containing the correlation coefficients in either ascending or descending order.\n",
    "By default, it sorts in ascending order (smallest to largest).\n",
    "\n",
    "Let's try to understand the characteristics most linearly related to the “price” column in our data.\n",
    "The correlation coefficient values range from -1 to 1, where:\n",
    "1 indicates a perfect positive linear relationship (as one variable increases, the other also increases proportionally).\n",
    "0 indicates no linear relationship.\n",
    "1 indicates a perfect negative linear relationship (as one variable increases, the other decreases proportionally).\n",
    "\"\"\"\n",
    "dataFrame.corr()[\"price\"].sort_values() \n"
   ]
  },
  {
   "cell_type": "markdown",
   "metadata": {},
   "source": [
    "Verinin Düzeltilmesi\n"
   ]
  },
  {
   "cell_type": "code",
   "execution_count": 44,
   "metadata": {},
   "outputs": [],
   "source": [
    "# I removed the 1% most expensive tool in the first data set to smooth out the roughness of the data set. 15157 x 0.001 = 151.57 so about 152 rows\n",
    "ninetyNineDf = dataFrame.sort_values(\"price\",ascending=False).iloc[152:] \n"
   ]
  },
  {
   "cell_type": "code",
   "execution_count": 45,
   "metadata": {},
   "outputs": [
    {
     "data": {
      "text/html": [
       "<div>\n",
       "<style scoped>\n",
       "    .dataframe tbody tr th:only-of-type {\n",
       "        vertical-align: middle;\n",
       "    }\n",
       "\n",
       "    .dataframe tbody tr th {\n",
       "        vertical-align: top;\n",
       "    }\n",
       "\n",
       "    .dataframe thead th {\n",
       "        text-align: right;\n",
       "    }\n",
       "</style>\n",
       "<table border=\"1\" class=\"dataframe\">\n",
       "  <thead>\n",
       "    <tr style=\"text-align: right;\">\n",
       "      <th></th>\n",
       "      <th>model</th>\n",
       "      <th>year</th>\n",
       "      <th>price</th>\n",
       "      <th>transmission</th>\n",
       "      <th>mileage</th>\n",
       "      <th>fuelType</th>\n",
       "      <th>tax</th>\n",
       "      <th>mpg</th>\n",
       "      <th>engineSize</th>\n",
       "    </tr>\n",
       "  </thead>\n",
       "  <tbody>\n",
       "    <tr>\n",
       "      <th>count</th>\n",
       "      <td>15157.000000</td>\n",
       "      <td>15157.000000</td>\n",
       "      <td>15157.000000</td>\n",
       "      <td>15157.000000</td>\n",
       "      <td>15157.000000</td>\n",
       "      <td>15157.000000</td>\n",
       "      <td>15157.000000</td>\n",
       "      <td>15157.000000</td>\n",
       "      <td>15157.000000</td>\n",
       "    </tr>\n",
       "    <tr>\n",
       "      <th>mean</th>\n",
       "      <td>16.079237</td>\n",
       "      <td>2017.255789</td>\n",
       "      <td>16838.952365</td>\n",
       "      <td>1.120077</td>\n",
       "      <td>22092.785644</td>\n",
       "      <td>1.713928</td>\n",
       "      <td>112.744277</td>\n",
       "      <td>53.753355</td>\n",
       "      <td>1.600693</td>\n",
       "    </tr>\n",
       "    <tr>\n",
       "      <th>std</th>\n",
       "      <td>5.412990</td>\n",
       "      <td>2.053059</td>\n",
       "      <td>7755.015206</td>\n",
       "      <td>0.603580</td>\n",
       "      <td>21148.941635</td>\n",
       "      <td>1.474370</td>\n",
       "      <td>63.482617</td>\n",
       "      <td>13.642182</td>\n",
       "      <td>0.461695</td>\n",
       "    </tr>\n",
       "    <tr>\n",
       "      <th>min</th>\n",
       "      <td>0.000000</td>\n",
       "      <td>2000.000000</td>\n",
       "      <td>899.000000</td>\n",
       "      <td>0.000000</td>\n",
       "      <td>1.000000</td>\n",
       "      <td>0.000000</td>\n",
       "      <td>0.000000</td>\n",
       "      <td>0.300000</td>\n",
       "      <td>0.000000</td>\n",
       "    </tr>\n",
       "    <tr>\n",
       "      <th>25%</th>\n",
       "      <td>12.000000</td>\n",
       "      <td>2016.000000</td>\n",
       "      <td>10990.000000</td>\n",
       "      <td>1.000000</td>\n",
       "      <td>5962.000000</td>\n",
       "      <td>0.000000</td>\n",
       "      <td>30.000000</td>\n",
       "      <td>46.300000</td>\n",
       "      <td>1.200000</td>\n",
       "    </tr>\n",
       "    <tr>\n",
       "      <th>50%</th>\n",
       "      <td>16.000000</td>\n",
       "      <td>2017.000000</td>\n",
       "      <td>15497.000000</td>\n",
       "      <td>1.000000</td>\n",
       "      <td>16393.000000</td>\n",
       "      <td>3.000000</td>\n",
       "      <td>145.000000</td>\n",
       "      <td>53.300000</td>\n",
       "      <td>1.600000</td>\n",
       "    </tr>\n",
       "    <tr>\n",
       "      <th>75%</th>\n",
       "      <td>21.000000</td>\n",
       "      <td>2019.000000</td>\n",
       "      <td>20998.000000</td>\n",
       "      <td>1.000000</td>\n",
       "      <td>31824.000000</td>\n",
       "      <td>3.000000</td>\n",
       "      <td>145.000000</td>\n",
       "      <td>60.100000</td>\n",
       "      <td>2.000000</td>\n",
       "    </tr>\n",
       "    <tr>\n",
       "      <th>max</th>\n",
       "      <td>26.000000</td>\n",
       "      <td>2020.000000</td>\n",
       "      <td>69994.000000</td>\n",
       "      <td>2.000000</td>\n",
       "      <td>212000.000000</td>\n",
       "      <td>3.000000</td>\n",
       "      <td>580.000000</td>\n",
       "      <td>188.300000</td>\n",
       "      <td>3.200000</td>\n",
       "    </tr>\n",
       "  </tbody>\n",
       "</table>\n",
       "</div>"
      ],
      "text/plain": [
       "              model          year         price  transmission        mileage  \\\n",
       "count  15157.000000  15157.000000  15157.000000  15157.000000   15157.000000   \n",
       "mean      16.079237   2017.255789  16838.952365      1.120077   22092.785644   \n",
       "std        5.412990      2.053059   7755.015206      0.603580   21148.941635   \n",
       "min        0.000000   2000.000000    899.000000      0.000000       1.000000   \n",
       "25%       12.000000   2016.000000  10990.000000      1.000000    5962.000000   \n",
       "50%       16.000000   2017.000000  15497.000000      1.000000   16393.000000   \n",
       "75%       21.000000   2019.000000  20998.000000      1.000000   31824.000000   \n",
       "max       26.000000   2020.000000  69994.000000      2.000000  212000.000000   \n",
       "\n",
       "           fuelType           tax           mpg    engineSize  \n",
       "count  15157.000000  15157.000000  15157.000000  15157.000000  \n",
       "mean       1.713928    112.744277     53.753355      1.600693  \n",
       "std        1.474370     63.482617     13.642182      0.461695  \n",
       "min        0.000000      0.000000      0.300000      0.000000  \n",
       "25%        0.000000     30.000000     46.300000      1.200000  \n",
       "50%        3.000000    145.000000     53.300000      1.600000  \n",
       "75%        3.000000    145.000000     60.100000      2.000000  \n",
       "max        3.000000    580.000000    188.300000      3.200000  "
      ]
     },
     "execution_count": 45,
     "metadata": {},
     "output_type": "execute_result"
    }
   ],
   "source": [
    "# Let's examine what changes the data we extracted caused.\n",
    "# let's examine the old data set\n",
    "dataFrame.describe()"
   ]
  },
  {
   "cell_type": "code",
   "execution_count": 46,
   "metadata": {},
   "outputs": [
    {
     "data": {
      "text/html": [
       "<div>\n",
       "<style scoped>\n",
       "    .dataframe tbody tr th:only-of-type {\n",
       "        vertical-align: middle;\n",
       "    }\n",
       "\n",
       "    .dataframe tbody tr th {\n",
       "        vertical-align: top;\n",
       "    }\n",
       "\n",
       "    .dataframe thead th {\n",
       "        text-align: right;\n",
       "    }\n",
       "</style>\n",
       "<table border=\"1\" class=\"dataframe\">\n",
       "  <thead>\n",
       "    <tr style=\"text-align: right;\">\n",
       "      <th></th>\n",
       "      <th>model</th>\n",
       "      <th>year</th>\n",
       "      <th>price</th>\n",
       "      <th>transmission</th>\n",
       "      <th>mileage</th>\n",
       "      <th>fuelType</th>\n",
       "      <th>tax</th>\n",
       "      <th>mpg</th>\n",
       "      <th>engineSize</th>\n",
       "    </tr>\n",
       "  </thead>\n",
       "  <tbody>\n",
       "    <tr>\n",
       "      <th>count</th>\n",
       "      <td>15005.000000</td>\n",
       "      <td>15005.000000</td>\n",
       "      <td>15005.000000</td>\n",
       "      <td>15005.000000</td>\n",
       "      <td>15005.000000</td>\n",
       "      <td>15005.000000</td>\n",
       "      <td>15005.000000</td>\n",
       "      <td>15005.000000</td>\n",
       "      <td>15005.000000</td>\n",
       "    </tr>\n",
       "    <tr>\n",
       "      <th>mean</th>\n",
       "      <td>16.067311</td>\n",
       "      <td>2017.235921</td>\n",
       "      <td>16519.772742</td>\n",
       "      <td>1.120693</td>\n",
       "      <td>22263.637721</td>\n",
       "      <td>1.729690</td>\n",
       "      <td>112.279573</td>\n",
       "      <td>53.961593</td>\n",
       "      <td>1.590850</td>\n",
       "    </tr>\n",
       "    <tr>\n",
       "      <th>std</th>\n",
       "      <td>5.382937</td>\n",
       "      <td>2.053355</td>\n",
       "      <td>7095.262204</td>\n",
       "      <td>0.598275</td>\n",
       "      <td>21183.852445</td>\n",
       "      <td>1.472027</td>\n",
       "      <td>63.529813</td>\n",
       "      <td>13.549841</td>\n",
       "      <td>0.450755</td>\n",
       "    </tr>\n",
       "    <tr>\n",
       "      <th>min</th>\n",
       "      <td>0.000000</td>\n",
       "      <td>2000.000000</td>\n",
       "      <td>899.000000</td>\n",
       "      <td>0.000000</td>\n",
       "      <td>1.000000</td>\n",
       "      <td>0.000000</td>\n",
       "      <td>0.000000</td>\n",
       "      <td>0.300000</td>\n",
       "      <td>0.000000</td>\n",
       "    </tr>\n",
       "    <tr>\n",
       "      <th>25%</th>\n",
       "      <td>12.000000</td>\n",
       "      <td>2016.000000</td>\n",
       "      <td>10980.000000</td>\n",
       "      <td>1.000000</td>\n",
       "      <td>6000.000000</td>\n",
       "      <td>0.000000</td>\n",
       "      <td>30.000000</td>\n",
       "      <td>46.300000</td>\n",
       "      <td>1.200000</td>\n",
       "    </tr>\n",
       "    <tr>\n",
       "      <th>50%</th>\n",
       "      <td>16.000000</td>\n",
       "      <td>2017.000000</td>\n",
       "      <td>15475.000000</td>\n",
       "      <td>1.000000</td>\n",
       "      <td>16622.000000</td>\n",
       "      <td>3.000000</td>\n",
       "      <td>145.000000</td>\n",
       "      <td>53.300000</td>\n",
       "      <td>1.600000</td>\n",
       "    </tr>\n",
       "    <tr>\n",
       "      <th>75%</th>\n",
       "      <td>21.000000</td>\n",
       "      <td>2019.000000</td>\n",
       "      <td>20990.000000</td>\n",
       "      <td>1.000000</td>\n",
       "      <td>32000.000000</td>\n",
       "      <td>3.000000</td>\n",
       "      <td>145.000000</td>\n",
       "      <td>60.100000</td>\n",
       "      <td>2.000000</td>\n",
       "    </tr>\n",
       "    <tr>\n",
       "      <th>max</th>\n",
       "      <td>26.000000</td>\n",
       "      <td>2020.000000</td>\n",
       "      <td>42950.000000</td>\n",
       "      <td>2.000000</td>\n",
       "      <td>212000.000000</td>\n",
       "      <td>3.000000</td>\n",
       "      <td>580.000000</td>\n",
       "      <td>188.300000</td>\n",
       "      <td>3.200000</td>\n",
       "    </tr>\n",
       "  </tbody>\n",
       "</table>\n",
       "</div>"
      ],
      "text/plain": [
       "              model          year         price  transmission        mileage  \\\n",
       "count  15005.000000  15005.000000  15005.000000  15005.000000   15005.000000   \n",
       "mean      16.067311   2017.235921  16519.772742      1.120693   22263.637721   \n",
       "std        5.382937      2.053355   7095.262204      0.598275   21183.852445   \n",
       "min        0.000000   2000.000000    899.000000      0.000000       1.000000   \n",
       "25%       12.000000   2016.000000  10980.000000      1.000000    6000.000000   \n",
       "50%       16.000000   2017.000000  15475.000000      1.000000   16622.000000   \n",
       "75%       21.000000   2019.000000  20990.000000      1.000000   32000.000000   \n",
       "max       26.000000   2020.000000  42950.000000      2.000000  212000.000000   \n",
       "\n",
       "           fuelType           tax           mpg    engineSize  \n",
       "count  15005.000000  15005.000000  15005.000000  15005.000000  \n",
       "mean       1.729690    112.279573     53.961593      1.590850  \n",
       "std        1.472027     63.529813     13.549841      0.450755  \n",
       "min        0.000000      0.000000      0.300000      0.000000  \n",
       "25%        0.000000     30.000000     46.300000      1.200000  \n",
       "50%        3.000000    145.000000     53.300000      1.600000  \n",
       "75%        3.000000    145.000000     60.100000      2.000000  \n",
       "max        3.000000    580.000000    188.300000      3.200000  "
      ]
     },
     "execution_count": 46,
     "metadata": {},
     "output_type": "execute_result"
    }
   ],
   "source": [
    "# let's examine the new data set\n",
    "ninetyNineDf.describe()"
   ]
  },
  {
   "cell_type": "code",
   "execution_count": 47,
   "metadata": {},
   "outputs": [
    {
     "name": "stderr",
     "output_type": "stream",
     "text": [
      "C:\\Users\\baha_\\AppData\\Local\\Temp\\ipykernel_4192\\955847086.py:2: UserWarning: \n",
      "\n",
      "`distplot` is a deprecated function and will be removed in seaborn v0.14.0.\n",
      "\n",
      "Please adapt your code to use either `displot` (a figure-level function with\n",
      "similar flexibility) or `histplot` (an axes-level function for histograms).\n",
      "\n",
      "For a guide to updating your code to use the new functions, please see\n",
      "https://gist.github.com/mwaskom/de44147ed2974457ad6372750bbe5751\n",
      "\n",
      "  sbn.distplot(ninetyNineDf [\"price\"], kde=False, norm_hist=True)\n"
     ]
    },
    {
     "data": {
      "text/plain": [
       "<Axes: xlabel='price'>"
      ]
     },
     "execution_count": 47,
     "metadata": {},
     "output_type": "execute_result"
    },
    {
     "data": {
      "image/png": "[encoded data removed]",
      "text/plain": [
       "<Figure size 700x500 with 1 Axes>"
      ]
     },
     "metadata": {},
     "output_type": "display_data"
    }
   ],
   "source": [
    "plt.figure(figsize=(7,5))\n",
    "sbn.distplot(ninetyNineDf [\"price\"], kde=False, norm_hist=True)\n",
    "# we can observe that the deviation of the price distribution decreases."
   ]
  },
  {
   "cell_type": "code",
   "execution_count": 48,
   "metadata": {},
   "outputs": [
    {
     "data": {
      "text/plain": [
       "year\n",
       "2000     1999.000000\n",
       "2001     2043.500000\n",
       "2002     1275.000000\n",
       "2003     6875.000000\n",
       "2004     1545.666667\n",
       "2005     3732.375000\n",
       "2006     3935.562500\n",
       "2007     3345.650000\n",
       "2008     3879.851852\n",
       "2009     4873.258065\n",
       "2010     4952.658537\n",
       "2011     7770.491228\n",
       "2012     7889.637500\n",
       "2013     8153.647619\n",
       "2014     9325.896552\n",
       "2015    11100.346921\n",
       "2016    12692.361919\n",
       "2017    14455.086868\n",
       "2018    17901.725100\n",
       "2019    21749.370500\n",
       "2020    22905.511881\n",
       "Name: price, dtype: float64"
      ]
     },
     "execution_count": 48,
     "metadata": {},
     "output_type": "execute_result"
    }
   ],
   "source": [
    "# Price averages of the new dataset by year, no glaring vehicles.\n",
    "ninetyNineDf.groupby(\"year\").mean()[\"price\"] \n"
   ]
  },
  {
   "cell_type": "code",
   "execution_count": 49,
   "metadata": {},
   "outputs": [
    {
     "data": {
      "text/html": [
       "<div>\n",
       "<style scoped>\n",
       "    .dataframe tbody tr th:only-of-type {\n",
       "        vertical-align: middle;\n",
       "    }\n",
       "\n",
       "    .dataframe tbody tr th {\n",
       "        vertical-align: top;\n",
       "    }\n",
       "\n",
       "    .dataframe thead th {\n",
       "        text-align: right;\n",
       "    }\n",
       "</style>\n",
       "<table border=\"1\" class=\"dataframe\">\n",
       "  <thead>\n",
       "    <tr style=\"text-align: right;\">\n",
       "      <th></th>\n",
       "      <th>model</th>\n",
       "      <th>year</th>\n",
       "      <th>price</th>\n",
       "      <th>transmission</th>\n",
       "      <th>mileage</th>\n",
       "      <th>fuelType</th>\n",
       "      <th>tax</th>\n",
       "      <th>mpg</th>\n",
       "      <th>engineSize</th>\n",
       "    </tr>\n",
       "  </thead>\n",
       "  <tbody>\n",
       "    <tr>\n",
       "      <th>13550</th>\n",
       "      <td>24</td>\n",
       "      <td>2019</td>\n",
       "      <td>42950</td>\n",
       "      <td>0</td>\n",
       "      <td>4000</td>\n",
       "      <td>0</td>\n",
       "      <td>145</td>\n",
       "      <td>34.0</td>\n",
       "      <td>3.0</td>\n",
       "    </tr>\n",
       "    <tr>\n",
       "      <th>13396</th>\n",
       "      <td>9</td>\n",
       "      <td>2019</td>\n",
       "      <td>42900</td>\n",
       "      <td>2</td>\n",
       "      <td>2544</td>\n",
       "      <td>0</td>\n",
       "      <td>145</td>\n",
       "      <td>32.8</td>\n",
       "      <td>2.0</td>\n",
       "    </tr>\n",
       "    <tr>\n",
       "      <th>13844</th>\n",
       "      <td>24</td>\n",
       "      <td>2019</td>\n",
       "      <td>42499</td>\n",
       "      <td>0</td>\n",
       "      <td>6500</td>\n",
       "      <td>0</td>\n",
       "      <td>145</td>\n",
       "      <td>34.0</td>\n",
       "      <td>3.0</td>\n",
       "    </tr>\n",
       "    <tr>\n",
       "      <th>13533</th>\n",
       "      <td>24</td>\n",
       "      <td>2019</td>\n",
       "      <td>42498</td>\n",
       "      <td>2</td>\n",
       "      <td>10</td>\n",
       "      <td>0</td>\n",
       "      <td>145</td>\n",
       "      <td>34.5</td>\n",
       "      <td>3.0</td>\n",
       "    </tr>\n",
       "    <tr>\n",
       "      <th>13408</th>\n",
       "      <td>9</td>\n",
       "      <td>2019</td>\n",
       "      <td>42495</td>\n",
       "      <td>0</td>\n",
       "      <td>6900</td>\n",
       "      <td>0</td>\n",
       "      <td>145</td>\n",
       "      <td>33.6</td>\n",
       "      <td>2.0</td>\n",
       "    </tr>\n",
       "    <tr>\n",
       "      <th>...</th>\n",
       "      <td>...</td>\n",
       "      <td>...</td>\n",
       "      <td>...</td>\n",
       "      <td>...</td>\n",
       "      <td>...</td>\n",
       "      <td>...</td>\n",
       "      <td>...</td>\n",
       "      <td>...</td>\n",
       "      <td>...</td>\n",
       "    </tr>\n",
       "    <tr>\n",
       "      <th>13300</th>\n",
       "      <td>2</td>\n",
       "      <td>2001</td>\n",
       "      <td>1295</td>\n",
       "      <td>1</td>\n",
       "      <td>110000</td>\n",
       "      <td>3</td>\n",
       "      <td>200</td>\n",
       "      <td>49.6</td>\n",
       "      <td>1.6</td>\n",
       "    </tr>\n",
       "    <tr>\n",
       "      <th>774</th>\n",
       "      <td>12</td>\n",
       "      <td>2004</td>\n",
       "      <td>1287</td>\n",
       "      <td>1</td>\n",
       "      <td>170000</td>\n",
       "      <td>0</td>\n",
       "      <td>165</td>\n",
       "      <td>52.3</td>\n",
       "      <td>2.0</td>\n",
       "    </tr>\n",
       "    <tr>\n",
       "      <th>5083</th>\n",
       "      <td>12</td>\n",
       "      <td>2002</td>\n",
       "      <td>1275</td>\n",
       "      <td>1</td>\n",
       "      <td>117000</td>\n",
       "      <td>3</td>\n",
       "      <td>280</td>\n",
       "      <td>35.8</td>\n",
       "      <td>2.0</td>\n",
       "    </tr>\n",
       "    <tr>\n",
       "      <th>15155</th>\n",
       "      <td>11</td>\n",
       "      <td>2006</td>\n",
       "      <td>1250</td>\n",
       "      <td>1</td>\n",
       "      <td>82704</td>\n",
       "      <td>3</td>\n",
       "      <td>150</td>\n",
       "      <td>46.3</td>\n",
       "      <td>1.2</td>\n",
       "    </tr>\n",
       "    <tr>\n",
       "      <th>13323</th>\n",
       "      <td>2</td>\n",
       "      <td>2001</td>\n",
       "      <td>899</td>\n",
       "      <td>0</td>\n",
       "      <td>1</td>\n",
       "      <td>3</td>\n",
       "      <td>325</td>\n",
       "      <td>29.7</td>\n",
       "      <td>2.0</td>\n",
       "    </tr>\n",
       "  </tbody>\n",
       "</table>\n",
       "<p>15005 rows × 9 columns</p>\n",
       "</div>"
      ],
      "text/plain": [
       "       model  year  price  transmission  mileage  fuelType  tax   mpg  \\\n",
       "13550     24  2019  42950             0     4000         0  145  34.0   \n",
       "13396      9  2019  42900             2     2544         0  145  32.8   \n",
       "13844     24  2019  42499             0     6500         0  145  34.0   \n",
       "13533     24  2019  42498             2       10         0  145  34.5   \n",
       "13408      9  2019  42495             0     6900         0  145  33.6   \n",
       "...      ...   ...    ...           ...      ...       ...  ...   ...   \n",
       "13300      2  2001   1295             1   110000         3  200  49.6   \n",
       "774       12  2004   1287             1   170000         0  165  52.3   \n",
       "5083      12  2002   1275             1   117000         3  280  35.8   \n",
       "15155     11  2006   1250             1    82704         3  150  46.3   \n",
       "13323      2  2001    899             0        1         3  325  29.7   \n",
       "\n",
       "       engineSize  \n",
       "13550         3.0  \n",
       "13396         2.0  \n",
       "13844         3.0  \n",
       "13533         3.0  \n",
       "13408         2.0  \n",
       "...           ...  \n",
       "13300         1.6  \n",
       "774           2.0  \n",
       "5083          2.0  \n",
       "15155         1.2  \n",
       "13323         2.0  \n",
       "\n",
       "[15005 rows x 9 columns]"
      ]
     },
     "execution_count": 49,
     "metadata": {},
     "output_type": "execute_result"
    }
   ],
   "source": [
    "# Let's assign the new dataset to the old dataset and remove the deviations so that we can move on to model training.\n",
    "dataFrame = ninetyNineDf\n",
    "dataFrame"
   ]
  },
  {
   "cell_type": "markdown",
   "metadata": {},
   "source": [
    "## 4. Model Selection "
   ]
  },
  {
   "cell_type": "code",
   "execution_count": 50,
   "metadata": {},
   "outputs": [],
   "source": [
    "\"\"\"\n",
    "In order to select or train our machine learning model, we first need to identify the dependent and independent variables.\n",
    "We need to separate our price value into price and others, as our price value varies depending on all other values.\n",
    "\n",
    "X = dataFrame.drop([\"price\"],axis=1):\n",
    "This line creates a new DataFrame named X by dropping the \"price\" column from the original DataFrame dataFrame. \n",
    "The axis=1 argument specifies that the column (axis 1) is being dropped. This essentially separates the features (all columns except \"price\") into a new DataFrame X.\n",
    "\n",
    "y = dataFrame[\"price\"]: \n",
    "This line creates a new Series named y by extracting the \"price\" column from the original DataFrame dataFrame. \n",
    "This isolates the target variable (the variable you want to predict) into a separate Series.\n",
    "\n",
    "\"\"\"\n",
    "# Let's separate the dependent and independent variables for training.\n",
    "X = dataFrame.drop([\"price\"],axis=1)\n",
    "y = dataFrame[\"price\"]"
   ]
  },
  {
   "cell_type": "code",
   "execution_count": 51,
   "metadata": {},
   "outputs": [],
   "source": [
    "\"\"\"\n",
    "Separating training and test data is a critical step in developing robust and reliable machine learning models.\n",
    "This process reduces the risk of model overfitting, avoids bias and allows you to accurately assess the model's ability to generalize.\n",
    "The process of separating the data set is usually divided into 20%-30% test data and 80%-70% training data.\n",
    "\n",
    "X_train, X_test, y_train, y_test = train_test_split(X,y,test_size=0.25,random_state=144):\n",
    "\n",
    "This code snippet splits our dataset into training and testing sets using the train_test_split function from scikit-learn.\n",
    "\n",
    "X_train: This variable holds the features (independent variables) of the training set.\n",
    "X_test: This variable holds the features (independent variables) of the testing set.\n",
    "y_train: This variable holds the target (dependent variable) values of the training set.\n",
    "y_test: This variable holds the target (dependent variable) values of the testing set.\n",
    "\n",
    "train_test_split(X, y, test_size=0.25, random_state=144): This line performs the actual splitting:\n",
    "X: The feature matrix containing all features except the target variable.\n",
    "y: The target vector containing the target values.\n",
    "test_size=0.25: This specifies that 25% of the data will be allocated to the testing set. The remaining 75% will be used for training.\n",
    "random_state=144: This sets a random seed for reproducibility. Using the same seed will ensure the same split is generated every time you run the code.\n",
    "\"\"\"\n",
    "\n",
    "X_train, X_test, y_train, y_test = train_test_split(X,y,test_size=0.25,random_state=144)"
   ]
  },
  {
   "cell_type": "code",
   "execution_count": 52,
   "metadata": {},
   "outputs": [
    {
     "data": {
      "text/html": [
       "<div>\n",
       "<style scoped>\n",
       "    .dataframe tbody tr th:only-of-type {\n",
       "        vertical-align: middle;\n",
       "    }\n",
       "\n",
       "    .dataframe tbody tr th {\n",
       "        vertical-align: top;\n",
       "    }\n",
       "\n",
       "    .dataframe thead th {\n",
       "        text-align: right;\n",
       "    }\n",
       "</style>\n",
       "<table border=\"1\" class=\"dataframe\">\n",
       "  <thead>\n",
       "    <tr style=\"text-align: right;\">\n",
       "      <th></th>\n",
       "      <th>model</th>\n",
       "      <th>year</th>\n",
       "      <th>transmission</th>\n",
       "      <th>mileage</th>\n",
       "      <th>fuelType</th>\n",
       "      <th>tax</th>\n",
       "      <th>mpg</th>\n",
       "      <th>engineSize</th>\n",
       "    </tr>\n",
       "  </thead>\n",
       "  <tbody>\n",
       "    <tr>\n",
       "      <th>12038</th>\n",
       "      <td>18</td>\n",
       "      <td>2019</td>\n",
       "      <td>2</td>\n",
       "      <td>10753</td>\n",
       "      <td>0</td>\n",
       "      <td>145</td>\n",
       "      <td>41.5</td>\n",
       "      <td>2.0</td>\n",
       "    </tr>\n",
       "    <tr>\n",
       "      <th>9300</th>\n",
       "      <td>16</td>\n",
       "      <td>2018</td>\n",
       "      <td>1</td>\n",
       "      <td>8555</td>\n",
       "      <td>3</td>\n",
       "      <td>150</td>\n",
       "      <td>64.2</td>\n",
       "      <td>1.0</td>\n",
       "    </tr>\n",
       "    <tr>\n",
       "      <th>2554</th>\n",
       "      <td>12</td>\n",
       "      <td>2019</td>\n",
       "      <td>1</td>\n",
       "      <td>5045</td>\n",
       "      <td>3</td>\n",
       "      <td>145</td>\n",
       "      <td>47.1</td>\n",
       "      <td>1.5</td>\n",
       "    </tr>\n",
       "    <tr>\n",
       "      <th>7362</th>\n",
       "      <td>16</td>\n",
       "      <td>2017</td>\n",
       "      <td>1</td>\n",
       "      <td>42727</td>\n",
       "      <td>3</td>\n",
       "      <td>20</td>\n",
       "      <td>58.9</td>\n",
       "      <td>1.0</td>\n",
       "    </tr>\n",
       "    <tr>\n",
       "      <th>9468</th>\n",
       "      <td>16</td>\n",
       "      <td>2012</td>\n",
       "      <td>1</td>\n",
       "      <td>40122</td>\n",
       "      <td>3</td>\n",
       "      <td>125</td>\n",
       "      <td>51.4</td>\n",
       "      <td>1.2</td>\n",
       "    </tr>\n",
       "    <tr>\n",
       "      <th>...</th>\n",
       "      <td>...</td>\n",
       "      <td>...</td>\n",
       "      <td>...</td>\n",
       "      <td>...</td>\n",
       "      <td>...</td>\n",
       "      <td>...</td>\n",
       "      <td>...</td>\n",
       "      <td>...</td>\n",
       "    </tr>\n",
       "    <tr>\n",
       "      <th>14842</th>\n",
       "      <td>23</td>\n",
       "      <td>2019</td>\n",
       "      <td>1</td>\n",
       "      <td>39</td>\n",
       "      <td>3</td>\n",
       "      <td>145</td>\n",
       "      <td>36.2</td>\n",
       "      <td>1.5</td>\n",
       "    </tr>\n",
       "    <tr>\n",
       "      <th>8441</th>\n",
       "      <td>16</td>\n",
       "      <td>2019</td>\n",
       "      <td>1</td>\n",
       "      <td>3435</td>\n",
       "      <td>3</td>\n",
       "      <td>150</td>\n",
       "      <td>52.3</td>\n",
       "      <td>1.0</td>\n",
       "    </tr>\n",
       "    <tr>\n",
       "      <th>2656</th>\n",
       "      <td>12</td>\n",
       "      <td>2016</td>\n",
       "      <td>2</td>\n",
       "      <td>35525</td>\n",
       "      <td>0</td>\n",
       "      <td>30</td>\n",
       "      <td>62.8</td>\n",
       "      <td>2.0</td>\n",
       "    </tr>\n",
       "    <tr>\n",
       "      <th>13856</th>\n",
       "      <td>1</td>\n",
       "      <td>2019</td>\n",
       "      <td>0</td>\n",
       "      <td>99</td>\n",
       "      <td>0</td>\n",
       "      <td>145</td>\n",
       "      <td>52.3</td>\n",
       "      <td>2.0</td>\n",
       "    </tr>\n",
       "    <tr>\n",
       "      <th>13099</th>\n",
       "      <td>17</td>\n",
       "      <td>2014</td>\n",
       "      <td>2</td>\n",
       "      <td>33705</td>\n",
       "      <td>0</td>\n",
       "      <td>145</td>\n",
       "      <td>50.4</td>\n",
       "      <td>2.0</td>\n",
       "    </tr>\n",
       "  </tbody>\n",
       "</table>\n",
       "<p>11253 rows × 8 columns</p>\n",
       "</div>"
      ],
      "text/plain": [
       "       model  year  transmission  mileage  fuelType  tax   mpg  engineSize\n",
       "12038     18  2019             2    10753         0  145  41.5         2.0\n",
       "9300      16  2018             1     8555         3  150  64.2         1.0\n",
       "2554      12  2019             1     5045         3  145  47.1         1.5\n",
       "7362      16  2017             1    42727         3   20  58.9         1.0\n",
       "9468      16  2012             1    40122         3  125  51.4         1.2\n",
       "...      ...   ...           ...      ...       ...  ...   ...         ...\n",
       "14842     23  2019             1       39         3  145  36.2         1.5\n",
       "8441      16  2019             1     3435         3  150  52.3         1.0\n",
       "2656      12  2016             2    35525         0   30  62.8         2.0\n",
       "13856      1  2019             0       99         0  145  52.3         2.0\n",
       "13099     17  2014             2    33705         0  145  50.4         2.0\n",
       "\n",
       "[11253 rows x 8 columns]"
      ]
     },
     "execution_count": 52,
     "metadata": {},
     "output_type": "execute_result"
    }
   ],
   "source": [
    "# Let's examine the characteristics of the training set.\n",
    "X_train"
   ]
  },
  {
   "cell_type": "code",
   "execution_count": 53,
   "metadata": {},
   "outputs": [
    {
     "data": {
      "text/html": [
       "<div>\n",
       "<style scoped>\n",
       "    .dataframe tbody tr th:only-of-type {\n",
       "        vertical-align: middle;\n",
       "    }\n",
       "\n",
       "    .dataframe tbody tr th {\n",
       "        vertical-align: top;\n",
       "    }\n",
       "\n",
       "    .dataframe thead th {\n",
       "        text-align: right;\n",
       "    }\n",
       "</style>\n",
       "<table border=\"1\" class=\"dataframe\">\n",
       "  <thead>\n",
       "    <tr style=\"text-align: right;\">\n",
       "      <th></th>\n",
       "      <th>model</th>\n",
       "      <th>year</th>\n",
       "      <th>transmission</th>\n",
       "      <th>mileage</th>\n",
       "      <th>fuelType</th>\n",
       "      <th>tax</th>\n",
       "      <th>mpg</th>\n",
       "      <th>engineSize</th>\n",
       "    </tr>\n",
       "  </thead>\n",
       "  <tbody>\n",
       "    <tr>\n",
       "      <th>4559</th>\n",
       "      <td>12</td>\n",
       "      <td>2019</td>\n",
       "      <td>0</td>\n",
       "      <td>8911</td>\n",
       "      <td>3</td>\n",
       "      <td>150</td>\n",
       "      <td>37.7</td>\n",
       "      <td>2.0</td>\n",
       "    </tr>\n",
       "    <tr>\n",
       "      <th>2765</th>\n",
       "      <td>12</td>\n",
       "      <td>2014</td>\n",
       "      <td>1</td>\n",
       "      <td>31834</td>\n",
       "      <td>0</td>\n",
       "      <td>0</td>\n",
       "      <td>74.3</td>\n",
       "      <td>1.6</td>\n",
       "    </tr>\n",
       "    <tr>\n",
       "      <th>2813</th>\n",
       "      <td>12</td>\n",
       "      <td>2019</td>\n",
       "      <td>2</td>\n",
       "      <td>2369</td>\n",
       "      <td>3</td>\n",
       "      <td>150</td>\n",
       "      <td>32.8</td>\n",
       "      <td>2.0</td>\n",
       "    </tr>\n",
       "    <tr>\n",
       "      <th>5284</th>\n",
       "      <td>12</td>\n",
       "      <td>2014</td>\n",
       "      <td>1</td>\n",
       "      <td>51410</td>\n",
       "      <td>0</td>\n",
       "      <td>20</td>\n",
       "      <td>68.9</td>\n",
       "      <td>2.0</td>\n",
       "    </tr>\n",
       "    <tr>\n",
       "      <th>2701</th>\n",
       "      <td>12</td>\n",
       "      <td>2013</td>\n",
       "      <td>1</td>\n",
       "      <td>61520</td>\n",
       "      <td>3</td>\n",
       "      <td>125</td>\n",
       "      <td>53.3</td>\n",
       "      <td>1.4</td>\n",
       "    </tr>\n",
       "    <tr>\n",
       "      <th>...</th>\n",
       "      <td>...</td>\n",
       "      <td>...</td>\n",
       "      <td>...</td>\n",
       "      <td>...</td>\n",
       "      <td>...</td>\n",
       "      <td>...</td>\n",
       "      <td>...</td>\n",
       "      <td>...</td>\n",
       "    </tr>\n",
       "    <tr>\n",
       "      <th>6959</th>\n",
       "      <td>16</td>\n",
       "      <td>2015</td>\n",
       "      <td>1</td>\n",
       "      <td>37164</td>\n",
       "      <td>3</td>\n",
       "      <td>150</td>\n",
       "      <td>47.0</td>\n",
       "      <td>1.8</td>\n",
       "    </tr>\n",
       "    <tr>\n",
       "      <th>8258</th>\n",
       "      <td>16</td>\n",
       "      <td>2016</td>\n",
       "      <td>1</td>\n",
       "      <td>38000</td>\n",
       "      <td>3</td>\n",
       "      <td>20</td>\n",
       "      <td>60.1</td>\n",
       "      <td>1.2</td>\n",
       "    </tr>\n",
       "    <tr>\n",
       "      <th>5952</th>\n",
       "      <td>15</td>\n",
       "      <td>2020</td>\n",
       "      <td>1</td>\n",
       "      <td>2000</td>\n",
       "      <td>0</td>\n",
       "      <td>150</td>\n",
       "      <td>57.7</td>\n",
       "      <td>2.0</td>\n",
       "    </tr>\n",
       "    <tr>\n",
       "      <th>3969</th>\n",
       "      <td>12</td>\n",
       "      <td>2020</td>\n",
       "      <td>2</td>\n",
       "      <td>3000</td>\n",
       "      <td>3</td>\n",
       "      <td>145</td>\n",
       "      <td>32.8</td>\n",
       "      <td>2.0</td>\n",
       "    </tr>\n",
       "    <tr>\n",
       "      <th>6370</th>\n",
       "      <td>15</td>\n",
       "      <td>2018</td>\n",
       "      <td>1</td>\n",
       "      <td>33017</td>\n",
       "      <td>0</td>\n",
       "      <td>150</td>\n",
       "      <td>68.9</td>\n",
       "      <td>1.6</td>\n",
       "    </tr>\n",
       "  </tbody>\n",
       "</table>\n",
       "<p>3752 rows × 8 columns</p>\n",
       "</div>"
      ],
      "text/plain": [
       "      model  year  transmission  mileage  fuelType  tax   mpg  engineSize\n",
       "4559     12  2019             0     8911         3  150  37.7         2.0\n",
       "2765     12  2014             1    31834         0    0  74.3         1.6\n",
       "2813     12  2019             2     2369         3  150  32.8         2.0\n",
       "5284     12  2014             1    51410         0   20  68.9         2.0\n",
       "2701     12  2013             1    61520         3  125  53.3         1.4\n",
       "...     ...   ...           ...      ...       ...  ...   ...         ...\n",
       "6959     16  2015             1    37164         3  150  47.0         1.8\n",
       "8258     16  2016             1    38000         3   20  60.1         1.2\n",
       "5952     15  2020             1     2000         0  150  57.7         2.0\n",
       "3969     12  2020             2     3000         3  145  32.8         2.0\n",
       "6370     15  2018             1    33017         0  150  68.9         1.6\n",
       "\n",
       "[3752 rows x 8 columns]"
      ]
     },
     "execution_count": 53,
     "metadata": {},
     "output_type": "execute_result"
    }
   ],
   "source": [
    "#Let's examine the features of the test set.\n",
    "X_test"
   ]
  },
  {
   "cell_type": "code",
   "execution_count": 54,
   "metadata": {},
   "outputs": [
    {
     "data": {
      "text/plain": [
       "12038    24590\n",
       "9300     12500\n",
       "2554     17298\n",
       "7362      7998\n",
       "9468      5475\n",
       "         ...  \n",
       "14842    26498\n",
       "8441     15500\n",
       "2656     17501\n",
       "13856    26491\n",
       "13099    12699\n",
       "Name: price, Length: 11253, dtype: int64"
      ]
     },
     "execution_count": 54,
     "metadata": {},
     "output_type": "execute_result"
    }
   ],
   "source": [
    "# Let's examine the target values of the training set.\n",
    "y_train"
   ]
  },
  {
   "cell_type": "code",
   "execution_count": 55,
   "metadata": {},
   "outputs": [
    {
     "data": {
      "text/plain": [
       "4559    27989\n",
       "2765     8995\n",
       "2813    28990\n",
       "5284     9999\n",
       "2701     7450\n",
       "        ...  \n",
       "6959    11995\n",
       "8258     9052\n",
       "5952    27000\n",
       "3969    41990\n",
       "6370    12850\n",
       "Name: price, Length: 3752, dtype: int64"
      ]
     },
     "execution_count": 55,
     "metadata": {},
     "output_type": "execute_result"
    }
   ],
   "source": [
    "# Let's examine the target variables of the test set.\n",
    "y_test"
   ]
  },
  {
   "cell_type": "markdown",
   "metadata": {},
   "source": [
    "## 5. Hyperparameter Optimization\n",
    "  \n",
    "* Hyperparameter optimization is a crucial process in machine learning that involves tuning the hyperparameters of a model to achieve the best possible performance on a given task.Hyperparameters are parameters that are set before the learning process begins, and they affect the behavior and performance of the model. Hyperparameter optimization typically involves searching through a predefined hyperparameter space and evaluating the model's performance for each set of hyperparameters. This evaluation is often done using cross-validation, where the dataset is split into multiple subsets, and the model is trained and tested on different combinations of these subsets.\n",
    "There are various techniques for hyperparameter optimization, including:\n",
    "\n",
    "   1. Grid Search: This method exhaustively searches through a manually specified subset of the hyperparameter space.\n",
    "   2. Random Search: This method randomly samples hyperparameters from a predefined distribution and evaluates their performance.\n",
    "   3. Bayesian Optimization: This method models the objective function (e.g., model accuracy) as a probability distribution and uses Bayesian inference to iteratively select hyperparameters that are likely to improve the model's performance.\n"
   ]
  },
  {
   "cell_type": "code",
   "execution_count": 56,
   "metadata": {},
   "outputs": [
    {
     "name": "stdout",
     "output_type": "stream",
     "text": [
      "Fitting 10 folds for each of 180 candidates, totalling 1800 fits\n",
      "{'colsample_bytree': 0.5, 'learning_rate': 0.02, 'max_depth': 6, 'n_estimators': 2000}\n"
     ]
    }
   ],
   "source": [
    "\"\"\" \n",
    "This code fragment performs a Grid Search Cross-Validation to determine the hyperparameters of your XGBoost Regression model. \n",
    "\n",
    "params: A dictionary containing different combinations of hyperparameters that should be tested for the Grid Search process.\n",
    "\n",
    "XGBRegressor: Creates a representative of the XGBoost Regression model.\n",
    "\n",
    "GridSearchCV: Starts the Grid Search Cross-Validation process. This allows to test hyperparameters over a given range and find the best performing hyperparameters.\n",
    "\n",
    "cv: Specifies the number of cross-validation coefficients. Here it is set to 10, meaning 10-fold cross-validation will be performed.\n",
    "\n",
    "n_jobs: Specifies the number of parallel processes. A value of -1 means to use all available processors.\n",
    "\n",
    "verbose: Specifies the level of detail. A value of 2 means that detailed output is displayed during the process.\n",
    "\n",
    "fit(): Starts the Grid Search and finds the best parameters.\n",
    "\n",
    "print(grid.best_params_): Prints the best parameters.\n",
    "\"\"\"\n",
    "paramS = {\n",
    "    \"colsample_bytree\":[0.4,0.5,0.6],\n",
    "    \"learning_rate\":[0.01,0.02,0.09],\n",
    "    \"max_depth\":[2,3,4,5,6],\n",
    "    \"n_estimators\":[100,200,500,2000]\n",
    "}\n",
    "\n",
    "xgb = XGBRegressor()\n",
    "grid = GridSearchCV(xgb,paramS,cv=10,n_jobs=-1,verbose=2)\n",
    "grid.fit(X_train,y_train)\n",
    "print(grid.best_params_)\n"
   ]
  },
  {
   "cell_type": "code",
   "execution_count": 57,
   "metadata": {},
   "outputs": [
    {
     "name": "stdout",
     "output_type": "stream",
     "text": [
      "Best params:  {'colsample_bytree': 0.5, 'learning_rate': 0.02, 'max_depth': 6, 'n_estimators': 2000}\n"
     ]
    }
   ],
   "source": [
    "# Our parameters that we detected in the next step.\n",
    "best_params = \"{'colsample_bytree': 0.5, 'learning_rate': 0.02, 'max_depth': 6, 'n_estimators': 2000}\"\n",
    "print(\"Best params: \",best_params)"
   ]
  },
  {
   "cell_type": "code",
   "execution_count": 58,
   "metadata": {},
   "outputs": [],
   "source": [
    "\"\"\"\n",
    "Model Creation:\n",
    "xgb1 = XGBRegressor(colsample_bytree = 0.5, learning_rate = 0.02, max_depth = 6, n_estimators = 2000): This line creates an instance of the XGBRegressor class with specific hyperparameters:\n",
    "\n",
    "colsample_bytree = 0.5: This parameter controls the fraction of features randomly sampled for splitting at each tree node. A value of 0.5 indicates that 50% of the features are considered for each split.\n",
    "\n",
    "learning_rate = 0.02: This parameter controls the step size used to update the model during training. A smaller value like 0.02 can help prevent overfitting.\n",
    "\n",
    "max_depth = 6: This parameter specifies the maximum depth of individual trees in the ensemble. A value of 6 limits the complexity of each tree.\n",
    "\n",
    "n_estimators = 2000: This parameter defines the number of trees in the ensemble. A value of 2000 indicates that 2000 decision trees will be used in the model.\n",
    "\n",
    "Model Training:\n",
    "\n",
    "model_xgb = xgb1.fit(X_train, y_train): This line trains the XGBoost Regression model on the training data (X_train, y_train).\n",
    "The model learns the relationships between the features in X_train and the target variable y_train.\n",
    "\n",
    "\n",
    "\"\"\"\n",
    "# Let's train our model using these parameters.\n",
    "xgb1 = XGBRegressor(colsample_bytree = 0.5, learning_rate = 0.02, max_depth = 6, n_estimators = 2000)\n",
    "model_xgb = xgb1.fit(X_train, y_train)"
   ]
  },
  {
   "cell_type": "markdown",
   "metadata": {},
   "source": [
    "## 6. Model Evaluation \n",
    " * Model evaluation is done to understand the performance of a trained machine learning model and to assess its accuracy, reliability or effectiveness. Model evaluation attempts to determine how well the model predicts, classifies or comprehends real-world data.\n",
    "\n",
    "\n"
   ]
  },
  {
   "cell_type": "code",
   "execution_count": 59,
   "metadata": {},
   "outputs": [
    {
     "name": "stdout",
     "output_type": "stream",
     "text": [
      "Tahminler:  [12552.607  10151.517  25062.967  22014.924   7939.8916]\n",
      "Gerçek değerler:  3578     12695\n",
      "8970     10690\n",
      "11014    21750\n",
      "821      23995\n",
      "7214      7898\n",
      "Name: price, dtype: int64\n"
     ]
    }
   ],
   "source": [
    "\"\"\"\n",
    "The purpose of predict() is to make predictions on new data using a pre-trained machine learning model.\n",
    "\"\"\"\n",
    "\n",
    "# Let's perform a prediction on test data\n",
    "print(\"Tahminler: \",model_xgb.predict(X_test)[15:20])\n",
    "print(\"Gerçek değerler: \", y_test[15:20])\n"
   ]
  },
  {
   "cell_type": "code",
   "execution_count": 60,
   "metadata": {},
   "outputs": [
    {
     "name": "stdout",
     "output_type": "stream",
     "text": [
      "Test score:  0.9637001307264234\n"
     ]
    }
   ],
   "source": [
    "\"\"\"\n",
    "The score() method typically calculates a specific metric to assess the model's performance on a given dataset. \n",
    "In this case, the default metric used by XGBoost's score() method is the coefficient of determination (R^2).\n",
    "\n",
    "The score() method takes two arguments:\n",
    "X_test: The testing feature matrix containing unseen data that the model has not been trained on.\n",
    "y_test: The testing target vector containing the true values for the target variable in the testing data.\n",
    "\n",
    "The model applies its predictions to the testing data using the predict() method internally.\n",
    "The score() method then compares the predicted values with the true values in y_test and calculates the R^2 score.\n",
    "\n",
    "R^2 Score:\n",
    "The R^2 score is a common metric used for regression tasks. It measures the proportion of variance in the target variable that can be explained by the model.\n",
    "A value of 1 indicates a perfect fit, where the model perfectly predicts the target variable. A value closer to 0 indicates a poorer fit.\n",
    "\n",
    "\"\"\"\n",
    "\n",
    "\n",
    "# Our test score is the success rate of our model, it can be a maximum of 1 (unlikely but possible).\n",
    "\n",
    "print(\"Test score: \",model_xgb.score(X_test,y_test))"
   ]
  },
  {
   "cell_type": "code",
   "execution_count": 61,
   "metadata": {},
   "outputs": [
    {
     "name": "stdout",
     "output_type": "stream",
     "text": [
      "              Importance\n",
      "model           0.088342\n",
      "year            0.198508\n",
      "transmission    0.047434\n",
      "mileage         0.052818\n",
      "fuelType        0.067591\n",
      "tax             0.092759\n",
      "mpg             0.231616\n",
      "engineSize      0.220933\n"
     ]
    }
   ],
   "source": [
    "\"\"\"\n",
    "\n",
    "pd.DataFrame: This line imports the DataFrame class from the Pandas library. DataFrames are powerful data structures in Python that allow you to organize and manipulate tabular data efficiently.\n",
    "\n",
    "The code creates a DataFrame with two main components:\n",
    "\"Importance\" Column: This column stores the feature importances obtained from the XGBoost model. Feature importance indicates how much each feature in your training data (X_train) contributed to the model's predictions.\n",
    "Index: The index of the DataFrame is set to the column names of your training data (X_train.columns). This ensures that each feature importance value is associated with the corresponding feature name.\n",
    "\n",
    "\"\"\"\n",
    "\n",
    "# We can optimize by examining the importance ranking of the features that our model itself detects.\n",
    "importance = pd.DataFrame({\n",
    "    \"Importance\":model_xgb.feature_importances_},\n",
    "    index=X_train.columns\n",
    "    )\n",
    "\n",
    "print(importance)"
   ]
  },
  {
   "cell_type": "code",
   "execution_count": 62,
   "metadata": {},
   "outputs": [
    {
     "data": {
      "text/html": [
       "<div>\n",
       "<style scoped>\n",
       "    .dataframe tbody tr th:only-of-type {\n",
       "        vertical-align: middle;\n",
       "    }\n",
       "\n",
       "    .dataframe tbody tr th {\n",
       "        vertical-align: top;\n",
       "    }\n",
       "\n",
       "    .dataframe thead th {\n",
       "        text-align: right;\n",
       "    }\n",
       "</style>\n",
       "<table border=\"1\" class=\"dataframe\">\n",
       "  <thead>\n",
       "    <tr style=\"text-align: right;\">\n",
       "      <th></th>\n",
       "      <th>model</th>\n",
       "      <th>year</th>\n",
       "      <th>transmission</th>\n",
       "      <th>mileage</th>\n",
       "      <th>fuelType</th>\n",
       "      <th>tax</th>\n",
       "      <th>mpg</th>\n",
       "      <th>engineSize</th>\n",
       "    </tr>\n",
       "  </thead>\n",
       "  <tbody>\n",
       "    <tr>\n",
       "      <th>3578</th>\n",
       "      <td>12</td>\n",
       "      <td>2016</td>\n",
       "      <td>2</td>\n",
       "      <td>41424</td>\n",
       "      <td>3</td>\n",
       "      <td>30</td>\n",
       "      <td>53.3</td>\n",
       "      <td>1.4</td>\n",
       "    </tr>\n",
       "    <tr>\n",
       "      <th>8970</th>\n",
       "      <td>16</td>\n",
       "      <td>2017</td>\n",
       "      <td>1</td>\n",
       "      <td>35861</td>\n",
       "      <td>3</td>\n",
       "      <td>150</td>\n",
       "      <td>60.1</td>\n",
       "      <td>1.2</td>\n",
       "    </tr>\n",
       "    <tr>\n",
       "      <th>11014</th>\n",
       "      <td>22</td>\n",
       "      <td>2018</td>\n",
       "      <td>2</td>\n",
       "      <td>14446</td>\n",
       "      <td>0</td>\n",
       "      <td>145</td>\n",
       "      <td>40.4</td>\n",
       "      <td>2.0</td>\n",
       "    </tr>\n",
       "    <tr>\n",
       "      <th>821</th>\n",
       "      <td>12</td>\n",
       "      <td>2019</td>\n",
       "      <td>2</td>\n",
       "      <td>10</td>\n",
       "      <td>3</td>\n",
       "      <td>145</td>\n",
       "      <td>45.6</td>\n",
       "      <td>1.5</td>\n",
       "    </tr>\n",
       "    <tr>\n",
       "      <th>7214</th>\n",
       "      <td>16</td>\n",
       "      <td>2015</td>\n",
       "      <td>1</td>\n",
       "      <td>29768</td>\n",
       "      <td>3</td>\n",
       "      <td>20</td>\n",
       "      <td>60.1</td>\n",
       "      <td>1.0</td>\n",
       "    </tr>\n",
       "  </tbody>\n",
       "</table>\n",
       "</div>"
      ],
      "text/plain": [
       "       model  year  transmission  mileage  fuelType  tax   mpg  engineSize\n",
       "3578      12  2016             2    41424         3   30  53.3         1.4\n",
       "8970      16  2017             1    35861         3  150  60.1         1.2\n",
       "11014     22  2018             2    14446         0  145  40.4         2.0\n",
       "821       12  2019             2       10         3  145  45.6         1.5\n",
       "7214      16  2015             1    29768         3   20  60.1         1.0"
      ]
     },
     "execution_count": 62,
     "metadata": {},
     "output_type": "execute_result"
    }
   ],
   "source": [
    "# Let's examine a subset of the test dataset.\n",
    "X_test[15:20]"
   ]
  },
  {
   "cell_type": "code",
   "execution_count": 63,
   "metadata": {},
   "outputs": [
    {
     "data": {
      "text/plain": [
       "3578     12695\n",
       "8970     10690\n",
       "11014    21750\n",
       "821      23995\n",
       "7214      7898\n",
       "Name: price, dtype: int64"
      ]
     },
     "execution_count": 63,
     "metadata": {},
     "output_type": "execute_result"
    }
   ],
   "source": [
    "# Let's examine the target variable values of a subset of the test dataset. \n",
    "y_test[15:20]"
   ]
  },
  {
   "cell_type": "markdown",
   "metadata": {},
   "source": [
    "## 7. Prediction"
   ]
  },
  {
   "cell_type": "code",
   "execution_count": 65,
   "metadata": {},
   "outputs": [
    {
     "data": {
      "text/plain": [
       "array([12552.607], dtype=float32)"
      ]
     },
     "execution_count": 65,
     "metadata": {},
     "output_type": "execute_result"
    }
   ],
   "source": [
    "# Let's examine the prediction of our model by entering features.\n",
    "model = 12\n",
    "year = 2016\n",
    "transmission = 2\n",
    "mileage = 41424\n",
    "fuelType = 3\n",
    "tax = 30\n",
    "mpg = 53.3\n",
    "engineSize = 1.4\n",
    "predict_data = [[model],[year],[transmission],[mileage],[fuelType],[tax],[mpg],[engineSize]]\n",
    "dataFrame2 = pd.DataFrame([[model, year, transmission, mileage, fuelType, tax, mpg, engineSize]], columns=['model', 'year', 'transmission', 'mileage', 'fuelType', 'tax', 'mpg', 'engineSize'])\n",
    "model_xgb.predict(dataFrame2)\n"
   ]
  },
  {
   "cell_type": "code",
   "execution_count": 131,
   "metadata": {},
   "outputs": [
    {
     "name": "stdout",
     "output_type": "stream",
     "text": [
      "model:  Arteon year: 2019 transmission: Automatic mileage: 47581 fuelType: Hybrid tax: 75 mpg: 97.44761740632211 engineSize: 1.6255810666237962\n",
      "Predicted car price: 18090.043\n"
     ]
    }
   ],
   "source": [
    "\n",
    "def predict_car_price(model, year, transmission, mileage, fuelType, tax, mpg, engineSize):\n",
    "    # Veri çerçevesi oluşturma\n",
    "    dataFrame = pd.DataFrame({\n",
    "        'model': [model],\n",
    "        'year': [year],\n",
    "        'transmission': [transmission],\n",
    "        'mileage': [mileage],\n",
    "        'fuelType': [fuelType],\n",
    "        'tax': [tax],\n",
    "        'mpg': [mpg],\n",
    "        'engineSize': [engineSize]\n",
    "    })\n",
    "\n",
    "    # Tahmin yapma\n",
    "    prediction = model_xgb.predict(dataFrame)\n",
    "\n",
    "    return prediction[0]  # Tahmini döndürme\n",
    "\n",
    "# Rastgele değerler oluşturma\n",
    "model = np.random.randint(0, 27)  # 1 ile 20 arasında rastgele bir model seçme\n",
    "year = np.random.randint(2000, 2023)  # 2000 ile 2022 arasında rastgele bir yıl seçme\n",
    "transmission = np.random.randint(0, 3)  # 1 ile 2 arasında rastgele bir şanzıman seçme\n",
    "mileage = np.random.randint(1000, 100000)  # 1000 ile 100000 arasında rastgele bir kilometre seçme\n",
    "fuelType = np.random.randint(0, 4)  # 1 ile 3 arasında rastgele bir yakıt türü seçme\n",
    "tax = np.random.randint(0, 100)  # 0 ile 100 arasında rastgele bir vergi seçme\n",
    "mpg = np.random.uniform(10, 100)  # 10 ile 100 arasında rastgele bir yakıt tüketimi seçme\n",
    "engineSize = np.random.uniform(1, 5)  # 1 ile 5 arasında rastgele bir motor hacmi seçme\n",
    "\n",
    "# Tahmin işlemi\n",
    "predicted_price = predict_car_price(model, year, transmission, mileage, fuelType, tax, mpg, engineSize)\n",
    "print( \"model:\",listCarModel[model], \"year:\",year, \"transmission:\",listTransmission[transmission],\"mileage:\", mileage,\"fuelType:\", listfuelType[fuelType], \"tax:\",tax,\"mpg:\",mpg, \"engineSize:\",engineSize)\n",
    "print(\"Predicted car price:\", predicted_price)\n"
   ]
  }
 ],
 "metadata": {
  "kernelspec": {
   "display_name": "Python 3",
   "language": "python",
   "name": "python3"
  },
  "language_info": {
   "codemirror_mode": {
    "name": "ipython",
    "version": 3
   },
   "file_extension": ".py",
   "mimetype": "text/x-python",
   "name": "python",
   "nbconvert_exporter": "python",
   "pygments_lexer": "ipython3",
   "version": "3.11.9"
  }
 },
 "nbformat": 4,
 "nbformat_minor": 2
}
